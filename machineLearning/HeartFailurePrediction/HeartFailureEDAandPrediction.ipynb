{
 "cells": [
  {
   "cell_type": "markdown",
   "metadata": {
    "papermill": {
     "duration": 0.072664,
     "end_time": "2021-07-13T06:13:52.151915",
     "exception": false,
     "start_time": "2021-07-13T06:13:52.079251",
     "status": "completed"
    },
    "tags": []
   },
   "source": [
    "# **ABOUT DATA**"
   ]
  },
  {
   "cell_type": "markdown",
   "metadata": {
    "papermill": {
     "duration": 0.070815,
     "end_time": "2021-07-13T06:13:52.293468",
     "exception": false,
     "start_time": "2021-07-13T06:13:52.222653",
     "status": "completed"
    },
    "tags": []
   },
   "source": [
    "![](https://www.anatomynote.com/wp-content/uploads/2018/09/25/Anatomy-of-the-human-heart.jpg)"
   ]
  },
  {
   "cell_type": "markdown",
   "metadata": {
    "papermill": {
     "duration": 0.071634,
     "end_time": "2021-07-13T06:13:52.436490",
     "exception": false,
     "start_time": "2021-07-13T06:13:52.364856",
     "status": "completed"
    },
    "tags": []
   },
   "source": [
    "There are some factors that affects Death Event. This dataset contains person's information like age ,sex , blood pressure, smoke, diabetes,ejection fraction, creatinine phosphokinase, serum_creatinine,  serum_sodium, time and we have to predict their DEATH EVENT."
   ]
  },
  {
   "cell_type": "code",
   "execution_count": 1,
   "metadata": {
    "_cell_guid": "b1076dfc-b9ad-4769-8c92-a6c4dae69d19",
    "_uuid": "8f2839f25d086af736a60e9eeb907d3b93b6e0e5",
    "execution": {
     "iopub.execute_input": "2021-07-13T06:13:52.587287Z",
     "iopub.status.busy": "2021-07-13T06:13:52.586611Z",
     "iopub.status.idle": "2021-07-13T06:13:52.602257Z",
     "shell.execute_reply": "2021-07-13T06:13:52.601723Z",
     "shell.execute_reply.started": "2021-07-13T06:04:47.506258Z"
    },
    "papermill": {
     "duration": 0.093891,
     "end_time": "2021-07-13T06:13:52.602366",
     "exception": false,
     "start_time": "2021-07-13T06:13:52.508475",
     "status": "completed"
    },
    "tags": []
   },
   "outputs": [],
   "source": [
    "\n",
    "import numpy as np # linear algebra\n",
    "import pandas as pd # data processing, CSV file I/O (e.g. pd.read_csv)\n"
   ]
  },
  {
   "cell_type": "code",
   "execution_count": 3,
   "metadata": {},
   "outputs": [
    {
     "name": "stdout",
     "output_type": "stream",
     "text": [
      "Collecting xgboost\n",
      "  Downloading xgboost-1.4.2.tar.gz (716 kB)\n",
      "Requirement already satisfied: numpy in c:\\programdata\\anaconda3\\lib\\site-packages (from xgboost) (1.19.2)\n",
      "Requirement already satisfied: scipy in c:\\programdata\\anaconda3\\lib\\site-packages (from xgboost) (1.5.2)\n",
      "Building wheels for collected packages: xgboost\n",
      "  Building wheel for xgboost (setup.py): started\n",
      "  Building wheel for xgboost (setup.py): finished with status 'error'\n",
      "  Running setup.py clean for xgboost\n",
      "Failed to build xgboost\n",
      "Installing collected packages: xgboost\n",
      "    Running setup.py install for xgboost: started\n",
      "    Running setup.py install for xgboost: finished with status 'error'\n"
     ]
    },
    {
     "name": "stderr",
     "output_type": "stream",
     "text": [
      "  ERROR: Command errored out with exit status 1:\n",
      "   command: 'C:\\ProgramData\\Anaconda3\\python.exe' -u -c 'import sys, setuptools, tokenize; sys.argv[0] = '\"'\"'C:\\\\Users\\\\ACER\\\\AppData\\\\Local\\\\Temp\\\\pip-install-np9iw73b\\\\xgboost\\\\setup.py'\"'\"'; __file__='\"'\"'C:\\\\Users\\\\ACER\\\\AppData\\\\Local\\\\Temp\\\\pip-install-np9iw73b\\\\xgboost\\\\setup.py'\"'\"';f=getattr(tokenize, '\"'\"'open'\"'\"', open)(__file__);code=f.read().replace('\"'\"'\\r\\n'\"'\"', '\"'\"'\\n'\"'\"');f.close();exec(compile(code, __file__, '\"'\"'exec'\"'\"'))' bdist_wheel -d 'C:\\Users\\ACER\\AppData\\Local\\Temp\\pip-wheel-fsx3j20g'\n",
      "       cwd: C:\\Users\\ACER\\AppData\\Local\\Temp\\pip-install-np9iw73b\\xgboost\\\n",
      "  Complete output (775 lines):\n",
      "  running bdist_wheel\n",
      "  running build\n",
      "  running build_py\n",
      "  creating build\n",
      "  creating build\\lib.win32-3.8\n",
      "  creating build\\lib.win32-3.8\\xgboost\n",
      "  copying xgboost\\callback.py -> build\\lib.win32-3.8\\xgboost\n",
      "  copying xgboost\\compat.py -> build\\lib.win32-3.8\\xgboost\n",
      "  copying xgboost\\config.py -> build\\lib.win32-3.8\\xgboost\n",
      "  copying xgboost\\core.py -> build\\lib.win32-3.8\\xgboost\n",
      "  copying xgboost\\dask.py -> build\\lib.win32-3.8\\xgboost\n",
      "  copying xgboost\\data.py -> build\\lib.win32-3.8\\xgboost\n",
      "  copying xgboost\\libpath.py -> build\\lib.win32-3.8\\xgboost\n",
      "  copying xgboost\\plotting.py -> build\\lib.win32-3.8\\xgboost\n",
      "  copying xgboost\\rabit.py -> build\\lib.win32-3.8\\xgboost\n",
      "  copying xgboost\\sklearn.py -> build\\lib.win32-3.8\\xgboost\n",
      "  copying xgboost\\tracker.py -> build\\lib.win32-3.8\\xgboost\n",
      "  copying xgboost\\training.py -> build\\lib.win32-3.8\\xgboost\n",
      "  copying xgboost\\__init__.py -> build\\lib.win32-3.8\\xgboost\n",
      "  running egg_info\n",
      "  writing xgboost.egg-info\\PKG-INFO\n",
      "  writing dependency_links to xgboost.egg-info\\dependency_links.txt\n",
      "  writing requirements to xgboost.egg-info\\requires.txt\n",
      "  writing top-level names to xgboost.egg-info\\top_level.txt\n",
      "  reading manifest file 'xgboost.egg-info\\SOURCES.txt'\n",
      "  reading manifest template 'MANIFEST.in'\n",
      "  warning: no previously-included files found matching 'xgboost\\cmake\\RPackageInstall.cmake.in'\n",
      "  warning: no previously-included files found matching 'xgboost\\cmake\\RPackageInstallTargetSetup.cmake'\n",
      "  warning: no previously-included files found matching 'xgboost\\cmake\\Sanitizer.cmake'\n",
      "  warning: no previously-included files found matching 'xgboost\\cmake\\modules\\FindASan.cmake'\n",
      "  warning: no previously-included files found matching 'xgboost\\cmake\\modules\\FindLSan.cmake'\n",
      "  warning: no previously-included files found matching 'xgboost\\cmake\\modules\\FindLibR.cmake'\n",
      "  warning: no previously-included files found matching 'xgboost\\cmake\\modules\\FindTSan.cmake'\n",
      "  warning: no previously-included files found matching 'xgboost\\cmake\\modules\\FindUBSan.cmake'\n",
      "  no previously-included directories found matching 'xgboost\\rabit\\doc'\n",
      "  no previously-included directories found matching 'xgboost\\rabit\\guide'\n",
      "  warning: no previously-included files found matching 'xgboost\\dmlc-core\\cmake\\gtest_cmake.in'\n",
      "  warning: no previously-included files found matching 'xgboost\\dmlc-core\\cmake\\lint.cmake'\n",
      "  warning: no previously-included files found matching 'xgboost\\dmlc-core\\cmake\\Sanitizer.cmake'\n",
      "  warning: no previously-included files found matching 'xgboost\\dmlc-core\\cmake\\Modules\\FindASan.cmake'\n",
      "  warning: no previously-included files found matching 'xgboost\\dmlc-core\\cmake\\Modules\\FindLSan.cmake'\n",
      "  warning: no previously-included files found matching 'xgboost\\dmlc-core\\cmake\\Modules\\FindTSan.cmake'\n",
      "  warning: no previously-included files found matching 'xgboost\\dmlc-core\\cmake\\Modules\\FindUBSan.cmake'\n",
      "  no previously-included directories found matching 'xgboost\\dmlc-core\\doc'\n",
      "  warning: manifest_maker: MANIFEST.in, line 52: path 'xgboost/dmlc-core/scripts/' cannot end with '/'\n",
      "  \n",
      "  warning: no previously-included files matching '*.py[oc]' found anywhere in distribution\n",
      "  writing manifest file 'xgboost.egg-info\\SOURCES.txt'\n",
      "  copying xgboost\\CMakeLists.txt -> build\\lib.win32-3.8\\xgboost\n",
      "  copying xgboost\\LICENSE -> build\\lib.win32-3.8\\xgboost\n",
      "  copying xgboost\\VERSION -> build\\lib.win32-3.8\\xgboost\n",
      "  copying xgboost\\py.typed -> build\\lib.win32-3.8\\xgboost\n",
      "  creating build\\lib.win32-3.8\\xgboost\\cmake\n",
      "  copying xgboost\\cmake\\Doc.cmake -> build\\lib.win32-3.8\\xgboost\\cmake\n",
      "  copying xgboost\\cmake\\FindPrefetchIntrinsics.cmake -> build\\lib.win32-3.8\\xgboost\\cmake\n",
      "  copying xgboost\\cmake\\Python_version.in -> build\\lib.win32-3.8\\xgboost\\cmake\n",
      "  copying xgboost\\cmake\\Utils.cmake -> build\\lib.win32-3.8\\xgboost\\cmake\n",
      "  copying xgboost\\cmake\\Version.cmake -> build\\lib.win32-3.8\\xgboost\\cmake\n",
      "  copying xgboost\\cmake\\version_config.h.in -> build\\lib.win32-3.8\\xgboost\\cmake\n",
      "  copying xgboost\\cmake\\xgboost-config.cmake.in -> build\\lib.win32-3.8\\xgboost\\cmake\n",
      "  copying xgboost\\cmake\\xgboost.pc.in -> build\\lib.win32-3.8\\xgboost\\cmake\n",
      "  creating build\\lib.win32-3.8\\xgboost\\cmake\\modules\n",
      "  copying xgboost\\cmake\\modules\\FindNVML.cmake -> build\\lib.win32-3.8\\xgboost\\cmake\\modules\n",
      "  copying xgboost\\cmake\\modules\\FindNVTX.cmake -> build\\lib.win32-3.8\\xgboost\\cmake\\modules\n",
      "  copying xgboost\\cmake\\modules\\FindNccl.cmake -> build\\lib.win32-3.8\\xgboost\\cmake\\modules\n",
      "  creating build\\lib.win32-3.8\\xgboost\\dmlc-core\n",
      "  copying xgboost\\dmlc-core\\CMakeLists.txt -> build\\lib.win32-3.8\\xgboost\\dmlc-core\n",
      "  creating build\\lib.win32-3.8\\xgboost\\dmlc-core\\cmake\n",
      "  copying xgboost\\dmlc-core\\cmake\\Utils.cmake -> build\\lib.win32-3.8\\xgboost\\dmlc-core\\cmake\n",
      "  copying xgboost\\dmlc-core\\cmake\\build_config.h.in -> build\\lib.win32-3.8\\xgboost\\dmlc-core\\cmake\n",
      "  copying xgboost\\dmlc-core\\cmake\\dmlc-config.cmake.in -> build\\lib.win32-3.8\\xgboost\\dmlc-core\\cmake\n",
      "  creating build\\lib.win32-3.8\\xgboost\\dmlc-core\\cmake\\Modules\n",
      "  copying xgboost\\dmlc-core\\cmake\\Modules\\FindHDFS.cmake -> build\\lib.win32-3.8\\xgboost\\dmlc-core\\cmake\\Modules\n",
      "  creating build\\lib.win32-3.8\\xgboost\\dmlc-core\\include\n",
      "  creating build\\lib.win32-3.8\\xgboost\\dmlc-core\\include\\dmlc\n",
      "  copying xgboost\\dmlc-core\\include\\dmlc\\any.h -> build\\lib.win32-3.8\\xgboost\\dmlc-core\\include\\dmlc\n",
      "  copying xgboost\\dmlc-core\\include\\dmlc\\array_view.h -> build\\lib.win32-3.8\\xgboost\\dmlc-core\\include\\dmlc\n",
      "  copying xgboost\\dmlc-core\\include\\dmlc\\base.h -> build\\lib.win32-3.8\\xgboost\\dmlc-core\\include\\dmlc\n",
      "  copying xgboost\\dmlc-core\\include\\dmlc\\blockingconcurrentqueue.h -> build\\lib.win32-3.8\\xgboost\\dmlc-core\\include\\dmlc\n",
      "  copying xgboost\\dmlc-core\\include\\dmlc\\build_config_default.h -> build\\lib.win32-3.8\\xgboost\\dmlc-core\\include\\dmlc\n",
      "  copying xgboost\\dmlc-core\\include\\dmlc\\common.h -> build\\lib.win32-3.8\\xgboost\\dmlc-core\\include\\dmlc\n",
      "  copying xgboost\\dmlc-core\\include\\dmlc\\concurrency.h -> build\\lib.win32-3.8\\xgboost\\dmlc-core\\include\\dmlc\n",
      "  copying xgboost\\dmlc-core\\include\\dmlc\\concurrentqueue.h -> build\\lib.win32-3.8\\xgboost\\dmlc-core\\include\\dmlc\n",
      "  copying xgboost\\dmlc-core\\include\\dmlc\\config.h -> build\\lib.win32-3.8\\xgboost\\dmlc-core\\include\\dmlc\n",
      "  copying xgboost\\dmlc-core\\include\\dmlc\\data.h -> build\\lib.win32-3.8\\xgboost\\dmlc-core\\include\\dmlc\n",
      "  copying xgboost\\dmlc-core\\include\\dmlc\\endian.h -> build\\lib.win32-3.8\\xgboost\\dmlc-core\\include\\dmlc\n",
      "  copying xgboost\\dmlc-core\\include\\dmlc\\filesystem.h -> build\\lib.win32-3.8\\xgboost\\dmlc-core\\include\\dmlc\n",
      "  copying xgboost\\dmlc-core\\include\\dmlc\\input_split_shuffle.h -> build\\lib.win32-3.8\\xgboost\\dmlc-core\\include\\dmlc\n",
      "  copying xgboost\\dmlc-core\\include\\dmlc\\io.h -> build\\lib.win32-3.8\\xgboost\\dmlc-core\\include\\dmlc\n",
      "  copying xgboost\\dmlc-core\\include\\dmlc\\json.h -> build\\lib.win32-3.8\\xgboost\\dmlc-core\\include\\dmlc\n",
      "  copying xgboost\\dmlc-core\\include\\dmlc\\logging.h -> build\\lib.win32-3.8\\xgboost\\dmlc-core\\include\\dmlc\n",
      "  copying xgboost\\dmlc-core\\include\\dmlc\\lua.h -> build\\lib.win32-3.8\\xgboost\\dmlc-core\\include\\dmlc\n",
      "  copying xgboost\\dmlc-core\\include\\dmlc\\memory.h -> build\\lib.win32-3.8\\xgboost\\dmlc-core\\include\\dmlc\n",
      "  copying xgboost\\dmlc-core\\include\\dmlc\\memory_io.h -> build\\lib.win32-3.8\\xgboost\\dmlc-core\\include\\dmlc\n",
      "  copying xgboost\\dmlc-core\\include\\dmlc\\omp.h -> build\\lib.win32-3.8\\xgboost\\dmlc-core\\include\\dmlc\n",
      "  copying xgboost\\dmlc-core\\include\\dmlc\\optional.h -> build\\lib.win32-3.8\\xgboost\\dmlc-core\\include\\dmlc\n",
      "  copying xgboost\\dmlc-core\\include\\dmlc\\parameter.h -> build\\lib.win32-3.8\\xgboost\\dmlc-core\\include\\dmlc\n",
      "  copying xgboost\\dmlc-core\\include\\dmlc\\recordio.h -> build\\lib.win32-3.8\\xgboost\\dmlc-core\\include\\dmlc\n",
      "  copying xgboost\\dmlc-core\\include\\dmlc\\registry.h -> build\\lib.win32-3.8\\xgboost\\dmlc-core\\include\\dmlc\n",
      "  copying xgboost\\dmlc-core\\include\\dmlc\\serializer.h -> build\\lib.win32-3.8\\xgboost\\dmlc-core\\include\\dmlc\n",
      "  copying xgboost\\dmlc-core\\include\\dmlc\\strtonum.h -> build\\lib.win32-3.8\\xgboost\\dmlc-core\\include\\dmlc\n",
      "  copying xgboost\\dmlc-core\\include\\dmlc\\thread_group.h -> build\\lib.win32-3.8\\xgboost\\dmlc-core\\include\\dmlc\n",
      "  copying xgboost\\dmlc-core\\include\\dmlc\\thread_local.h -> build\\lib.win32-3.8\\xgboost\\dmlc-core\\include\\dmlc\n",
      "  copying xgboost\\dmlc-core\\include\\dmlc\\threadediter.h -> build\\lib.win32-3.8\\xgboost\\dmlc-core\\include\\dmlc\n",
      "  copying xgboost\\dmlc-core\\include\\dmlc\\timer.h -> build\\lib.win32-3.8\\xgboost\\dmlc-core\\include\\dmlc\n",
      "  copying xgboost\\dmlc-core\\include\\dmlc\\type_traits.h -> build\\lib.win32-3.8\\xgboost\\dmlc-core\\include\\dmlc\n",
      "  creating build\\lib.win32-3.8\\xgboost\\dmlc-core\\make\n",
      "  copying xgboost\\dmlc-core\\make\\config.mk -> build\\lib.win32-3.8\\xgboost\\dmlc-core\\make\n",
      "  copying xgboost\\dmlc-core\\make\\dmlc.mk -> build\\lib.win32-3.8\\xgboost\\dmlc-core\\make\n",
      "  creating build\\lib.win32-3.8\\xgboost\\dmlc-core\\src\n",
      "  copying xgboost\\dmlc-core\\src\\config.cc -> build\\lib.win32-3.8\\xgboost\\dmlc-core\\src\n",
      "  copying xgboost\\dmlc-core\\src\\data.cc -> build\\lib.win32-3.8\\xgboost\\dmlc-core\\src\n",
      "  copying xgboost\\dmlc-core\\src\\io.cc -> build\\lib.win32-3.8\\xgboost\\dmlc-core\\src\n",
      "  copying xgboost\\dmlc-core\\src\\recordio.cc -> build\\lib.win32-3.8\\xgboost\\dmlc-core\\src\n",
      "  creating build\\lib.win32-3.8\\xgboost\\dmlc-core\\src\\data\n",
      "  copying xgboost\\dmlc-core\\src\\data\\basic_row_iter.h -> build\\lib.win32-3.8\\xgboost\\dmlc-core\\src\\data\n",
      "  copying xgboost\\dmlc-core\\src\\data\\csv_parser.h -> build\\lib.win32-3.8\\xgboost\\dmlc-core\\src\\data\n",
      "  copying xgboost\\dmlc-core\\src\\data\\disk_row_iter.h -> build\\lib.win32-3.8\\xgboost\\dmlc-core\\src\\data\n",
      "  copying xgboost\\dmlc-core\\src\\data\\libfm_parser.h -> build\\lib.win32-3.8\\xgboost\\dmlc-core\\src\\data\n",
      "  copying xgboost\\dmlc-core\\src\\data\\libsvm_parser.h -> build\\lib.win32-3.8\\xgboost\\dmlc-core\\src\\data\n",
      "  copying xgboost\\dmlc-core\\src\\data\\parser.h -> build\\lib.win32-3.8\\xgboost\\dmlc-core\\src\\data\n",
      "  copying xgboost\\dmlc-core\\src\\data\\row_block.h -> build\\lib.win32-3.8\\xgboost\\dmlc-core\\src\\data\n",
      "  copying xgboost\\dmlc-core\\src\\data\\text_parser.h -> build\\lib.win32-3.8\\xgboost\\dmlc-core\\src\\data\n",
      "  creating build\\lib.win32-3.8\\xgboost\\dmlc-core\\src\\io\n",
      "  copying xgboost\\dmlc-core\\src\\io\\azure_filesys.cc -> build\\lib.win32-3.8\\xgboost\\dmlc-core\\src\\io\n",
      "  copying xgboost\\dmlc-core\\src\\io\\azure_filesys.h -> build\\lib.win32-3.8\\xgboost\\dmlc-core\\src\\io\n",
      "  copying xgboost\\dmlc-core\\src\\io\\cached_input_split.h -> build\\lib.win32-3.8\\xgboost\\dmlc-core\\src\\io\n",
      "  copying xgboost\\dmlc-core\\src\\io\\filesys.cc -> build\\lib.win32-3.8\\xgboost\\dmlc-core\\src\\io\n",
      "  copying xgboost\\dmlc-core\\src\\io\\hdfs_filesys.cc -> build\\lib.win32-3.8\\xgboost\\dmlc-core\\src\\io\n",
      "  copying xgboost\\dmlc-core\\src\\io\\hdfs_filesys.h -> build\\lib.win32-3.8\\xgboost\\dmlc-core\\src\\io\n",
      "  copying xgboost\\dmlc-core\\src\\io\\indexed_recordio_split.cc -> build\\lib.win32-3.8\\xgboost\\dmlc-core\\src\\io\n",
      "  copying xgboost\\dmlc-core\\src\\io\\indexed_recordio_split.h -> build\\lib.win32-3.8\\xgboost\\dmlc-core\\src\\io\n",
      "  copying xgboost\\dmlc-core\\src\\io\\input_split_base.cc -> build\\lib.win32-3.8\\xgboost\\dmlc-core\\src\\io\n",
      "  copying xgboost\\dmlc-core\\src\\io\\input_split_base.h -> build\\lib.win32-3.8\\xgboost\\dmlc-core\\src\\io\n",
      "  copying xgboost\\dmlc-core\\src\\io\\line_split.cc -> build\\lib.win32-3.8\\xgboost\\dmlc-core\\src\\io\n",
      "  copying xgboost\\dmlc-core\\src\\io\\line_split.h -> build\\lib.win32-3.8\\xgboost\\dmlc-core\\src\\io\n",
      "  copying xgboost\\dmlc-core\\src\\io\\local_filesys.cc -> build\\lib.win32-3.8\\xgboost\\dmlc-core\\src\\io\n",
      "  copying xgboost\\dmlc-core\\src\\io\\local_filesys.h -> build\\lib.win32-3.8\\xgboost\\dmlc-core\\src\\io\n",
      "  copying xgboost\\dmlc-core\\src\\io\\recordio_split.cc -> build\\lib.win32-3.8\\xgboost\\dmlc-core\\src\\io\n",
      "  copying xgboost\\dmlc-core\\src\\io\\recordio_split.h -> build\\lib.win32-3.8\\xgboost\\dmlc-core\\src\\io\n",
      "  copying xgboost\\dmlc-core\\src\\io\\s3_filesys.cc -> build\\lib.win32-3.8\\xgboost\\dmlc-core\\src\\io\n",
      "  copying xgboost\\dmlc-core\\src\\io\\s3_filesys.h -> build\\lib.win32-3.8\\xgboost\\dmlc-core\\src\\io\n",
      "  copying xgboost\\dmlc-core\\src\\io\\single_file_split.h -> build\\lib.win32-3.8\\xgboost\\dmlc-core\\src\\io\n",
      "  copying xgboost\\dmlc-core\\src\\io\\single_threaded_input_split.h -> build\\lib.win32-3.8\\xgboost\\dmlc-core\\src\\io\n",
      "  copying xgboost\\dmlc-core\\src\\io\\threaded_input_split.h -> build\\lib.win32-3.8\\xgboost\\dmlc-core\\src\\io\n",
      "  copying xgboost\\dmlc-core\\src\\io\\uri_spec.h -> build\\lib.win32-3.8\\xgboost\\dmlc-core\\src\\io\n"
     ]
    },
    {
     "name": "stderr",
     "output_type": "stream",
     "text": [
      "  creating build\\lib.win32-3.8\\xgboost\\dmlc-core\\tracker\n",
      "  copying xgboost\\dmlc-core\\tracker\\dmlc-submit -> build\\lib.win32-3.8\\xgboost\\dmlc-core\\tracker\n",
      "  creating build\\lib.win32-3.8\\xgboost\\dmlc-core\\tracker\\dmlc_tracker\n",
      "  copying xgboost\\dmlc-core\\tracker\\dmlc_tracker\\__init__.py -> build\\lib.win32-3.8\\xgboost\\dmlc-core\\tracker\\dmlc_tracker\n",
      "  copying xgboost\\dmlc-core\\tracker\\dmlc_tracker\\kubernetes.py -> build\\lib.win32-3.8\\xgboost\\dmlc-core\\tracker\\dmlc_tracker\n",
      "  copying xgboost\\dmlc-core\\tracker\\dmlc_tracker\\launcher.py -> build\\lib.win32-3.8\\xgboost\\dmlc-core\\tracker\\dmlc_tracker\n",
      "  copying xgboost\\dmlc-core\\tracker\\dmlc_tracker\\local.py -> build\\lib.win32-3.8\\xgboost\\dmlc-core\\tracker\\dmlc_tracker\n",
      "  copying xgboost\\dmlc-core\\tracker\\dmlc_tracker\\mesos.py -> build\\lib.win32-3.8\\xgboost\\dmlc-core\\tracker\\dmlc_tracker\n",
      "  copying xgboost\\dmlc-core\\tracker\\dmlc_tracker\\mpi.py -> build\\lib.win32-3.8\\xgboost\\dmlc-core\\tracker\\dmlc_tracker\n",
      "  copying xgboost\\dmlc-core\\tracker\\dmlc_tracker\\opts.py -> build\\lib.win32-3.8\\xgboost\\dmlc-core\\tracker\\dmlc_tracker\n",
      "  copying xgboost\\dmlc-core\\tracker\\dmlc_tracker\\sge.py -> build\\lib.win32-3.8\\xgboost\\dmlc-core\\tracker\\dmlc_tracker\n",
      "  copying xgboost\\dmlc-core\\tracker\\dmlc_tracker\\slurm.py -> build\\lib.win32-3.8\\xgboost\\dmlc-core\\tracker\\dmlc_tracker\n",
      "  copying xgboost\\dmlc-core\\tracker\\dmlc_tracker\\ssh.py -> build\\lib.win32-3.8\\xgboost\\dmlc-core\\tracker\\dmlc_tracker\n",
      "  copying xgboost\\dmlc-core\\tracker\\dmlc_tracker\\submit.py -> build\\lib.win32-3.8\\xgboost\\dmlc-core\\tracker\\dmlc_tracker\n",
      "  copying xgboost\\dmlc-core\\tracker\\dmlc_tracker\\tracker.py -> build\\lib.win32-3.8\\xgboost\\dmlc-core\\tracker\\dmlc_tracker\n",
      "  copying xgboost\\dmlc-core\\tracker\\dmlc_tracker\\util.py -> build\\lib.win32-3.8\\xgboost\\dmlc-core\\tracker\\dmlc_tracker\n",
      "  copying xgboost\\dmlc-core\\tracker\\dmlc_tracker\\yarn.py -> build\\lib.win32-3.8\\xgboost\\dmlc-core\\tracker\\dmlc_tracker\n",
      "  creating build\\lib.win32-3.8\\xgboost\\dmlc-core\\tracker\\yarn\n",
      "  copying xgboost\\dmlc-core\\tracker\\yarn\\build.bat -> build\\lib.win32-3.8\\xgboost\\dmlc-core\\tracker\\yarn\n",
      "  copying xgboost\\dmlc-core\\tracker\\yarn\\build.sh -> build\\lib.win32-3.8\\xgboost\\dmlc-core\\tracker\\yarn\n",
      "  copying xgboost\\dmlc-core\\tracker\\yarn\\pom.xml -> build\\lib.win32-3.8\\xgboost\\dmlc-core\\tracker\\yarn\n",
      "  creating build\\lib.win32-3.8\\xgboost\\dmlc-core\\tracker\\yarn\\src\n",
      "  creating build\\lib.win32-3.8\\xgboost\\dmlc-core\\tracker\\yarn\\src\\main\n",
      "  creating build\\lib.win32-3.8\\xgboost\\dmlc-core\\tracker\\yarn\\src\\main\\java\n",
      "  creating build\\lib.win32-3.8\\xgboost\\dmlc-core\\tracker\\yarn\\src\\main\\java\\org\n",
      "  creating build\\lib.win32-3.8\\xgboost\\dmlc-core\\tracker\\yarn\\src\\main\\java\\org\\apache\n",
      "  creating build\\lib.win32-3.8\\xgboost\\dmlc-core\\tracker\\yarn\\src\\main\\java\\org\\apache\\hadoop\n",
      "  creating build\\lib.win32-3.8\\xgboost\\dmlc-core\\tracker\\yarn\\src\\main\\java\\org\\apache\\hadoop\\yarn\n",
      "  creating build\\lib.win32-3.8\\xgboost\\dmlc-core\\tracker\\yarn\\src\\main\\java\\org\\apache\\hadoop\\yarn\\dmlc\n",
      "  copying xgboost\\dmlc-core\\tracker\\yarn\\src\\main\\java\\org\\apache\\hadoop\\yarn\\dmlc\\ApplicationMaster.java -> build\\lib.win32-3.8\\xgboost\\dmlc-core\\tracker\\yarn\\src\\main\\java\\org\\apache\\hadoop\\yarn\\dmlc\n",
      "  copying xgboost\\dmlc-core\\tracker\\yarn\\src\\main\\java\\org\\apache\\hadoop\\yarn\\dmlc\\Client.java -> build\\lib.win32-3.8\\xgboost\\dmlc-core\\tracker\\yarn\\src\\main\\java\\org\\apache\\hadoop\\yarn\\dmlc\n",
      "  copying xgboost\\dmlc-core\\tracker\\yarn\\src\\main\\java\\org\\apache\\hadoop\\yarn\\dmlc\\TaskRecord.java -> build\\lib.win32-3.8\\xgboost\\dmlc-core\\tracker\\yarn\\src\\main\\java\\org\\apache\\hadoop\\yarn\\dmlc\n",
      "  creating build\\lib.win32-3.8\\xgboost\\dmlc-core\\windows\n",
      "  copying xgboost\\dmlc-core\\windows\\dmlc.sln -> build\\lib.win32-3.8\\xgboost\\dmlc-core\\windows\n",
      "  creating build\\lib.win32-3.8\\xgboost\\dmlc-core\\windows\\dmlc\n",
      "  copying xgboost\\dmlc-core\\windows\\dmlc\\dmlc.vcxproj -> build\\lib.win32-3.8\\xgboost\\dmlc-core\\windows\\dmlc\n",
      "  creating build\\lib.win32-3.8\\xgboost\\include\n",
      "  creating build\\lib.win32-3.8\\xgboost\\include\\xgboost\n",
      "  copying xgboost\\include\\xgboost\\base.h -> build\\lib.win32-3.8\\xgboost\\include\\xgboost\n",
      "  copying xgboost\\include\\xgboost\\c_api.h -> build\\lib.win32-3.8\\xgboost\\include\\xgboost\n",
      "  copying xgboost\\include\\xgboost\\data.h -> build\\lib.win32-3.8\\xgboost\\include\\xgboost\n",
      "  copying xgboost\\include\\xgboost\\feature_map.h -> build\\lib.win32-3.8\\xgboost\\include\\xgboost\n",
      "  copying xgboost\\include\\xgboost\\gbm.h -> build\\lib.win32-3.8\\xgboost\\include\\xgboost\n",
      "  copying xgboost\\include\\xgboost\\generic_parameters.h -> build\\lib.win32-3.8\\xgboost\\include\\xgboost\n",
      "  copying xgboost\\include\\xgboost\\global_config.h -> build\\lib.win32-3.8\\xgboost\\include\\xgboost\n",
      "  copying xgboost\\include\\xgboost\\host_device_vector.h -> build\\lib.win32-3.8\\xgboost\\include\\xgboost\n",
      "  copying xgboost\\include\\xgboost\\intrusive_ptr.h -> build\\lib.win32-3.8\\xgboost\\include\\xgboost\n",
      "  copying xgboost\\include\\xgboost\\json.h -> build\\lib.win32-3.8\\xgboost\\include\\xgboost\n",
      "  copying xgboost\\include\\xgboost\\json_io.h -> build\\lib.win32-3.8\\xgboost\\include\\xgboost\n",
      "  copying xgboost\\include\\xgboost\\learner.h -> build\\lib.win32-3.8\\xgboost\\include\\xgboost\n",
      "  copying xgboost\\include\\xgboost\\linear_updater.h -> build\\lib.win32-3.8\\xgboost\\include\\xgboost\n",
      "  copying xgboost\\include\\xgboost\\logging.h -> build\\lib.win32-3.8\\xgboost\\include\\xgboost\n",
      "  copying xgboost\\include\\xgboost\\metric.h -> build\\lib.win32-3.8\\xgboost\\include\\xgboost\n",
      "  copying xgboost\\include\\xgboost\\model.h -> build\\lib.win32-3.8\\xgboost\\include\\xgboost\n",
      "  copying xgboost\\include\\xgboost\\objective.h -> build\\lib.win32-3.8\\xgboost\\include\\xgboost\n",
      "  copying xgboost\\include\\xgboost\\parameter.h -> build\\lib.win32-3.8\\xgboost\\include\\xgboost\n",
      "  copying xgboost\\include\\xgboost\\predictor.h -> build\\lib.win32-3.8\\xgboost\\include\\xgboost\n",
      "  copying xgboost\\include\\xgboost\\span.h -> build\\lib.win32-3.8\\xgboost\\include\\xgboost\n",
      "  copying xgboost\\include\\xgboost\\tree_model.h -> build\\lib.win32-3.8\\xgboost\\include\\xgboost\n",
      "  copying xgboost\\include\\xgboost\\tree_updater.h -> build\\lib.win32-3.8\\xgboost\\include\\xgboost\n",
      "  copying xgboost\\include\\xgboost\\version_config.h -> build\\lib.win32-3.8\\xgboost\\include\\xgboost\n",
      "  creating build\\lib.win32-3.8\\xgboost\\plugin\n",
      "  copying xgboost\\plugin\\CMakeLists.txt -> build\\lib.win32-3.8\\xgboost\\plugin\n",
      "  copying xgboost\\plugin\\README.md -> build\\lib.win32-3.8\\xgboost\\plugin\n",
      "  creating build\\lib.win32-3.8\\xgboost\\plugin\\dense_parser\n",
      "  copying xgboost\\plugin\\dense_parser\\dense_libsvm.cc -> build\\lib.win32-3.8\\xgboost\\plugin\\dense_parser\n",
      "  creating build\\lib.win32-3.8\\xgboost\\plugin\\example\n",
      "  copying xgboost\\plugin\\example\\README.md -> build\\lib.win32-3.8\\xgboost\\plugin\\example\n",
      "  copying xgboost\\plugin\\example\\custom_obj.cc -> build\\lib.win32-3.8\\xgboost\\plugin\\example\n",
      "  creating build\\lib.win32-3.8\\xgboost\\plugin\\lz4\n",
      "  copying xgboost\\plugin\\lz4\\sparse_page_lz4_format.cc -> build\\lib.win32-3.8\\xgboost\\plugin\\lz4\n",
      "  creating build\\lib.win32-3.8\\xgboost\\plugin\\updater_gpu\n",
      "  copying xgboost\\plugin\\updater_gpu\\README.md -> build\\lib.win32-3.8\\xgboost\\plugin\\updater_gpu\n",
      "  creating build\\lib.win32-3.8\\xgboost\\plugin\\updater_oneapi\n",
      "  copying xgboost\\plugin\\updater_oneapi\\README.md -> build\\lib.win32-3.8\\xgboost\\plugin\\updater_oneapi\n",
      "  copying xgboost\\plugin\\updater_oneapi\\predictor_oneapi.cc -> build\\lib.win32-3.8\\xgboost\\plugin\\updater_oneapi\n",
      "  copying xgboost\\plugin\\updater_oneapi\\regression_loss_oneapi.h -> build\\lib.win32-3.8\\xgboost\\plugin\\updater_oneapi\n",
      "  copying xgboost\\plugin\\updater_oneapi\\regression_obj_oneapi.cc -> build\\lib.win32-3.8\\xgboost\\plugin\\updater_oneapi\n",
      "  creating build\\lib.win32-3.8\\xgboost\\rabit\n",
      "  copying xgboost\\rabit\\CMakeLists.txt -> build\\lib.win32-3.8\\xgboost\\rabit\n",
      "  creating build\\lib.win32-3.8\\xgboost\\rabit\\include\n",
      "  creating build\\lib.win32-3.8\\xgboost\\rabit\\include\\rabit\n",
      "  copying xgboost\\rabit\\include\\rabit\\base.h -> build\\lib.win32-3.8\\xgboost\\rabit\\include\\rabit\n",
      "  copying xgboost\\rabit\\include\\rabit\\c_api.h -> build\\lib.win32-3.8\\xgboost\\rabit\\include\\rabit\n",
      "  copying xgboost\\rabit\\include\\rabit\\rabit.h -> build\\lib.win32-3.8\\xgboost\\rabit\\include\\rabit\n",
      "  copying xgboost\\rabit\\include\\rabit\\serializable.h -> build\\lib.win32-3.8\\xgboost\\rabit\\include\\rabit\n",
      "  creating build\\lib.win32-3.8\\xgboost\\rabit\\include\\rabit\\internal\n",
      "  copying xgboost\\rabit\\include\\rabit\\internal\\engine.h -> build\\lib.win32-3.8\\xgboost\\rabit\\include\\rabit\\internal\n",
      "  copying xgboost\\rabit\\include\\rabit\\internal\\io.h -> build\\lib.win32-3.8\\xgboost\\rabit\\include\\rabit\\internal\n",
      "  copying xgboost\\rabit\\include\\rabit\\internal\\rabit-inl.h -> build\\lib.win32-3.8\\xgboost\\rabit\\include\\rabit\\internal\n",
      "  copying xgboost\\rabit\\include\\rabit\\internal\\socket.h -> build\\lib.win32-3.8\\xgboost\\rabit\\include\\rabit\\internal\n",
      "  copying xgboost\\rabit\\include\\rabit\\internal\\utils.h -> build\\lib.win32-3.8\\xgboost\\rabit\\include\\rabit\\internal\n",
      "  creating build\\lib.win32-3.8\\xgboost\\rabit\\src\n",
      "  copying xgboost\\rabit\\src\\allreduce_base.cc -> build\\lib.win32-3.8\\xgboost\\rabit\\src\n",
      "  copying xgboost\\rabit\\src\\allreduce_base.h -> build\\lib.win32-3.8\\xgboost\\rabit\\src\n",
      "  copying xgboost\\rabit\\src\\allreduce_mock.h -> build\\lib.win32-3.8\\xgboost\\rabit\\src\n",
      "  copying xgboost\\rabit\\src\\c_api.cc -> build\\lib.win32-3.8\\xgboost\\rabit\\src\n",
      "  copying xgboost\\rabit\\src\\engine.cc -> build\\lib.win32-3.8\\xgboost\\rabit\\src\n",
      "  copying xgboost\\rabit\\src\\engine_mock.cc -> build\\lib.win32-3.8\\xgboost\\rabit\\src\n",
      "  copying xgboost\\rabit\\src\\engine_mpi.cc -> build\\lib.win32-3.8\\xgboost\\rabit\\src\n",
      "  creating build\\lib.win32-3.8\\xgboost\\src\n",
      "  copying xgboost\\src\\CMakeLists.txt -> build\\lib.win32-3.8\\xgboost\\src\n",
      "  copying xgboost\\src\\cli_main.cc -> build\\lib.win32-3.8\\xgboost\\src\n",
      "  copying xgboost\\src\\global_config.cc -> build\\lib.win32-3.8\\xgboost\\src\n",
      "  copying xgboost\\src\\learner.cc -> build\\lib.win32-3.8\\xgboost\\src\n",
      "  copying xgboost\\src\\logging.cc -> build\\lib.win32-3.8\\xgboost\\src\n",
      "  creating build\\lib.win32-3.8\\xgboost\\src\\c_api\n",
      "  copying xgboost\\src\\c_api\\c_api.cc -> build\\lib.win32-3.8\\xgboost\\src\\c_api\n",
      "  copying xgboost\\src\\c_api\\c_api.cu -> build\\lib.win32-3.8\\xgboost\\src\\c_api\n",
      "  copying xgboost\\src\\c_api\\c_api_error.cc -> build\\lib.win32-3.8\\xgboost\\src\\c_api\n",
      "  copying xgboost\\src\\c_api\\c_api_error.h -> build\\lib.win32-3.8\\xgboost\\src\\c_api\n",
      "  copying xgboost\\src\\c_api\\c_api_utils.h -> build\\lib.win32-3.8\\xgboost\\src\\c_api\n",
      "  creating build\\lib.win32-3.8\\xgboost\\src\\common\n",
      "  copying xgboost\\src\\common\\base64.h -> build\\lib.win32-3.8\\xgboost\\src\\common\n",
      "  copying xgboost\\src\\common\\bitfield.h -> build\\lib.win32-3.8\\xgboost\\src\\common\n",
      "  copying xgboost\\src\\common\\categorical.h -> build\\lib.win32-3.8\\xgboost\\src\\common\n",
      "  copying xgboost\\src\\common\\charconv.cc -> build\\lib.win32-3.8\\xgboost\\src\\common\n",
      "  copying xgboost\\src\\common\\charconv.h -> build\\lib.win32-3.8\\xgboost\\src\\common\n",
      "  copying xgboost\\src\\common\\column_matrix.h -> build\\lib.win32-3.8\\xgboost\\src\\common\n",
      "  copying xgboost\\src\\common\\common.cc -> build\\lib.win32-3.8\\xgboost\\src\\common\n",
      "  copying xgboost\\src\\common\\common.cu -> build\\lib.win32-3.8\\xgboost\\src\\common\n",
      "  copying xgboost\\src\\common\\common.h -> build\\lib.win32-3.8\\xgboost\\src\\common\n",
      "  copying xgboost\\src\\common\\compressed_iterator.h -> build\\lib.win32-3.8\\xgboost\\src\\common\n",
      "  copying xgboost\\src\\common\\config.h -> build\\lib.win32-3.8\\xgboost\\src\\common\n",
      "  copying xgboost\\src\\common\\device_helpers.cu -> build\\lib.win32-3.8\\xgboost\\src\\common\n",
      "  copying xgboost\\src\\common\\device_helpers.cuh -> build\\lib.win32-3.8\\xgboost\\src\\common\n",
      "  copying xgboost\\src\\common\\group_data.h -> build\\lib.win32-3.8\\xgboost\\src\\common\n",
      "  copying xgboost\\src\\common\\hist_util.cc -> build\\lib.win32-3.8\\xgboost\\src\\common\n",
      "  copying xgboost\\src\\common\\hist_util.cu -> build\\lib.win32-3.8\\xgboost\\src\\common\n",
      "  copying xgboost\\src\\common\\hist_util.cuh -> build\\lib.win32-3.8\\xgboost\\src\\common\n",
      "  copying xgboost\\src\\common\\hist_util.h -> build\\lib.win32-3.8\\xgboost\\src\\common\n",
      "  copying xgboost\\src\\common\\host_device_vector.cc -> build\\lib.win32-3.8\\xgboost\\src\\common\n",
      "  copying xgboost\\src\\common\\host_device_vector.cu -> build\\lib.win32-3.8\\xgboost\\src\\common\n",
      "  copying xgboost\\src\\common\\io.cc -> build\\lib.win32-3.8\\xgboost\\src\\common\n",
      "  copying xgboost\\src\\common\\io.h -> build\\lib.win32-3.8\\xgboost\\src\\common\n",
      "  copying xgboost\\src\\common\\json.cc -> build\\lib.win32-3.8\\xgboost\\src\\common\n",
      "  copying xgboost\\src\\common\\math.h -> build\\lib.win32-3.8\\xgboost\\src\\common\n",
      "  copying xgboost\\src\\common\\observer.h -> build\\lib.win32-3.8\\xgboost\\src\\common\n",
      "  copying xgboost\\src\\common\\probability_distribution.h -> build\\lib.win32-3.8\\xgboost\\src\\common\n",
      "  copying xgboost\\src\\common\\quantile.cc -> build\\lib.win32-3.8\\xgboost\\src\\common\n",
      "  copying xgboost\\src\\common\\quantile.cu -> build\\lib.win32-3.8\\xgboost\\src\\common\n",
      "  copying xgboost\\src\\common\\quantile.cuh -> build\\lib.win32-3.8\\xgboost\\src\\common\n",
      "  copying xgboost\\src\\common\\quantile.h -> build\\lib.win32-3.8\\xgboost\\src\\common\n",
      "  copying xgboost\\src\\common\\random.cc -> build\\lib.win32-3.8\\xgboost\\src\\common\n",
      "  copying xgboost\\src\\common\\random.h -> build\\lib.win32-3.8\\xgboost\\src\\common\n",
      "  copying xgboost\\src\\common\\ranking_utils.cuh -> build\\lib.win32-3.8\\xgboost\\src\\common\n",
      "  copying xgboost\\src\\common\\row_set.h -> build\\lib.win32-3.8\\xgboost\\src\\common\n",
      "  copying xgboost\\src\\common\\survival_util.cc -> build\\lib.win32-3.8\\xgboost\\src\\common\n",
      "  copying xgboost\\src\\common\\survival_util.h -> build\\lib.win32-3.8\\xgboost\\src\\common\n",
      "  copying xgboost\\src\\common\\threading_utils.h -> build\\lib.win32-3.8\\xgboost\\src\\common\n",
      "  copying xgboost\\src\\common\\timer.cc -> build\\lib.win32-3.8\\xgboost\\src\\common\n",
      "  copying xgboost\\src\\common\\timer.h -> build\\lib.win32-3.8\\xgboost\\src\\common\n",
      "  copying xgboost\\src\\common\\transform.h -> build\\lib.win32-3.8\\xgboost\\src\\common\n",
      "  copying xgboost\\src\\common\\version.cc -> build\\lib.win32-3.8\\xgboost\\src\\common\n",
      "  copying xgboost\\src\\common\\version.h -> build\\lib.win32-3.8\\xgboost\\src\\common\n",
      "  creating build\\lib.win32-3.8\\xgboost\\src\\data\n",
      "  copying xgboost\\src\\data\\adapter.h -> build\\lib.win32-3.8\\xgboost\\src\\data\n",
      "  copying xgboost\\src\\data\\array_interface.cu -> build\\lib.win32-3.8\\xgboost\\src\\data\n",
      "  copying xgboost\\src\\data\\array_interface.h -> build\\lib.win32-3.8\\xgboost\\src\\data\n",
      "  copying xgboost\\src\\data\\data.cc -> build\\lib.win32-3.8\\xgboost\\src\\data\n",
      "  copying xgboost\\src\\data\\data.cu -> build\\lib.win32-3.8\\xgboost\\src\\data\n",
      "  copying xgboost\\src\\data\\device_adapter.cuh -> build\\lib.win32-3.8\\xgboost\\src\\data\n",
      "  copying xgboost\\src\\data\\ellpack_page.cc -> build\\lib.win32-3.8\\xgboost\\src\\data\n",
      "  copying xgboost\\src\\data\\ellpack_page.cu -> build\\lib.win32-3.8\\xgboost\\src\\data\n",
      "  copying xgboost\\src\\data\\ellpack_page.cuh -> build\\lib.win32-3.8\\xgboost\\src\\data\n",
      "  copying xgboost\\src\\data\\ellpack_page_raw_format.cu -> build\\lib.win32-3.8\\xgboost\\src\\data\n",
      "  copying xgboost\\src\\data\\ellpack_page_source.cc -> build\\lib.win32-3.8\\xgboost\\src\\data\n",
      "  copying xgboost\\src\\data\\ellpack_page_source.cu -> build\\lib.win32-3.8\\xgboost\\src\\data\n",
      "  copying xgboost\\src\\data\\ellpack_page_source.h -> build\\lib.win32-3.8\\xgboost\\src\\data\n",
      "  copying xgboost\\src\\data\\iterative_device_dmatrix.cu -> build\\lib.win32-3.8\\xgboost\\src\\data\n",
      "  copying xgboost\\src\\data\\iterative_device_dmatrix.h -> build\\lib.win32-3.8\\xgboost\\src\\data\n",
      "  copying xgboost\\src\\data\\proxy_dmatrix.cu -> build\\lib.win32-3.8\\xgboost\\src\\data\n",
      "  copying xgboost\\src\\data\\proxy_dmatrix.h -> build\\lib.win32-3.8\\xgboost\\src\\data\n",
      "  copying xgboost\\src\\data\\simple_batch_iterator.h -> build\\lib.win32-3.8\\xgboost\\src\\data\n",
      "  copying xgboost\\src\\data\\simple_dmatrix.cc -> build\\lib.win32-3.8\\xgboost\\src\\data\n",
      "  copying xgboost\\src\\data\\simple_dmatrix.cu -> build\\lib.win32-3.8\\xgboost\\src\\data\n",
      "  copying xgboost\\src\\data\\simple_dmatrix.h -> build\\lib.win32-3.8\\xgboost\\src\\data\n",
      "  copying xgboost\\src\\data\\sparse_page_dmatrix.cc -> build\\lib.win32-3.8\\xgboost\\src\\data\n",
      "  copying xgboost\\src\\data\\sparse_page_dmatrix.h -> build\\lib.win32-3.8\\xgboost\\src\\data\n",
      "  copying xgboost\\src\\data\\sparse_page_raw_format.cc -> build\\lib.win32-3.8\\xgboost\\src\\data\n",
      "  copying xgboost\\src\\data\\sparse_page_source.cc -> build\\lib.win32-3.8\\xgboost\\src\\data\n",
      "  copying xgboost\\src\\data\\sparse_page_source.h -> build\\lib.win32-3.8\\xgboost\\src\\data\n",
      "  copying xgboost\\src\\data\\sparse_page_writer.h -> build\\lib.win32-3.8\\xgboost\\src\\data\n",
      "  creating build\\lib.win32-3.8\\xgboost\\src\\gbm\n",
      "  copying xgboost\\src\\gbm\\gblinear.cc -> build\\lib.win32-3.8\\xgboost\\src\\gbm\n",
      "  copying xgboost\\src\\gbm\\gblinear_model.cc -> build\\lib.win32-3.8\\xgboost\\src\\gbm\n",
      "  copying xgboost\\src\\gbm\\gblinear_model.h -> build\\lib.win32-3.8\\xgboost\\src\\gbm\n",
      "  copying xgboost\\src\\gbm\\gbm.cc -> build\\lib.win32-3.8\\xgboost\\src\\gbm\n",
      "  copying xgboost\\src\\gbm\\gbtree.cc -> build\\lib.win32-3.8\\xgboost\\src\\gbm\n",
      "  copying xgboost\\src\\gbm\\gbtree.cu -> build\\lib.win32-3.8\\xgboost\\src\\gbm\n",
      "  copying xgboost\\src\\gbm\\gbtree.h -> build\\lib.win32-3.8\\xgboost\\src\\gbm\n",
      "  copying xgboost\\src\\gbm\\gbtree_model.cc -> build\\lib.win32-3.8\\xgboost\\src\\gbm\n",
      "  copying xgboost\\src\\gbm\\gbtree_model.h -> build\\lib.win32-3.8\\xgboost\\src\\gbm\n",
      "  creating build\\lib.win32-3.8\\xgboost\\src\\linear\n",
      "  copying xgboost\\src\\linear\\coordinate_common.h -> build\\lib.win32-3.8\\xgboost\\src\\linear\n",
      "  copying xgboost\\src\\linear\\linear_updater.cc -> build\\lib.win32-3.8\\xgboost\\src\\linear\n",
      "  copying xgboost\\src\\linear\\param.h -> build\\lib.win32-3.8\\xgboost\\src\\linear\n",
      "  copying xgboost\\src\\linear\\updater_coordinate.cc -> build\\lib.win32-3.8\\xgboost\\src\\linear\n",
      "  copying xgboost\\src\\linear\\updater_gpu_coordinate.cu -> build\\lib.win32-3.8\\xgboost\\src\\linear\n",
      "  copying xgboost\\src\\linear\\updater_shotgun.cc -> build\\lib.win32-3.8\\xgboost\\src\\linear\n",
      "  creating build\\lib.win32-3.8\\xgboost\\src\\metric\n",
      "  copying xgboost\\src\\metric\\auc.cc -> build\\lib.win32-3.8\\xgboost\\src\\metric\n",
      "  copying xgboost\\src\\metric\\auc.cu -> build\\lib.win32-3.8\\xgboost\\src\\metric\n",
      "  copying xgboost\\src\\metric\\auc.h -> build\\lib.win32-3.8\\xgboost\\src\\metric\n",
      "  copying xgboost\\src\\metric\\elementwise_metric.cc -> build\\lib.win32-3.8\\xgboost\\src\\metric\n",
      "  copying xgboost\\src\\metric\\elementwise_metric.cu -> build\\lib.win32-3.8\\xgboost\\src\\metric\n",
      "  copying xgboost\\src\\metric\\metric.cc -> build\\lib.win32-3.8\\xgboost\\src\\metric\n",
      "  copying xgboost\\src\\metric\\metric_common.h -> build\\lib.win32-3.8\\xgboost\\src\\metric\n",
      "  copying xgboost\\src\\metric\\multiclass_metric.cc -> build\\lib.win32-3.8\\xgboost\\src\\metric\n",
      "  copying xgboost\\src\\metric\\multiclass_metric.cu -> build\\lib.win32-3.8\\xgboost\\src\\metric\n",
      "  copying xgboost\\src\\metric\\rank_metric.cc -> build\\lib.win32-3.8\\xgboost\\src\\metric\n",
      "  copying xgboost\\src\\metric\\rank_metric.cu -> build\\lib.win32-3.8\\xgboost\\src\\metric\n",
      "  copying xgboost\\src\\metric\\survival_metric.cc -> build\\lib.win32-3.8\\xgboost\\src\\metric\n",
      "  copying xgboost\\src\\metric\\survival_metric.cu -> build\\lib.win32-3.8\\xgboost\\src\\metric\n",
      "  creating build\\lib.win32-3.8\\xgboost\\src\\objective\n",
      "  copying xgboost\\src\\objective\\aft_obj.cc -> build\\lib.win32-3.8\\xgboost\\src\\objective\n",
      "  copying xgboost\\src\\objective\\aft_obj.cu -> build\\lib.win32-3.8\\xgboost\\src\\objective\n",
      "  copying xgboost\\src\\objective\\hinge.cc -> build\\lib.win32-3.8\\xgboost\\src\\objective\n",
      "  copying xgboost\\src\\objective\\hinge.cu -> build\\lib.win32-3.8\\xgboost\\src\\objective\n",
      "  copying xgboost\\src\\objective\\multiclass_obj.cc -> build\\lib.win32-3.8\\xgboost\\src\\objective\n",
      "  copying xgboost\\src\\objective\\multiclass_obj.cu -> build\\lib.win32-3.8\\xgboost\\src\\objective\n",
      "  copying xgboost\\src\\objective\\objective.cc -> build\\lib.win32-3.8\\xgboost\\src\\objective\n",
      "  copying xgboost\\src\\objective\\rank_obj.cc -> build\\lib.win32-3.8\\xgboost\\src\\objective\n",
      "  copying xgboost\\src\\objective\\rank_obj.cu -> build\\lib.win32-3.8\\xgboost\\src\\objective\n",
      "  copying xgboost\\src\\objective\\regression_loss.h -> build\\lib.win32-3.8\\xgboost\\src\\objective\n",
      "  copying xgboost\\src\\objective\\regression_obj.cc -> build\\lib.win32-3.8\\xgboost\\src\\objective\n",
      "  copying xgboost\\src\\objective\\regression_obj.cu -> build\\lib.win32-3.8\\xgboost\\src\\objective\n",
      "  creating build\\lib.win32-3.8\\xgboost\\src\\predictor\n",
      "  copying xgboost\\src\\predictor\\cpu_predictor.cc -> build\\lib.win32-3.8\\xgboost\\src\\predictor\n",
      "  copying xgboost\\src\\predictor\\gpu_predictor.cu -> build\\lib.win32-3.8\\xgboost\\src\\predictor\n",
      "  copying xgboost\\src\\predictor\\predictor.cc -> build\\lib.win32-3.8\\xgboost\\src\\predictor\n",
      "  creating build\\lib.win32-3.8\\xgboost\\src\\tree\n",
      "  copying xgboost\\src\\tree\\constraints.cc -> build\\lib.win32-3.8\\xgboost\\src\\tree\n",
      "  copying xgboost\\src\\tree\\constraints.cu -> build\\lib.win32-3.8\\xgboost\\src\\tree\n",
      "  copying xgboost\\src\\tree\\constraints.cuh -> build\\lib.win32-3.8\\xgboost\\src\\tree\n",
      "  copying xgboost\\src\\tree\\constraints.h -> build\\lib.win32-3.8\\xgboost\\src\\tree\n",
      "  copying xgboost\\src\\tree\\param.cc -> build\\lib.win32-3.8\\xgboost\\src\\tree\n",
      "  copying xgboost\\src\\tree\\param.h -> build\\lib.win32-3.8\\xgboost\\src\\tree\n",
      "  copying xgboost\\src\\tree\\split_evaluator.h -> build\\lib.win32-3.8\\xgboost\\src\\tree\n",
      "  copying xgboost\\src\\tree\\tree_model.cc -> build\\lib.win32-3.8\\xgboost\\src\\tree\n",
      "  copying xgboost\\src\\tree\\tree_updater.cc -> build\\lib.win32-3.8\\xgboost\\src\\tree\n",
      "  copying xgboost\\src\\tree\\updater_basemaker-inl.h -> build\\lib.win32-3.8\\xgboost\\src\\tree\n",
      "  copying xgboost\\src\\tree\\updater_colmaker.cc -> build\\lib.win32-3.8\\xgboost\\src\\tree\n",
      "  copying xgboost\\src\\tree\\updater_gpu_common.cuh -> build\\lib.win32-3.8\\xgboost\\src\\tree\n",
      "  copying xgboost\\src\\tree\\updater_gpu_hist.cu -> build\\lib.win32-3.8\\xgboost\\src\\tree\n",
      "  copying xgboost\\src\\tree\\updater_histmaker.cc -> build\\lib.win32-3.8\\xgboost\\src\\tree\n",
      "  copying xgboost\\src\\tree\\updater_prune.cc -> build\\lib.win32-3.8\\xgboost\\src\\tree\n",
      "  copying xgboost\\src\\tree\\updater_quantile_hist.cc -> build\\lib.win32-3.8\\xgboost\\src\\tree\n",
      "  copying xgboost\\src\\tree\\updater_quantile_hist.h -> build\\lib.win32-3.8\\xgboost\\src\\tree\n",
      "  copying xgboost\\src\\tree\\updater_refresh.cc -> build\\lib.win32-3.8\\xgboost\\src\\tree\n",
      "  copying xgboost\\src\\tree\\updater_sync.cc -> build\\lib.win32-3.8\\xgboost\\src\\tree\n",
      "  creating build\\lib.win32-3.8\\xgboost\\src\\tree\\gpu_hist\n",
      "  copying xgboost\\src\\tree\\gpu_hist\\driver.cuh -> build\\lib.win32-3.8\\xgboost\\src\\tree\\gpu_hist\n",
      "  copying xgboost\\src\\tree\\gpu_hist\\evaluate_splits.cu -> build\\lib.win32-3.8\\xgboost\\src\\tree\\gpu_hist\n",
      "  copying xgboost\\src\\tree\\gpu_hist\\evaluate_splits.cuh -> build\\lib.win32-3.8\\xgboost\\src\\tree\\gpu_hist\n",
      "  copying xgboost\\src\\tree\\gpu_hist\\feature_groups.cu -> build\\lib.win32-3.8\\xgboost\\src\\tree\\gpu_hist\n",
      "  copying xgboost\\src\\tree\\gpu_hist\\feature_groups.cuh -> build\\lib.win32-3.8\\xgboost\\src\\tree\\gpu_hist\n",
      "  copying xgboost\\src\\tree\\gpu_hist\\gradient_based_sampler.cu -> build\\lib.win32-3.8\\xgboost\\src\\tree\\gpu_hist\n",
      "  copying xgboost\\src\\tree\\gpu_hist\\gradient_based_sampler.cuh -> build\\lib.win32-3.8\\xgboost\\src\\tree\\gpu_hist\n",
      "  copying xgboost\\src\\tree\\gpu_hist\\histogram.cu -> build\\lib.win32-3.8\\xgboost\\src\\tree\\gpu_hist\n",
      "  copying xgboost\\src\\tree\\gpu_hist\\histogram.cuh -> build\\lib.win32-3.8\\xgboost\\src\\tree\\gpu_hist\n",
      "  copying xgboost\\src\\tree\\gpu_hist\\row_partitioner.cu -> build\\lib.win32-3.8\\xgboost\\src\\tree\\gpu_hist\n",
      "  copying xgboost\\src\\tree\\gpu_hist\\row_partitioner.cuh -> build\\lib.win32-3.8\\xgboost\\src\\tree\\gpu_hist\n",
      "  running build_ext\n",
      "  creating build\\temp.win32-3.8\n",
      "  creating build\\temp.win32-3.8\\Release\n",
      "  creating build\\temp.win32-3.8\\Release\\xgboost\n",
      "  creating build\\temp.win32-3.8\\Release\\xgboost\\src\n",
      "  copying xgboost\\src\\cli_main.cc -> build\\temp.win32-3.8\\Release\\xgboost\\src\n",
      "  copying xgboost\\src\\CMakeLists.txt -> build\\temp.win32-3.8\\Release\\xgboost\\src\n",
      "  creating build\\temp.win32-3.8\\Release\\xgboost\\src\\common\n",
      "  copying xgboost\\src\\common\\base64.h -> build\\temp.win32-3.8\\Release\\xgboost\\src\\common\n",
      "  copying xgboost\\src\\common\\bitfield.h -> build\\temp.win32-3.8\\Release\\xgboost\\src\\common\n",
      "  copying xgboost\\src\\common\\categorical.h -> build\\temp.win32-3.8\\Release\\xgboost\\src\\common\n",
      "  copying xgboost\\src\\common\\charconv.cc -> build\\temp.win32-3.8\\Release\\xgboost\\src\\common\n",
      "  copying xgboost\\src\\common\\charconv.h -> build\\temp.win32-3.8\\Release\\xgboost\\src\\common\n",
      "  copying xgboost\\src\\common\\column_matrix.h -> build\\temp.win32-3.8\\Release\\xgboost\\src\\common\n",
      "  copying xgboost\\src\\common\\common.cc -> build\\temp.win32-3.8\\Release\\xgboost\\src\\common\n",
      "  copying xgboost\\src\\common\\common.cu -> build\\temp.win32-3.8\\Release\\xgboost\\src\\common\n",
      "  copying xgboost\\src\\common\\common.h -> build\\temp.win32-3.8\\Release\\xgboost\\src\\common\n",
      "  copying xgboost\\src\\common\\compressed_iterator.h -> build\\temp.win32-3.8\\Release\\xgboost\\src\\common\n",
      "  copying xgboost\\src\\common\\config.h -> build\\temp.win32-3.8\\Release\\xgboost\\src\\common\n",
      "  copying xgboost\\src\\common\\device_helpers.cu -> build\\temp.win32-3.8\\Release\\xgboost\\src\\common\n",
      "  copying xgboost\\src\\common\\device_helpers.cuh -> build\\temp.win32-3.8\\Release\\xgboost\\src\\common\n",
      "  copying xgboost\\src\\common\\group_data.h -> build\\temp.win32-3.8\\Release\\xgboost\\src\\common\n",
      "  copying xgboost\\src\\common\\hist_util.cc -> build\\temp.win32-3.8\\Release\\xgboost\\src\\common\n",
      "  copying xgboost\\src\\common\\hist_util.cu -> build\\temp.win32-3.8\\Release\\xgboost\\src\\common\n",
      "  copying xgboost\\src\\common\\hist_util.cuh -> build\\temp.win32-3.8\\Release\\xgboost\\src\\common\n",
      "  copying xgboost\\src\\common\\hist_util.h -> build\\temp.win32-3.8\\Release\\xgboost\\src\\common\n",
      "  copying xgboost\\src\\common\\host_device_vector.cc -> build\\temp.win32-3.8\\Release\\xgboost\\src\\common\n",
      "  copying xgboost\\src\\common\\host_device_vector.cu -> build\\temp.win32-3.8\\Release\\xgboost\\src\\common\n",
      "  copying xgboost\\src\\common\\io.cc -> build\\temp.win32-3.8\\Release\\xgboost\\src\\common\n",
      "  copying xgboost\\src\\common\\io.h -> build\\temp.win32-3.8\\Release\\xgboost\\src\\common\n",
      "  copying xgboost\\src\\common\\json.cc -> build\\temp.win32-3.8\\Release\\xgboost\\src\\common\n",
      "  copying xgboost\\src\\common\\math.h -> build\\temp.win32-3.8\\Release\\xgboost\\src\\common\n",
      "  copying xgboost\\src\\common\\observer.h -> build\\temp.win32-3.8\\Release\\xgboost\\src\\common\n",
      "  copying xgboost\\src\\common\\probability_distribution.h -> build\\temp.win32-3.8\\Release\\xgboost\\src\\common\n",
      "  copying xgboost\\src\\common\\quantile.cc -> build\\temp.win32-3.8\\Release\\xgboost\\src\\common\n",
      "  copying xgboost\\src\\common\\quantile.cu -> build\\temp.win32-3.8\\Release\\xgboost\\src\\common\n",
      "  copying xgboost\\src\\common\\quantile.cuh -> build\\temp.win32-3.8\\Release\\xgboost\\src\\common\n",
      "  copying xgboost\\src\\common\\quantile.h -> build\\temp.win32-3.8\\Release\\xgboost\\src\\common\n",
      "  copying xgboost\\src\\common\\random.cc -> build\\temp.win32-3.8\\Release\\xgboost\\src\\common\n",
      "  copying xgboost\\src\\common\\random.h -> build\\temp.win32-3.8\\Release\\xgboost\\src\\common\n",
      "  copying xgboost\\src\\common\\ranking_utils.cuh -> build\\temp.win32-3.8\\Release\\xgboost\\src\\common\n",
      "  copying xgboost\\src\\common\\row_set.h -> build\\temp.win32-3.8\\Release\\xgboost\\src\\common\n",
      "  copying xgboost\\src\\common\\survival_util.cc -> build\\temp.win32-3.8\\Release\\xgboost\\src\\common\n",
      "  copying xgboost\\src\\common\\survival_util.h -> build\\temp.win32-3.8\\Release\\xgboost\\src\\common\n",
      "  copying xgboost\\src\\common\\threading_utils.h -> build\\temp.win32-3.8\\Release\\xgboost\\src\\common\n",
      "  copying xgboost\\src\\common\\timer.cc -> build\\temp.win32-3.8\\Release\\xgboost\\src\\common\n",
      "  copying xgboost\\src\\common\\timer.h -> build\\temp.win32-3.8\\Release\\xgboost\\src\\common\n",
      "  copying xgboost\\src\\common\\transform.h -> build\\temp.win32-3.8\\Release\\xgboost\\src\\common\n",
      "  copying xgboost\\src\\common\\version.cc -> build\\temp.win32-3.8\\Release\\xgboost\\src\\common\n",
      "  copying xgboost\\src\\common\\version.h -> build\\temp.win32-3.8\\Release\\xgboost\\src\\common\n",
      "  creating build\\temp.win32-3.8\\Release\\xgboost\\src\\c_api\n",
      "  copying xgboost\\src\\c_api\\c_api.cc -> build\\temp.win32-3.8\\Release\\xgboost\\src\\c_api\n",
      "  copying xgboost\\src\\c_api\\c_api.cu -> build\\temp.win32-3.8\\Release\\xgboost\\src\\c_api\n",
      "  copying xgboost\\src\\c_api\\c_api_error.cc -> build\\temp.win32-3.8\\Release\\xgboost\\src\\c_api\n",
      "  copying xgboost\\src\\c_api\\c_api_error.h -> build\\temp.win32-3.8\\Release\\xgboost\\src\\c_api\n",
      "  copying xgboost\\src\\c_api\\c_api_utils.h -> build\\temp.win32-3.8\\Release\\xgboost\\src\\c_api\n",
      "  creating build\\temp.win32-3.8\\Release\\xgboost\\src\\data\n",
      "  copying xgboost\\src\\data\\adapter.h -> build\\temp.win32-3.8\\Release\\xgboost\\src\\data\n",
      "  copying xgboost\\src\\data\\array_interface.cu -> build\\temp.win32-3.8\\Release\\xgboost\\src\\data\n",
      "  copying xgboost\\src\\data\\array_interface.h -> build\\temp.win32-3.8\\Release\\xgboost\\src\\data\n",
      "  copying xgboost\\src\\data\\data.cc -> build\\temp.win32-3.8\\Release\\xgboost\\src\\data\n",
      "  copying xgboost\\src\\data\\data.cu -> build\\temp.win32-3.8\\Release\\xgboost\\src\\data\n",
      "  copying xgboost\\src\\data\\device_adapter.cuh -> build\\temp.win32-3.8\\Release\\xgboost\\src\\data\n",
      "  copying xgboost\\src\\data\\ellpack_page.cc -> build\\temp.win32-3.8\\Release\\xgboost\\src\\data\n",
      "  copying xgboost\\src\\data\\ellpack_page.cu -> build\\temp.win32-3.8\\Release\\xgboost\\src\\data\n",
      "  copying xgboost\\src\\data\\ellpack_page.cuh -> build\\temp.win32-3.8\\Release\\xgboost\\src\\data\n",
      "  copying xgboost\\src\\data\\ellpack_page_raw_format.cu -> build\\temp.win32-3.8\\Release\\xgboost\\src\\data\n",
      "  copying xgboost\\src\\data\\ellpack_page_source.cc -> build\\temp.win32-3.8\\Release\\xgboost\\src\\data\n",
      "  copying xgboost\\src\\data\\ellpack_page_source.cu -> build\\temp.win32-3.8\\Release\\xgboost\\src\\data\n",
      "  copying xgboost\\src\\data\\ellpack_page_source.h -> build\\temp.win32-3.8\\Release\\xgboost\\src\\data\n",
      "  copying xgboost\\src\\data\\iterative_device_dmatrix.cu -> build\\temp.win32-3.8\\Release\\xgboost\\src\\data\n",
      "  copying xgboost\\src\\data\\iterative_device_dmatrix.h -> build\\temp.win32-3.8\\Release\\xgboost\\src\\data\n",
      "  copying xgboost\\src\\data\\proxy_dmatrix.cu -> build\\temp.win32-3.8\\Release\\xgboost\\src\\data\n",
      "  copying xgboost\\src\\data\\proxy_dmatrix.h -> build\\temp.win32-3.8\\Release\\xgboost\\src\\data\n",
      "  copying xgboost\\src\\data\\simple_batch_iterator.h -> build\\temp.win32-3.8\\Release\\xgboost\\src\\data\n",
      "  copying xgboost\\src\\data\\simple_dmatrix.cc -> build\\temp.win32-3.8\\Release\\xgboost\\src\\data\n",
      "  copying xgboost\\src\\data\\simple_dmatrix.cu -> build\\temp.win32-3.8\\Release\\xgboost\\src\\data\n",
      "  copying xgboost\\src\\data\\simple_dmatrix.h -> build\\temp.win32-3.8\\Release\\xgboost\\src\\data\n",
      "  copying xgboost\\src\\data\\sparse_page_dmatrix.cc -> build\\temp.win32-3.8\\Release\\xgboost\\src\\data\n",
      "  copying xgboost\\src\\data\\sparse_page_dmatrix.h -> build\\temp.win32-3.8\\Release\\xgboost\\src\\data\n",
      "  copying xgboost\\src\\data\\sparse_page_raw_format.cc -> build\\temp.win32-3.8\\Release\\xgboost\\src\\data\n",
      "  copying xgboost\\src\\data\\sparse_page_source.cc -> build\\temp.win32-3.8\\Release\\xgboost\\src\\data\n",
      "  copying xgboost\\src\\data\\sparse_page_source.h -> build\\temp.win32-3.8\\Release\\xgboost\\src\\data\n",
      "  copying xgboost\\src\\data\\sparse_page_writer.h -> build\\temp.win32-3.8\\Release\\xgboost\\src\\data\n",
      "  creating build\\temp.win32-3.8\\Release\\xgboost\\src\\gbm\n",
      "  copying xgboost\\src\\gbm\\gblinear.cc -> build\\temp.win32-3.8\\Release\\xgboost\\src\\gbm\n",
      "  copying xgboost\\src\\gbm\\gblinear_model.cc -> build\\temp.win32-3.8\\Release\\xgboost\\src\\gbm\n",
      "  copying xgboost\\src\\gbm\\gblinear_model.h -> build\\temp.win32-3.8\\Release\\xgboost\\src\\gbm\n",
      "  copying xgboost\\src\\gbm\\gbm.cc -> build\\temp.win32-3.8\\Release\\xgboost\\src\\gbm\n",
      "  copying xgboost\\src\\gbm\\gbtree.cc -> build\\temp.win32-3.8\\Release\\xgboost\\src\\gbm\n",
      "  copying xgboost\\src\\gbm\\gbtree.cu -> build\\temp.win32-3.8\\Release\\xgboost\\src\\gbm\n",
      "  copying xgboost\\src\\gbm\\gbtree.h -> build\\temp.win32-3.8\\Release\\xgboost\\src\\gbm\n",
      "  copying xgboost\\src\\gbm\\gbtree_model.cc -> build\\temp.win32-3.8\\Release\\xgboost\\src\\gbm\n",
      "  copying xgboost\\src\\gbm\\gbtree_model.h -> build\\temp.win32-3.8\\Release\\xgboost\\src\\gbm\n",
      "  copying xgboost\\src\\global_config.cc -> build\\temp.win32-3.8\\Release\\xgboost\\src\n",
      "  copying xgboost\\src\\learner.cc -> build\\temp.win32-3.8\\Release\\xgboost\\src\n",
      "  creating build\\temp.win32-3.8\\Release\\xgboost\\src\\linear\n",
      "  copying xgboost\\src\\linear\\coordinate_common.h -> build\\temp.win32-3.8\\Release\\xgboost\\src\\linear\n",
      "  copying xgboost\\src\\linear\\linear_updater.cc -> build\\temp.win32-3.8\\Release\\xgboost\\src\\linear\n",
      "  copying xgboost\\src\\linear\\param.h -> build\\temp.win32-3.8\\Release\\xgboost\\src\\linear\n",
      "  copying xgboost\\src\\linear\\updater_coordinate.cc -> build\\temp.win32-3.8\\Release\\xgboost\\src\\linear\n",
      "  copying xgboost\\src\\linear\\updater_gpu_coordinate.cu -> build\\temp.win32-3.8\\Release\\xgboost\\src\\linear\n",
      "  copying xgboost\\src\\linear\\updater_shotgun.cc -> build\\temp.win32-3.8\\Release\\xgboost\\src\\linear\n",
      "  copying xgboost\\src\\logging.cc -> build\\temp.win32-3.8\\Release\\xgboost\\src\n",
      "  creating build\\temp.win32-3.8\\Release\\xgboost\\src\\metric\n",
      "  copying xgboost\\src\\metric\\auc.cc -> build\\temp.win32-3.8\\Release\\xgboost\\src\\metric\n",
      "  copying xgboost\\src\\metric\\auc.cu -> build\\temp.win32-3.8\\Release\\xgboost\\src\\metric\n",
      "  copying xgboost\\src\\metric\\auc.h -> build\\temp.win32-3.8\\Release\\xgboost\\src\\metric\n",
      "  copying xgboost\\src\\metric\\elementwise_metric.cc -> build\\temp.win32-3.8\\Release\\xgboost\\src\\metric\n",
      "  copying xgboost\\src\\metric\\elementwise_metric.cu -> build\\temp.win32-3.8\\Release\\xgboost\\src\\metric\n",
      "  copying xgboost\\src\\metric\\metric.cc -> build\\temp.win32-3.8\\Release\\xgboost\\src\\metric\n",
      "  copying xgboost\\src\\metric\\metric_common.h -> build\\temp.win32-3.8\\Release\\xgboost\\src\\metric\n",
      "  copying xgboost\\src\\metric\\multiclass_metric.cc -> build\\temp.win32-3.8\\Release\\xgboost\\src\\metric\n",
      "  copying xgboost\\src\\metric\\multiclass_metric.cu -> build\\temp.win32-3.8\\Release\\xgboost\\src\\metric\n",
      "  copying xgboost\\src\\metric\\rank_metric.cc -> build\\temp.win32-3.8\\Release\\xgboost\\src\\metric\n",
      "  copying xgboost\\src\\metric\\rank_metric.cu -> build\\temp.win32-3.8\\Release\\xgboost\\src\\metric\n",
      "  copying xgboost\\src\\metric\\survival_metric.cc -> build\\temp.win32-3.8\\Release\\xgboost\\src\\metric\n",
      "  copying xgboost\\src\\metric\\survival_metric.cu -> build\\temp.win32-3.8\\Release\\xgboost\\src\\metric\n",
      "  creating build\\temp.win32-3.8\\Release\\xgboost\\src\\objective\n",
      "  copying xgboost\\src\\objective\\aft_obj.cc -> build\\temp.win32-3.8\\Release\\xgboost\\src\\objective\n",
      "  copying xgboost\\src\\objective\\aft_obj.cu -> build\\temp.win32-3.8\\Release\\xgboost\\src\\objective\n",
      "  copying xgboost\\src\\objective\\hinge.cc -> build\\temp.win32-3.8\\Release\\xgboost\\src\\objective\n",
      "  copying xgboost\\src\\objective\\hinge.cu -> build\\temp.win32-3.8\\Release\\xgboost\\src\\objective\n",
      "  copying xgboost\\src\\objective\\multiclass_obj.cc -> build\\temp.win32-3.8\\Release\\xgboost\\src\\objective\n",
      "  copying xgboost\\src\\objective\\multiclass_obj.cu -> build\\temp.win32-3.8\\Release\\xgboost\\src\\objective\n",
      "  copying xgboost\\src\\objective\\objective.cc -> build\\temp.win32-3.8\\Release\\xgboost\\src\\objective\n",
      "  copying xgboost\\src\\objective\\rank_obj.cc -> build\\temp.win32-3.8\\Release\\xgboost\\src\\objective\n",
      "  copying xgboost\\src\\objective\\rank_obj.cu -> build\\temp.win32-3.8\\Release\\xgboost\\src\\objective\n",
      "  copying xgboost\\src\\objective\\regression_loss.h -> build\\temp.win32-3.8\\Release\\xgboost\\src\\objective\n",
      "  copying xgboost\\src\\objective\\regression_obj.cc -> build\\temp.win32-3.8\\Release\\xgboost\\src\\objective\n",
      "  copying xgboost\\src\\objective\\regression_obj.cu -> build\\temp.win32-3.8\\Release\\xgboost\\src\\objective\n",
      "  creating build\\temp.win32-3.8\\Release\\xgboost\\src\\predictor\n",
      "  copying xgboost\\src\\predictor\\cpu_predictor.cc -> build\\temp.win32-3.8\\Release\\xgboost\\src\\predictor\n",
      "  copying xgboost\\src\\predictor\\gpu_predictor.cu -> build\\temp.win32-3.8\\Release\\xgboost\\src\\predictor\n",
      "  copying xgboost\\src\\predictor\\predictor.cc -> build\\temp.win32-3.8\\Release\\xgboost\\src\\predictor\n",
      "  creating build\\temp.win32-3.8\\Release\\xgboost\\src\\tree\n",
      "  copying xgboost\\src\\tree\\constraints.cc -> build\\temp.win32-3.8\\Release\\xgboost\\src\\tree\n",
      "  copying xgboost\\src\\tree\\constraints.cu -> build\\temp.win32-3.8\\Release\\xgboost\\src\\tree\n",
      "  copying xgboost\\src\\tree\\constraints.cuh -> build\\temp.win32-3.8\\Release\\xgboost\\src\\tree\n",
      "  copying xgboost\\src\\tree\\constraints.h -> build\\temp.win32-3.8\\Release\\xgboost\\src\\tree\n",
      "  creating build\\temp.win32-3.8\\Release\\xgboost\\src\\tree\\gpu_hist\n",
      "  copying xgboost\\src\\tree\\gpu_hist\\driver.cuh -> build\\temp.win32-3.8\\Release\\xgboost\\src\\tree\\gpu_hist\n",
      "  copying xgboost\\src\\tree\\gpu_hist\\evaluate_splits.cu -> build\\temp.win32-3.8\\Release\\xgboost\\src\\tree\\gpu_hist\n",
      "  copying xgboost\\src\\tree\\gpu_hist\\evaluate_splits.cuh -> build\\temp.win32-3.8\\Release\\xgboost\\src\\tree\\gpu_hist\n",
      "  copying xgboost\\src\\tree\\gpu_hist\\feature_groups.cu -> build\\temp.win32-3.8\\Release\\xgboost\\src\\tree\\gpu_hist\n",
      "  copying xgboost\\src\\tree\\gpu_hist\\feature_groups.cuh -> build\\temp.win32-3.8\\Release\\xgboost\\src\\tree\\gpu_hist\n",
      "  copying xgboost\\src\\tree\\gpu_hist\\gradient_based_sampler.cu -> build\\temp.win32-3.8\\Release\\xgboost\\src\\tree\\gpu_hist\n",
      "  copying xgboost\\src\\tree\\gpu_hist\\gradient_based_sampler.cuh -> build\\temp.win32-3.8\\Release\\xgboost\\src\\tree\\gpu_hist\n",
      "  copying xgboost\\src\\tree\\gpu_hist\\histogram.cu -> build\\temp.win32-3.8\\Release\\xgboost\\src\\tree\\gpu_hist\n",
      "  copying xgboost\\src\\tree\\gpu_hist\\histogram.cuh -> build\\temp.win32-3.8\\Release\\xgboost\\src\\tree\\gpu_hist\n",
      "  copying xgboost\\src\\tree\\gpu_hist\\row_partitioner.cu -> build\\temp.win32-3.8\\Release\\xgboost\\src\\tree\\gpu_hist\n",
      "  copying xgboost\\src\\tree\\gpu_hist\\row_partitioner.cuh -> build\\temp.win32-3.8\\Release\\xgboost\\src\\tree\\gpu_hist\n",
      "  copying xgboost\\src\\tree\\param.cc -> build\\temp.win32-3.8\\Release\\xgboost\\src\\tree\n",
      "  copying xgboost\\src\\tree\\param.h -> build\\temp.win32-3.8\\Release\\xgboost\\src\\tree\n",
      "  copying xgboost\\src\\tree\\split_evaluator.h -> build\\temp.win32-3.8\\Release\\xgboost\\src\\tree\n",
      "  copying xgboost\\src\\tree\\tree_model.cc -> build\\temp.win32-3.8\\Release\\xgboost\\src\\tree\n",
      "  copying xgboost\\src\\tree\\tree_updater.cc -> build\\temp.win32-3.8\\Release\\xgboost\\src\\tree\n",
      "  copying xgboost\\src\\tree\\updater_basemaker-inl.h -> build\\temp.win32-3.8\\Release\\xgboost\\src\\tree\n",
      "  copying xgboost\\src\\tree\\updater_colmaker.cc -> build\\temp.win32-3.8\\Release\\xgboost\\src\\tree\n",
      "  copying xgboost\\src\\tree\\updater_gpu_common.cuh -> build\\temp.win32-3.8\\Release\\xgboost\\src\\tree\n",
      "  copying xgboost\\src\\tree\\updater_gpu_hist.cu -> build\\temp.win32-3.8\\Release\\xgboost\\src\\tree\n",
      "  copying xgboost\\src\\tree\\updater_histmaker.cc -> build\\temp.win32-3.8\\Release\\xgboost\\src\\tree\n",
      "  copying xgboost\\src\\tree\\updater_prune.cc -> build\\temp.win32-3.8\\Release\\xgboost\\src\\tree\n",
      "  copying xgboost\\src\\tree\\updater_quantile_hist.cc -> build\\temp.win32-3.8\\Release\\xgboost\\src\\tree\n",
      "  copying xgboost\\src\\tree\\updater_quantile_hist.h -> build\\temp.win32-3.8\\Release\\xgboost\\src\\tree\n",
      "  copying xgboost\\src\\tree\\updater_refresh.cc -> build\\temp.win32-3.8\\Release\\xgboost\\src\\tree\n",
      "  copying xgboost\\src\\tree\\updater_sync.cc -> build\\temp.win32-3.8\\Release\\xgboost\\src\\tree\n",
      "  creating build\\temp.win32-3.8\\Release\\xgboost\\include\n",
      "  creating build\\temp.win32-3.8\\Release\\xgboost\\include\\xgboost\n",
      "  copying xgboost\\include\\xgboost\\base.h -> build\\temp.win32-3.8\\Release\\xgboost\\include\\xgboost\n",
      "  copying xgboost\\include\\xgboost\\c_api.h -> build\\temp.win32-3.8\\Release\\xgboost\\include\\xgboost\n",
      "  copying xgboost\\include\\xgboost\\data.h -> build\\temp.win32-3.8\\Release\\xgboost\\include\\xgboost\n",
      "  copying xgboost\\include\\xgboost\\feature_map.h -> build\\temp.win32-3.8\\Release\\xgboost\\include\\xgboost\n",
      "  copying xgboost\\include\\xgboost\\gbm.h -> build\\temp.win32-3.8\\Release\\xgboost\\include\\xgboost\n",
      "  copying xgboost\\include\\xgboost\\generic_parameters.h -> build\\temp.win32-3.8\\Release\\xgboost\\include\\xgboost\n",
      "  copying xgboost\\include\\xgboost\\global_config.h -> build\\temp.win32-3.8\\Release\\xgboost\\include\\xgboost\n",
      "  copying xgboost\\include\\xgboost\\host_device_vector.h -> build\\temp.win32-3.8\\Release\\xgboost\\include\\xgboost\n",
      "  copying xgboost\\include\\xgboost\\intrusive_ptr.h -> build\\temp.win32-3.8\\Release\\xgboost\\include\\xgboost\n",
      "  copying xgboost\\include\\xgboost\\json.h -> build\\temp.win32-3.8\\Release\\xgboost\\include\\xgboost\n",
      "  copying xgboost\\include\\xgboost\\json_io.h -> build\\temp.win32-3.8\\Release\\xgboost\\include\\xgboost\n",
      "  copying xgboost\\include\\xgboost\\learner.h -> build\\temp.win32-3.8\\Release\\xgboost\\include\\xgboost\n",
      "  copying xgboost\\include\\xgboost\\linear_updater.h -> build\\temp.win32-3.8\\Release\\xgboost\\include\\xgboost\n",
      "  copying xgboost\\include\\xgboost\\logging.h -> build\\temp.win32-3.8\\Release\\xgboost\\include\\xgboost\n",
      "  copying xgboost\\include\\xgboost\\metric.h -> build\\temp.win32-3.8\\Release\\xgboost\\include\\xgboost\n",
      "  copying xgboost\\include\\xgboost\\model.h -> build\\temp.win32-3.8\\Release\\xgboost\\include\\xgboost\n",
      "  copying xgboost\\include\\xgboost\\objective.h -> build\\temp.win32-3.8\\Release\\xgboost\\include\\xgboost\n",
      "  copying xgboost\\include\\xgboost\\parameter.h -> build\\temp.win32-3.8\\Release\\xgboost\\include\\xgboost\n",
      "  copying xgboost\\include\\xgboost\\predictor.h -> build\\temp.win32-3.8\\Release\\xgboost\\include\\xgboost\n",
      "  copying xgboost\\include\\xgboost\\span.h -> build\\temp.win32-3.8\\Release\\xgboost\\include\\xgboost\n",
      "  copying xgboost\\include\\xgboost\\tree_model.h -> build\\temp.win32-3.8\\Release\\xgboost\\include\\xgboost\n",
      "  copying xgboost\\include\\xgboost\\tree_updater.h -> build\\temp.win32-3.8\\Release\\xgboost\\include\\xgboost\n",
      "  copying xgboost\\include\\xgboost\\version_config.h -> build\\temp.win32-3.8\\Release\\xgboost\\include\\xgboost\n",
      "  creating build\\temp.win32-3.8\\Release\\xgboost\\dmlc-core\n",
      "  creating build\\temp.win32-3.8\\Release\\xgboost\\dmlc-core\\cmake\n",
      "  copying xgboost\\dmlc-core\\cmake\\build_config.h.in -> build\\temp.win32-3.8\\Release\\xgboost\\dmlc-core\\cmake\n",
      "  copying xgboost\\dmlc-core\\cmake\\dmlc-config.cmake.in -> build\\temp.win32-3.8\\Release\\xgboost\\dmlc-core\\cmake\n",
      "  creating build\\temp.win32-3.8\\Release\\xgboost\\dmlc-core\\cmake\\Modules\n",
      "  copying xgboost\\dmlc-core\\cmake\\Modules\\FindHDFS.cmake -> build\\temp.win32-3.8\\Release\\xgboost\\dmlc-core\\cmake\\Modules\n",
      "  copying xgboost\\dmlc-core\\cmake\\Utils.cmake -> build\\temp.win32-3.8\\Release\\xgboost\\dmlc-core\\cmake\n",
      "  copying xgboost\\dmlc-core\\CMakeLists.txt -> build\\temp.win32-3.8\\Release\\xgboost\\dmlc-core\n",
      "  creating build\\temp.win32-3.8\\Release\\xgboost\\dmlc-core\\include\n",
      "  creating build\\temp.win32-3.8\\Release\\xgboost\\dmlc-core\\include\\dmlc\n",
      "  copying xgboost\\dmlc-core\\include\\dmlc\\any.h -> build\\temp.win32-3.8\\Release\\xgboost\\dmlc-core\\include\\dmlc\n",
      "  copying xgboost\\dmlc-core\\include\\dmlc\\array_view.h -> build\\temp.win32-3.8\\Release\\xgboost\\dmlc-core\\include\\dmlc\n",
      "  copying xgboost\\dmlc-core\\include\\dmlc\\base.h -> build\\temp.win32-3.8\\Release\\xgboost\\dmlc-core\\include\\dmlc\n",
      "  copying xgboost\\dmlc-core\\include\\dmlc\\blockingconcurrentqueue.h -> build\\temp.win32-3.8\\Release\\xgboost\\dmlc-core\\include\\dmlc\n",
      "  copying xgboost\\dmlc-core\\include\\dmlc\\build_config_default.h -> build\\temp.win32-3.8\\Release\\xgboost\\dmlc-core\\include\\dmlc\n",
      "  copying xgboost\\dmlc-core\\include\\dmlc\\common.h -> build\\temp.win32-3.8\\Release\\xgboost\\dmlc-core\\include\\dmlc\n",
      "  copying xgboost\\dmlc-core\\include\\dmlc\\concurrency.h -> build\\temp.win32-3.8\\Release\\xgboost\\dmlc-core\\include\\dmlc\n",
      "  copying xgboost\\dmlc-core\\include\\dmlc\\concurrentqueue.h -> build\\temp.win32-3.8\\Release\\xgboost\\dmlc-core\\include\\dmlc\n",
      "  copying xgboost\\dmlc-core\\include\\dmlc\\config.h -> build\\temp.win32-3.8\\Release\\xgboost\\dmlc-core\\include\\dmlc\n",
      "  copying xgboost\\dmlc-core\\include\\dmlc\\data.h -> build\\temp.win32-3.8\\Release\\xgboost\\dmlc-core\\include\\dmlc\n",
      "  copying xgboost\\dmlc-core\\include\\dmlc\\endian.h -> build\\temp.win32-3.8\\Release\\xgboost\\dmlc-core\\include\\dmlc\n",
      "  copying xgboost\\dmlc-core\\include\\dmlc\\filesystem.h -> build\\temp.win32-3.8\\Release\\xgboost\\dmlc-core\\include\\dmlc\n",
      "  copying xgboost\\dmlc-core\\include\\dmlc\\input_split_shuffle.h -> build\\temp.win32-3.8\\Release\\xgboost\\dmlc-core\\include\\dmlc\n",
      "  copying xgboost\\dmlc-core\\include\\dmlc\\io.h -> build\\temp.win32-3.8\\Release\\xgboost\\dmlc-core\\include\\dmlc\n",
      "  copying xgboost\\dmlc-core\\include\\dmlc\\json.h -> build\\temp.win32-3.8\\Release\\xgboost\\dmlc-core\\include\\dmlc\n",
      "  copying xgboost\\dmlc-core\\include\\dmlc\\logging.h -> build\\temp.win32-3.8\\Release\\xgboost\\dmlc-core\\include\\dmlc\n",
      "  copying xgboost\\dmlc-core\\include\\dmlc\\lua.h -> build\\temp.win32-3.8\\Release\\xgboost\\dmlc-core\\include\\dmlc\n",
      "  copying xgboost\\dmlc-core\\include\\dmlc\\memory.h -> build\\temp.win32-3.8\\Release\\xgboost\\dmlc-core\\include\\dmlc\n",
      "  copying xgboost\\dmlc-core\\include\\dmlc\\memory_io.h -> build\\temp.win32-3.8\\Release\\xgboost\\dmlc-core\\include\\dmlc\n",
      "  copying xgboost\\dmlc-core\\include\\dmlc\\omp.h -> build\\temp.win32-3.8\\Release\\xgboost\\dmlc-core\\include\\dmlc\n",
      "  copying xgboost\\dmlc-core\\include\\dmlc\\optional.h -> build\\temp.win32-3.8\\Release\\xgboost\\dmlc-core\\include\\dmlc\n",
      "  copying xgboost\\dmlc-core\\include\\dmlc\\parameter.h -> build\\temp.win32-3.8\\Release\\xgboost\\dmlc-core\\include\\dmlc\n",
      "  copying xgboost\\dmlc-core\\include\\dmlc\\recordio.h -> build\\temp.win32-3.8\\Release\\xgboost\\dmlc-core\\include\\dmlc\n",
      "  copying xgboost\\dmlc-core\\include\\dmlc\\registry.h -> build\\temp.win32-3.8\\Release\\xgboost\\dmlc-core\\include\\dmlc\n",
      "  copying xgboost\\dmlc-core\\include\\dmlc\\serializer.h -> build\\temp.win32-3.8\\Release\\xgboost\\dmlc-core\\include\\dmlc\n",
      "  copying xgboost\\dmlc-core\\include\\dmlc\\strtonum.h -> build\\temp.win32-3.8\\Release\\xgboost\\dmlc-core\\include\\dmlc\n",
      "  copying xgboost\\dmlc-core\\include\\dmlc\\threadediter.h -> build\\temp.win32-3.8\\Release\\xgboost\\dmlc-core\\include\\dmlc\n",
      "  copying xgboost\\dmlc-core\\include\\dmlc\\thread_group.h -> build\\temp.win32-3.8\\Release\\xgboost\\dmlc-core\\include\\dmlc\n",
      "  copying xgboost\\dmlc-core\\include\\dmlc\\thread_local.h -> build\\temp.win32-3.8\\Release\\xgboost\\dmlc-core\\include\\dmlc\n",
      "  copying xgboost\\dmlc-core\\include\\dmlc\\timer.h -> build\\temp.win32-3.8\\Release\\xgboost\\dmlc-core\\include\\dmlc\n",
      "  copying xgboost\\dmlc-core\\include\\dmlc\\type_traits.h -> build\\temp.win32-3.8\\Release\\xgboost\\dmlc-core\\include\\dmlc\n",
      "  creating build\\temp.win32-3.8\\Release\\xgboost\\dmlc-core\\make\n",
      "  copying xgboost\\dmlc-core\\make\\config.mk -> build\\temp.win32-3.8\\Release\\xgboost\\dmlc-core\\make\n",
      "  copying xgboost\\dmlc-core\\make\\dmlc.mk -> build\\temp.win32-3.8\\Release\\xgboost\\dmlc-core\\make\n",
      "  creating build\\temp.win32-3.8\\Release\\xgboost\\dmlc-core\\src\n",
      "  copying xgboost\\dmlc-core\\src\\config.cc -> build\\temp.win32-3.8\\Release\\xgboost\\dmlc-core\\src\n",
      "  creating build\\temp.win32-3.8\\Release\\xgboost\\dmlc-core\\src\\data\n",
      "  copying xgboost\\dmlc-core\\src\\data\\basic_row_iter.h -> build\\temp.win32-3.8\\Release\\xgboost\\dmlc-core\\src\\data\n",
      "  copying xgboost\\dmlc-core\\src\\data\\csv_parser.h -> build\\temp.win32-3.8\\Release\\xgboost\\dmlc-core\\src\\data\n",
      "  copying xgboost\\dmlc-core\\src\\data\\disk_row_iter.h -> build\\temp.win32-3.8\\Release\\xgboost\\dmlc-core\\src\\data\n",
      "  copying xgboost\\dmlc-core\\src\\data\\libfm_parser.h -> build\\temp.win32-3.8\\Release\\xgboost\\dmlc-core\\src\\data\n",
      "  copying xgboost\\dmlc-core\\src\\data\\libsvm_parser.h -> build\\temp.win32-3.8\\Release\\xgboost\\dmlc-core\\src\\data\n",
      "  copying xgboost\\dmlc-core\\src\\data\\parser.h -> build\\temp.win32-3.8\\Release\\xgboost\\dmlc-core\\src\\data\n",
      "  copying xgboost\\dmlc-core\\src\\data\\row_block.h -> build\\temp.win32-3.8\\Release\\xgboost\\dmlc-core\\src\\data\n",
      "  copying xgboost\\dmlc-core\\src\\data\\text_parser.h -> build\\temp.win32-3.8\\Release\\xgboost\\dmlc-core\\src\\data\n",
      "  copying xgboost\\dmlc-core\\src\\data.cc -> build\\temp.win32-3.8\\Release\\xgboost\\dmlc-core\\src\n",
      "  creating build\\temp.win32-3.8\\Release\\xgboost\\dmlc-core\\src\\io\n",
      "  copying xgboost\\dmlc-core\\src\\io\\azure_filesys.cc -> build\\temp.win32-3.8\\Release\\xgboost\\dmlc-core\\src\\io\n",
      "  copying xgboost\\dmlc-core\\src\\io\\azure_filesys.h -> build\\temp.win32-3.8\\Release\\xgboost\\dmlc-core\\src\\io\n",
      "  copying xgboost\\dmlc-core\\src\\io\\cached_input_split.h -> build\\temp.win32-3.8\\Release\\xgboost\\dmlc-core\\src\\io\n",
      "  copying xgboost\\dmlc-core\\src\\io\\filesys.cc -> build\\temp.win32-3.8\\Release\\xgboost\\dmlc-core\\src\\io\n",
      "  copying xgboost\\dmlc-core\\src\\io\\hdfs_filesys.cc -> build\\temp.win32-3.8\\Release\\xgboost\\dmlc-core\\src\\io\n",
      "  copying xgboost\\dmlc-core\\src\\io\\hdfs_filesys.h -> build\\temp.win32-3.8\\Release\\xgboost\\dmlc-core\\src\\io\n",
      "  copying xgboost\\dmlc-core\\src\\io\\indexed_recordio_split.cc -> build\\temp.win32-3.8\\Release\\xgboost\\dmlc-core\\src\\io\n",
      "  copying xgboost\\dmlc-core\\src\\io\\indexed_recordio_split.h -> build\\temp.win32-3.8\\Release\\xgboost\\dmlc-core\\src\\io\n",
      "  copying xgboost\\dmlc-core\\src\\io\\input_split_base.cc -> build\\temp.win32-3.8\\Release\\xgboost\\dmlc-core\\src\\io\n",
      "  copying xgboost\\dmlc-core\\src\\io\\input_split_base.h -> build\\temp.win32-3.8\\Release\\xgboost\\dmlc-core\\src\\io\n",
      "  copying xgboost\\dmlc-core\\src\\io\\line_split.cc -> build\\temp.win32-3.8\\Release\\xgboost\\dmlc-core\\src\\io\n",
      "  copying xgboost\\dmlc-core\\src\\io\\line_split.h -> build\\temp.win32-3.8\\Release\\xgboost\\dmlc-core\\src\\io\n",
      "  copying xgboost\\dmlc-core\\src\\io\\local_filesys.cc -> build\\temp.win32-3.8\\Release\\xgboost\\dmlc-core\\src\\io\n",
      "  copying xgboost\\dmlc-core\\src\\io\\local_filesys.h -> build\\temp.win32-3.8\\Release\\xgboost\\dmlc-core\\src\\io\n",
      "  copying xgboost\\dmlc-core\\src\\io\\recordio_split.cc -> build\\temp.win32-3.8\\Release\\xgboost\\dmlc-core\\src\\io\n",
      "  copying xgboost\\dmlc-core\\src\\io\\recordio_split.h -> build\\temp.win32-3.8\\Release\\xgboost\\dmlc-core\\src\\io\n",
      "  copying xgboost\\dmlc-core\\src\\io\\s3_filesys.cc -> build\\temp.win32-3.8\\Release\\xgboost\\dmlc-core\\src\\io\n",
      "  copying xgboost\\dmlc-core\\src\\io\\s3_filesys.h -> build\\temp.win32-3.8\\Release\\xgboost\\dmlc-core\\src\\io\n",
      "  copying xgboost\\dmlc-core\\src\\io\\single_file_split.h -> build\\temp.win32-3.8\\Release\\xgboost\\dmlc-core\\src\\io\n",
      "  copying xgboost\\dmlc-core\\src\\io\\single_threaded_input_split.h -> build\\temp.win32-3.8\\Release\\xgboost\\dmlc-core\\src\\io\n",
      "  copying xgboost\\dmlc-core\\src\\io\\threaded_input_split.h -> build\\temp.win32-3.8\\Release\\xgboost\\dmlc-core\\src\\io\n",
      "  copying xgboost\\dmlc-core\\src\\io\\uri_spec.h -> build\\temp.win32-3.8\\Release\\xgboost\\dmlc-core\\src\\io\n",
      "  copying xgboost\\dmlc-core\\src\\io.cc -> build\\temp.win32-3.8\\Release\\xgboost\\dmlc-core\\src\n",
      "  copying xgboost\\dmlc-core\\src\\recordio.cc -> build\\temp.win32-3.8\\Release\\xgboost\\dmlc-core\\src\n",
      "  creating build\\temp.win32-3.8\\Release\\xgboost\\dmlc-core\\tracker\n",
      "  copying xgboost\\dmlc-core\\tracker\\dmlc-submit -> build\\temp.win32-3.8\\Release\\xgboost\\dmlc-core\\tracker\n",
      "  creating build\\temp.win32-3.8\\Release\\xgboost\\dmlc-core\\tracker\\dmlc_tracker\n",
      "  copying xgboost\\dmlc-core\\tracker\\dmlc_tracker\\kubernetes.py -> build\\temp.win32-3.8\\Release\\xgboost\\dmlc-core\\tracker\\dmlc_tracker\n",
      "  copying xgboost\\dmlc-core\\tracker\\dmlc_tracker\\launcher.py -> build\\temp.win32-3.8\\Release\\xgboost\\dmlc-core\\tracker\\dmlc_tracker\n",
      "  copying xgboost\\dmlc-core\\tracker\\dmlc_tracker\\local.py -> build\\temp.win32-3.8\\Release\\xgboost\\dmlc-core\\tracker\\dmlc_tracker\n",
      "  copying xgboost\\dmlc-core\\tracker\\dmlc_tracker\\mesos.py -> build\\temp.win32-3.8\\Release\\xgboost\\dmlc-core\\tracker\\dmlc_tracker\n",
      "  copying xgboost\\dmlc-core\\tracker\\dmlc_tracker\\mpi.py -> build\\temp.win32-3.8\\Release\\xgboost\\dmlc-core\\tracker\\dmlc_tracker\n",
      "  copying xgboost\\dmlc-core\\tracker\\dmlc_tracker\\opts.py -> build\\temp.win32-3.8\\Release\\xgboost\\dmlc-core\\tracker\\dmlc_tracker\n",
      "  copying xgboost\\dmlc-core\\tracker\\dmlc_tracker\\sge.py -> build\\temp.win32-3.8\\Release\\xgboost\\dmlc-core\\tracker\\dmlc_tracker\n",
      "  copying xgboost\\dmlc-core\\tracker\\dmlc_tracker\\slurm.py -> build\\temp.win32-3.8\\Release\\xgboost\\dmlc-core\\tracker\\dmlc_tracker\n",
      "  copying xgboost\\dmlc-core\\tracker\\dmlc_tracker\\ssh.py -> build\\temp.win32-3.8\\Release\\xgboost\\dmlc-core\\tracker\\dmlc_tracker\n",
      "  copying xgboost\\dmlc-core\\tracker\\dmlc_tracker\\submit.py -> build\\temp.win32-3.8\\Release\\xgboost\\dmlc-core\\tracker\\dmlc_tracker\n",
      "  copying xgboost\\dmlc-core\\tracker\\dmlc_tracker\\tracker.py -> build\\temp.win32-3.8\\Release\\xgboost\\dmlc-core\\tracker\\dmlc_tracker\n",
      "  copying xgboost\\dmlc-core\\tracker\\dmlc_tracker\\util.py -> build\\temp.win32-3.8\\Release\\xgboost\\dmlc-core\\tracker\\dmlc_tracker\n",
      "  copying xgboost\\dmlc-core\\tracker\\dmlc_tracker\\yarn.py -> build\\temp.win32-3.8\\Release\\xgboost\\dmlc-core\\tracker\\dmlc_tracker\n",
      "  copying xgboost\\dmlc-core\\tracker\\dmlc_tracker\\__init__.py -> build\\temp.win32-3.8\\Release\\xgboost\\dmlc-core\\tracker\\dmlc_tracker\n",
      "  creating build\\temp.win32-3.8\\Release\\xgboost\\dmlc-core\\tracker\\yarn\n",
      "  copying xgboost\\dmlc-core\\tracker\\yarn\\build.bat -> build\\temp.win32-3.8\\Release\\xgboost\\dmlc-core\\tracker\\yarn\n",
      "  copying xgboost\\dmlc-core\\tracker\\yarn\\build.sh -> build\\temp.win32-3.8\\Release\\xgboost\\dmlc-core\\tracker\\yarn\n",
      "  copying xgboost\\dmlc-core\\tracker\\yarn\\pom.xml -> build\\temp.win32-3.8\\Release\\xgboost\\dmlc-core\\tracker\\yarn\n",
      "  creating build\\temp.win32-3.8\\Release\\xgboost\\dmlc-core\\tracker\\yarn\\src\n",
      "  creating build\\temp.win32-3.8\\Release\\xgboost\\dmlc-core\\tracker\\yarn\\src\\main\n",
      "  creating build\\temp.win32-3.8\\Release\\xgboost\\dmlc-core\\tracker\\yarn\\src\\main\\java\n",
      "  creating build\\temp.win32-3.8\\Release\\xgboost\\dmlc-core\\tracker\\yarn\\src\\main\\java\\org\n",
      "  creating build\\temp.win32-3.8\\Release\\xgboost\\dmlc-core\\tracker\\yarn\\src\\main\\java\\org\\apache\n",
      "  creating build\\temp.win32-3.8\\Release\\xgboost\\dmlc-core\\tracker\\yarn\\src\\main\\java\\org\\apache\\hadoop\n",
      "  creating build\\temp.win32-3.8\\Release\\xgboost\\dmlc-core\\tracker\\yarn\\src\\main\\java\\org\\apache\\hadoop\\yarn\n",
      "  creating build\\temp.win32-3.8\\Release\\xgboost\\dmlc-core\\tracker\\yarn\\src\\main\\java\\org\\apache\\hadoop\\yarn\\dmlc\n",
      "  copying xgboost\\dmlc-core\\tracker\\yarn\\src\\main\\java\\org\\apache\\hadoop\\yarn\\dmlc\\ApplicationMaster.java -> build\\temp.win32-3.8\\Release\\xgboost\\dmlc-core\\tracker\\yarn\\src\\main\\java\\org\\apache\\hadoop\\yarn\\dmlc\n",
      "  copying xgboost\\dmlc-core\\tracker\\yarn\\src\\main\\java\\org\\apache\\hadoop\\yarn\\dmlc\\Client.java -> build\\temp.win32-3.8\\Release\\xgboost\\dmlc-core\\tracker\\yarn\\src\\main\\java\\org\\apache\\hadoop\\yarn\\dmlc\n",
      "  copying xgboost\\dmlc-core\\tracker\\yarn\\src\\main\\java\\org\\apache\\hadoop\\yarn\\dmlc\\TaskRecord.java -> build\\temp.win32-3.8\\Release\\xgboost\\dmlc-core\\tracker\\yarn\\src\\main\\java\\org\\apache\\hadoop\\yarn\\dmlc\n",
      "  creating build\\temp.win32-3.8\\Release\\xgboost\\dmlc-core\\windows\n",
      "  creating build\\temp.win32-3.8\\Release\\xgboost\\dmlc-core\\windows\\dmlc\n",
      "  copying xgboost\\dmlc-core\\windows\\dmlc\\dmlc.vcxproj -> build\\temp.win32-3.8\\Release\\xgboost\\dmlc-core\\windows\\dmlc\n",
      "  copying xgboost\\dmlc-core\\windows\\dmlc.sln -> build\\temp.win32-3.8\\Release\\xgboost\\dmlc-core\\windows\n",
      "  creating build\\temp.win32-3.8\\Release\\xgboost\\rabit\n",
      "  copying xgboost\\rabit\\CMakeLists.txt -> build\\temp.win32-3.8\\Release\\xgboost\\rabit\n",
      "  creating build\\temp.win32-3.8\\Release\\xgboost\\rabit\\include\n",
      "  creating build\\temp.win32-3.8\\Release\\xgboost\\rabit\\include\\rabit\n",
      "  copying xgboost\\rabit\\include\\rabit\\base.h -> build\\temp.win32-3.8\\Release\\xgboost\\rabit\\include\\rabit\n",
      "  copying xgboost\\rabit\\include\\rabit\\c_api.h -> build\\temp.win32-3.8\\Release\\xgboost\\rabit\\include\\rabit\n",
      "  creating build\\temp.win32-3.8\\Release\\xgboost\\rabit\\include\\rabit\\internal\n",
      "  copying xgboost\\rabit\\include\\rabit\\internal\\engine.h -> build\\temp.win32-3.8\\Release\\xgboost\\rabit\\include\\rabit\\internal\n",
      "  copying xgboost\\rabit\\include\\rabit\\internal\\io.h -> build\\temp.win32-3.8\\Release\\xgboost\\rabit\\include\\rabit\\internal\n",
      "  copying xgboost\\rabit\\include\\rabit\\internal\\rabit-inl.h -> build\\temp.win32-3.8\\Release\\xgboost\\rabit\\include\\rabit\\internal\n",
      "  copying xgboost\\rabit\\include\\rabit\\internal\\socket.h -> build\\temp.win32-3.8\\Release\\xgboost\\rabit\\include\\rabit\\internal\n",
      "  copying xgboost\\rabit\\include\\rabit\\internal\\utils.h -> build\\temp.win32-3.8\\Release\\xgboost\\rabit\\include\\rabit\\internal\n",
      "  copying xgboost\\rabit\\include\\rabit\\rabit.h -> build\\temp.win32-3.8\\Release\\xgboost\\rabit\\include\\rabit\n",
      "  copying xgboost\\rabit\\include\\rabit\\serializable.h -> build\\temp.win32-3.8\\Release\\xgboost\\rabit\\include\\rabit\n",
      "  creating build\\temp.win32-3.8\\Release\\xgboost\\rabit\\src\n",
      "  copying xgboost\\rabit\\src\\allreduce_base.cc -> build\\temp.win32-3.8\\Release\\xgboost\\rabit\\src\n",
      "  copying xgboost\\rabit\\src\\allreduce_base.h -> build\\temp.win32-3.8\\Release\\xgboost\\rabit\\src\n",
      "  copying xgboost\\rabit\\src\\allreduce_mock.h -> build\\temp.win32-3.8\\Release\\xgboost\\rabit\\src\n",
      "  copying xgboost\\rabit\\src\\c_api.cc -> build\\temp.win32-3.8\\Release\\xgboost\\rabit\\src\n",
      "  copying xgboost\\rabit\\src\\engine.cc -> build\\temp.win32-3.8\\Release\\xgboost\\rabit\\src\n",
      "  copying xgboost\\rabit\\src\\engine_mock.cc -> build\\temp.win32-3.8\\Release\\xgboost\\rabit\\src\n",
      "  copying xgboost\\rabit\\src\\engine_mpi.cc -> build\\temp.win32-3.8\\Release\\xgboost\\rabit\\src\n",
      "  creating build\\temp.win32-3.8\\Release\\xgboost\\cmake\n",
      "  copying xgboost\\cmake\\Doc.cmake -> build\\temp.win32-3.8\\Release\\xgboost\\cmake\n",
      "  copying xgboost\\cmake\\FindPrefetchIntrinsics.cmake -> build\\temp.win32-3.8\\Release\\xgboost\\cmake\n",
      "  creating build\\temp.win32-3.8\\Release\\xgboost\\cmake\\modules\n",
      "  copying xgboost\\cmake\\modules\\FindNccl.cmake -> build\\temp.win32-3.8\\Release\\xgboost\\cmake\\modules\n",
      "  copying xgboost\\cmake\\modules\\FindNVML.cmake -> build\\temp.win32-3.8\\Release\\xgboost\\cmake\\modules\n",
      "  copying xgboost\\cmake\\modules\\FindNVTX.cmake -> build\\temp.win32-3.8\\Release\\xgboost\\cmake\\modules\n",
      "  copying xgboost\\cmake\\Python_version.in -> build\\temp.win32-3.8\\Release\\xgboost\\cmake\n",
      "  copying xgboost\\cmake\\Utils.cmake -> build\\temp.win32-3.8\\Release\\xgboost\\cmake\n",
      "  copying xgboost\\cmake\\Version.cmake -> build\\temp.win32-3.8\\Release\\xgboost\\cmake\n",
      "  copying xgboost\\cmake\\version_config.h.in -> build\\temp.win32-3.8\\Release\\xgboost\\cmake\n",
      "  copying xgboost\\cmake\\xgboost-config.cmake.in -> build\\temp.win32-3.8\\Release\\xgboost\\cmake\n",
      "  copying xgboost\\cmake\\xgboost.pc.in -> build\\temp.win32-3.8\\Release\\xgboost\\cmake\n",
      "  creating build\\temp.win32-3.8\\Release\\xgboost\\plugin\n",
      "  copying xgboost\\plugin\\CMakeLists.txt -> build\\temp.win32-3.8\\Release\\xgboost\\plugin\n",
      "  creating build\\temp.win32-3.8\\Release\\xgboost\\plugin\\dense_parser\n",
      "  copying xgboost\\plugin\\dense_parser\\dense_libsvm.cc -> build\\temp.win32-3.8\\Release\\xgboost\\plugin\\dense_parser\n",
      "  creating build\\temp.win32-3.8\\Release\\xgboost\\plugin\\example\n",
      "  copying xgboost\\plugin\\example\\custom_obj.cc -> build\\temp.win32-3.8\\Release\\xgboost\\plugin\\example\n",
      "  copying xgboost\\plugin\\example\\README.md -> build\\temp.win32-3.8\\Release\\xgboost\\plugin\\example\n",
      "  creating build\\temp.win32-3.8\\Release\\xgboost\\plugin\\lz4\n",
      "  copying xgboost\\plugin\\lz4\\sparse_page_lz4_format.cc -> build\\temp.win32-3.8\\Release\\xgboost\\plugin\\lz4\n",
      "  copying xgboost\\plugin\\README.md -> build\\temp.win32-3.8\\Release\\xgboost\\plugin\n",
      "  creating build\\temp.win32-3.8\\Release\\xgboost\\plugin\\updater_gpu\n",
      "  copying xgboost\\plugin\\updater_gpu\\README.md -> build\\temp.win32-3.8\\Release\\xgboost\\plugin\\updater_gpu\n",
      "  creating build\\temp.win32-3.8\\Release\\xgboost\\plugin\\updater_oneapi\n",
      "  copying xgboost\\plugin\\updater_oneapi\\predictor_oneapi.cc -> build\\temp.win32-3.8\\Release\\xgboost\\plugin\\updater_oneapi\n",
      "  copying xgboost\\plugin\\updater_oneapi\\README.md -> build\\temp.win32-3.8\\Release\\xgboost\\plugin\\updater_oneapi\n",
      "  copying xgboost\\plugin\\updater_oneapi\\regression_loss_oneapi.h -> build\\temp.win32-3.8\\Release\\xgboost\\plugin\\updater_oneapi\n",
      "  copying xgboost\\plugin\\updater_oneapi\\regression_obj_oneapi.cc -> build\\temp.win32-3.8\\Release\\xgboost\\plugin\\updater_oneapi\n",
      "  copying xgboost\\CMakeLists.txt -> build\\temp.win32-3.8\\Release\\xgboost\n",
      "  copying xgboost\\LICENSE -> build\\temp.win32-3.8\\Release\\xgboost\n",
      "  INFO:XGBoost build_ext:Building from source. C:\\Users\\ACER\\AppData\\Local\\Temp\\pip-install-np9iw73b\\lib\\xgboost.dll\n",
      "  INFO:XGBoost build_ext:Run CMake command: ['cmake', 'xgboost', '-GVisual Studio 16 2019', '-DUSE_OPENMP=1', '-DUSE_CUDA=0', '-DUSE_NCCL=0', '-DBUILD_WITH_SHARED_NCCL=0', '-DHIDE_CXX_SYMBOLS=1', '-DUSE_HDFS=0', '-DUSE_AZURE=0', '-DUSE_S3=0', '-DPLUGIN_LZ4=0', '-DPLUGIN_DENSE_PARSER=0']\n",
      "  error: [WinError 2] The system cannot find the file specified\n",
      "  ----------------------------------------\n",
      "  ERROR: Failed building wheel for xgboost\n",
      "    ERROR: Command errored out with exit status 1:\n",
      "     command: 'C:\\ProgramData\\Anaconda3\\python.exe' -u -c 'import sys, setuptools, tokenize; sys.argv[0] = '\"'\"'C:\\\\Users\\\\ACER\\\\AppData\\\\Local\\\\Temp\\\\pip-install-np9iw73b\\\\xgboost\\\\setup.py'\"'\"'; __file__='\"'\"'C:\\\\Users\\\\ACER\\\\AppData\\\\Local\\\\Temp\\\\pip-install-np9iw73b\\\\xgboost\\\\setup.py'\"'\"';f=getattr(tokenize, '\"'\"'open'\"'\"', open)(__file__);code=f.read().replace('\"'\"'\\r\\n'\"'\"', '\"'\"'\\n'\"'\"');f.close();exec(compile(code, __file__, '\"'\"'exec'\"'\"'))' install --record 'C:\\Users\\ACER\\AppData\\Local\\Temp\\pip-record-ny9xg1as\\install-record.txt' --single-version-externally-managed --compile --install-headers 'C:\\ProgramData\\Anaconda3\\Include\\xgboost'\n",
      "         cwd: C:\\Users\\ACER\\AppData\\Local\\Temp\\pip-install-np9iw73b\\xgboost\\\n",
      "    Complete output (775 lines):\n",
      "    running install\n",
      "    running build\n",
      "    running build_py\n",
      "    creating build\n",
      "    creating build\\lib.win32-3.8\n",
      "    creating build\\lib.win32-3.8\\xgboost\n",
      "    copying xgboost\\callback.py -> build\\lib.win32-3.8\\xgboost\n",
      "    copying xgboost\\compat.py -> build\\lib.win32-3.8\\xgboost\n",
      "    copying xgboost\\config.py -> build\\lib.win32-3.8\\xgboost\n",
      "    copying xgboost\\core.py -> build\\lib.win32-3.8\\xgboost\n",
      "    copying xgboost\\dask.py -> build\\lib.win32-3.8\\xgboost\n",
      "    copying xgboost\\data.py -> build\\lib.win32-3.8\\xgboost\n",
      "    copying xgboost\\libpath.py -> build\\lib.win32-3.8\\xgboost\n",
      "    copying xgboost\\plotting.py -> build\\lib.win32-3.8\\xgboost\n",
      "    copying xgboost\\rabit.py -> build\\lib.win32-3.8\\xgboost\n",
      "    copying xgboost\\sklearn.py -> build\\lib.win32-3.8\\xgboost\n",
      "    copying xgboost\\tracker.py -> build\\lib.win32-3.8\\xgboost\n",
      "    copying xgboost\\training.py -> build\\lib.win32-3.8\\xgboost\n",
      "    copying xgboost\\__init__.py -> build\\lib.win32-3.8\\xgboost\n",
      "    running egg_info\n",
      "    writing xgboost.egg-info\\PKG-INFO\n",
      "    writing dependency_links to xgboost.egg-info\\dependency_links.txt\n",
      "    writing requirements to xgboost.egg-info\\requires.txt\n",
      "    writing top-level names to xgboost.egg-info\\top_level.txt\n",
      "    reading manifest file 'xgboost.egg-info\\SOURCES.txt'\n",
      "    reading manifest template 'MANIFEST.in'\n",
      "    warning: no previously-included files found matching 'xgboost\\cmake\\RPackageInstall.cmake.in'\n",
      "    warning: no previously-included files found matching 'xgboost\\cmake\\RPackageInstallTargetSetup.cmake'\n",
      "    warning: no previously-included files found matching 'xgboost\\cmake\\Sanitizer.cmake'\n",
      "    warning: no previously-included files found matching 'xgboost\\cmake\\modules\\FindASan.cmake'\n",
      "    warning: no previously-included files found matching 'xgboost\\cmake\\modules\\FindLSan.cmake'\n",
      "    warning: no previously-included files found matching 'xgboost\\cmake\\modules\\FindLibR.cmake'\n",
      "    warning: no previously-included files found matching 'xgboost\\cmake\\modules\\FindTSan.cmake'\n",
      "    warning: no previously-included files found matching 'xgboost\\cmake\\modules\\FindUBSan.cmake'\n",
      "    no previously-included directories found matching 'xgboost\\rabit\\doc'\n",
      "    no previously-included directories found matching 'xgboost\\rabit\\guide'\n",
      "    warning: no previously-included files found matching 'xgboost\\dmlc-core\\cmake\\gtest_cmake.in'\n",
      "    warning: no previously-included files found matching 'xgboost\\dmlc-core\\cmake\\lint.cmake'\n",
      "    warning: no previously-included files found matching 'xgboost\\dmlc-core\\cmake\\Sanitizer.cmake'\n",
      "    warning: no previously-included files found matching 'xgboost\\dmlc-core\\cmake\\Modules\\FindASan.cmake'\n",
      "    warning: no previously-included files found matching 'xgboost\\dmlc-core\\cmake\\Modules\\FindLSan.cmake'\n",
      "    warning: no previously-included files found matching 'xgboost\\dmlc-core\\cmake\\Modules\\FindTSan.cmake'\n",
      "    warning: no previously-included files found matching 'xgboost\\dmlc-core\\cmake\\Modules\\FindUBSan.cmake'\n",
      "    no previously-included directories found matching 'xgboost\\dmlc-core\\doc'\n",
      "    warning: manifest_maker: MANIFEST.in, line 52: path 'xgboost/dmlc-core/scripts/' cannot end with '/'\n",
      "    \n",
      "    warning: no previously-included files matching '*.py[oc]' found anywhere in distribution\n",
      "    writing manifest file 'xgboost.egg-info\\SOURCES.txt'\n",
      "    copying xgboost\\CMakeLists.txt -> build\\lib.win32-3.8\\xgboost\n",
      "    copying xgboost\\LICENSE -> build\\lib.win32-3.8\\xgboost\n",
      "    copying xgboost\\VERSION -> build\\lib.win32-3.8\\xgboost\n",
      "    copying xgboost\\py.typed -> build\\lib.win32-3.8\\xgboost\n",
      "    creating build\\lib.win32-3.8\\xgboost\\cmake\n",
      "    copying xgboost\\cmake\\Doc.cmake -> build\\lib.win32-3.8\\xgboost\\cmake\n",
      "    copying xgboost\\cmake\\FindPrefetchIntrinsics.cmake -> build\\lib.win32-3.8\\xgboost\\cmake\n",
      "    copying xgboost\\cmake\\Python_version.in -> build\\lib.win32-3.8\\xgboost\\cmake\n",
      "    copying xgboost\\cmake\\Utils.cmake -> build\\lib.win32-3.8\\xgboost\\cmake\n",
      "    copying xgboost\\cmake\\Version.cmake -> build\\lib.win32-3.8\\xgboost\\cmake\n",
      "    copying xgboost\\cmake\\version_config.h.in -> build\\lib.win32-3.8\\xgboost\\cmake\n",
      "    copying xgboost\\cmake\\xgboost-config.cmake.in -> build\\lib.win32-3.8\\xgboost\\cmake\n",
      "    copying xgboost\\cmake\\xgboost.pc.in -> build\\lib.win32-3.8\\xgboost\\cmake\n",
      "    creating build\\lib.win32-3.8\\xgboost\\cmake\\modules\n",
      "    copying xgboost\\cmake\\modules\\FindNVML.cmake -> build\\lib.win32-3.8\\xgboost\\cmake\\modules\n",
      "    copying xgboost\\cmake\\modules\\FindNVTX.cmake -> build\\lib.win32-3.8\\xgboost\\cmake\\modules\n",
      "    copying xgboost\\cmake\\modules\\FindNccl.cmake -> build\\lib.win32-3.8\\xgboost\\cmake\\modules\n",
      "    creating build\\lib.win32-3.8\\xgboost\\dmlc-core\n",
      "    copying xgboost\\dmlc-core\\CMakeLists.txt -> build\\lib.win32-3.8\\xgboost\\dmlc-core\n",
      "    creating build\\lib.win32-3.8\\xgboost\\dmlc-core\\cmake\n",
      "    copying xgboost\\dmlc-core\\cmake\\Utils.cmake -> build\\lib.win32-3.8\\xgboost\\dmlc-core\\cmake\n",
      "    copying xgboost\\dmlc-core\\cmake\\build_config.h.in -> build\\lib.win32-3.8\\xgboost\\dmlc-core\\cmake\n",
      "    copying xgboost\\dmlc-core\\cmake\\dmlc-config.cmake.in -> build\\lib.win32-3.8\\xgboost\\dmlc-core\\cmake\n",
      "    creating build\\lib.win32-3.8\\xgboost\\dmlc-core\\cmake\\Modules\n",
      "    copying xgboost\\dmlc-core\\cmake\\Modules\\FindHDFS.cmake -> build\\lib.win32-3.8\\xgboost\\dmlc-core\\cmake\\Modules\n",
      "    creating build\\lib.win32-3.8\\xgboost\\dmlc-core\\include\n",
      "    creating build\\lib.win32-3.8\\xgboost\\dmlc-core\\include\\dmlc\n",
      "    copying xgboost\\dmlc-core\\include\\dmlc\\any.h -> build\\lib.win32-3.8\\xgboost\\dmlc-core\\include\\dmlc\n",
      "    copying xgboost\\dmlc-core\\include\\dmlc\\array_view.h -> build\\lib.win32-3.8\\xgboost\\dmlc-core\\include\\dmlc\n",
      "    copying xgboost\\dmlc-core\\include\\dmlc\\base.h -> build\\lib.win32-3.8\\xgboost\\dmlc-core\\include\\dmlc\n",
      "    copying xgboost\\dmlc-core\\include\\dmlc\\blockingconcurrentqueue.h -> build\\lib.win32-3.8\\xgboost\\dmlc-core\\include\\dmlc\n",
      "    copying xgboost\\dmlc-core\\include\\dmlc\\build_config_default.h -> build\\lib.win32-3.8\\xgboost\\dmlc-core\\include\\dmlc\n",
      "    copying xgboost\\dmlc-core\\include\\dmlc\\common.h -> build\\lib.win32-3.8\\xgboost\\dmlc-core\\include\\dmlc\n",
      "    copying xgboost\\dmlc-core\\include\\dmlc\\concurrency.h -> build\\lib.win32-3.8\\xgboost\\dmlc-core\\include\\dmlc\n",
      "    copying xgboost\\dmlc-core\\include\\dmlc\\concurrentqueue.h -> build\\lib.win32-3.8\\xgboost\\dmlc-core\\include\\dmlc\n",
      "    copying xgboost\\dmlc-core\\include\\dmlc\\config.h -> build\\lib.win32-3.8\\xgboost\\dmlc-core\\include\\dmlc\n",
      "    copying xgboost\\dmlc-core\\include\\dmlc\\data.h -> build\\lib.win32-3.8\\xgboost\\dmlc-core\\include\\dmlc\n",
      "    copying xgboost\\dmlc-core\\include\\dmlc\\endian.h -> build\\lib.win32-3.8\\xgboost\\dmlc-core\\include\\dmlc\n",
      "    copying xgboost\\dmlc-core\\include\\dmlc\\filesystem.h -> build\\lib.win32-3.8\\xgboost\\dmlc-core\\include\\dmlc\n",
      "    copying xgboost\\dmlc-core\\include\\dmlc\\input_split_shuffle.h -> build\\lib.win32-3.8\\xgboost\\dmlc-core\\include\\dmlc\n",
      "    copying xgboost\\dmlc-core\\include\\dmlc\\io.h -> build\\lib.win32-3.8\\xgboost\\dmlc-core\\include\\dmlc\n",
      "    copying xgboost\\dmlc-core\\include\\dmlc\\json.h -> build\\lib.win32-3.8\\xgboost\\dmlc-core\\include\\dmlc\n",
      "    copying xgboost\\dmlc-core\\include\\dmlc\\logging.h -> build\\lib.win32-3.8\\xgboost\\dmlc-core\\include\\dmlc\n",
      "    copying xgboost\\dmlc-core\\include\\dmlc\\lua.h -> build\\lib.win32-3.8\\xgboost\\dmlc-core\\include\\dmlc\n",
      "    copying xgboost\\dmlc-core\\include\\dmlc\\memory.h -> build\\lib.win32-3.8\\xgboost\\dmlc-core\\include\\dmlc\n",
      "    copying xgboost\\dmlc-core\\include\\dmlc\\memory_io.h -> build\\lib.win32-3.8\\xgboost\\dmlc-core\\include\\dmlc\n",
      "    copying xgboost\\dmlc-core\\include\\dmlc\\omp.h -> build\\lib.win32-3.8\\xgboost\\dmlc-core\\include\\dmlc\n",
      "    copying xgboost\\dmlc-core\\include\\dmlc\\optional.h -> build\\lib.win32-3.8\\xgboost\\dmlc-core\\include\\dmlc\n",
      "    copying xgboost\\dmlc-core\\include\\dmlc\\parameter.h -> build\\lib.win32-3.8\\xgboost\\dmlc-core\\include\\dmlc\n",
      "    copying xgboost\\dmlc-core\\include\\dmlc\\recordio.h -> build\\lib.win32-3.8\\xgboost\\dmlc-core\\include\\dmlc\n",
      "    copying xgboost\\dmlc-core\\include\\dmlc\\registry.h -> build\\lib.win32-3.8\\xgboost\\dmlc-core\\include\\dmlc\n",
      "    copying xgboost\\dmlc-core\\include\\dmlc\\serializer.h -> build\\lib.win32-3.8\\xgboost\\dmlc-core\\include\\dmlc\n",
      "    copying xgboost\\dmlc-core\\include\\dmlc\\strtonum.h -> build\\lib.win32-3.8\\xgboost\\dmlc-core\\include\\dmlc\n",
      "    copying xgboost\\dmlc-core\\include\\dmlc\\thread_group.h -> build\\lib.win32-3.8\\xgboost\\dmlc-core\\include\\dmlc\n",
      "    copying xgboost\\dmlc-core\\include\\dmlc\\thread_local.h -> build\\lib.win32-3.8\\xgboost\\dmlc-core\\include\\dmlc\n",
      "    copying xgboost\\dmlc-core\\include\\dmlc\\threadediter.h -> build\\lib.win32-3.8\\xgboost\\dmlc-core\\include\\dmlc\n",
      "    copying xgboost\\dmlc-core\\include\\dmlc\\timer.h -> build\\lib.win32-3.8\\xgboost\\dmlc-core\\include\\dmlc\n",
      "    copying xgboost\\dmlc-core\\include\\dmlc\\type_traits.h -> build\\lib.win32-3.8\\xgboost\\dmlc-core\\include\\dmlc\n",
      "    creating build\\lib.win32-3.8\\xgboost\\dmlc-core\\make\n",
      "    copying xgboost\\dmlc-core\\make\\config.mk -> build\\lib.win32-3.8\\xgboost\\dmlc-core\\make\n",
      "    copying xgboost\\dmlc-core\\make\\dmlc.mk -> build\\lib.win32-3.8\\xgboost\\dmlc-core\\make\n",
      "    creating build\\lib.win32-3.8\\xgboost\\dmlc-core\\src\n",
      "    copying xgboost\\dmlc-core\\src\\config.cc -> build\\lib.win32-3.8\\xgboost\\dmlc-core\\src\n",
      "    copying xgboost\\dmlc-core\\src\\data.cc -> build\\lib.win32-3.8\\xgboost\\dmlc-core\\src\n",
      "    copying xgboost\\dmlc-core\\src\\io.cc -> build\\lib.win32-3.8\\xgboost\\dmlc-core\\src\n",
      "    copying xgboost\\dmlc-core\\src\\recordio.cc -> build\\lib.win32-3.8\\xgboost\\dmlc-core\\src\n",
      "    creating build\\lib.win32-3.8\\xgboost\\dmlc-core\\src\\data\n",
      "    copying xgboost\\dmlc-core\\src\\data\\basic_row_iter.h -> build\\lib.win32-3.8\\xgboost\\dmlc-core\\src\\data\n",
      "    copying xgboost\\dmlc-core\\src\\data\\csv_parser.h -> build\\lib.win32-3.8\\xgboost\\dmlc-core\\src\\data\n",
      "    copying xgboost\\dmlc-core\\src\\data\\disk_row_iter.h -> build\\lib.win32-3.8\\xgboost\\dmlc-core\\src\\data\n",
      "    copying xgboost\\dmlc-core\\src\\data\\libfm_parser.h -> build\\lib.win32-3.8\\xgboost\\dmlc-core\\src\\data\n",
      "    copying xgboost\\dmlc-core\\src\\data\\libsvm_parser.h -> build\\lib.win32-3.8\\xgboost\\dmlc-core\\src\\data\n",
      "    copying xgboost\\dmlc-core\\src\\data\\parser.h -> build\\lib.win32-3.8\\xgboost\\dmlc-core\\src\\data\n",
      "    copying xgboost\\dmlc-core\\src\\data\\row_block.h -> build\\lib.win32-3.8\\xgboost\\dmlc-core\\src\\data\n",
      "    copying xgboost\\dmlc-core\\src\\data\\text_parser.h -> build\\lib.win32-3.8\\xgboost\\dmlc-core\\src\\data\n",
      "    creating build\\lib.win32-3.8\\xgboost\\dmlc-core\\src\\io\n",
      "    copying xgboost\\dmlc-core\\src\\io\\azure_filesys.cc -> build\\lib.win32-3.8\\xgboost\\dmlc-core\\src\\io\n",
      "    copying xgboost\\dmlc-core\\src\\io\\azure_filesys.h -> build\\lib.win32-3.8\\xgboost\\dmlc-core\\src\\io\n",
      "    copying xgboost\\dmlc-core\\src\\io\\cached_input_split.h -> build\\lib.win32-3.8\\xgboost\\dmlc-core\\src\\io\n",
      "    copying xgboost\\dmlc-core\\src\\io\\filesys.cc -> build\\lib.win32-3.8\\xgboost\\dmlc-core\\src\\io\n",
      "    copying xgboost\\dmlc-core\\src\\io\\hdfs_filesys.cc -> build\\lib.win32-3.8\\xgboost\\dmlc-core\\src\\io\n",
      "    copying xgboost\\dmlc-core\\src\\io\\hdfs_filesys.h -> build\\lib.win32-3.8\\xgboost\\dmlc-core\\src\\io\n",
      "    copying xgboost\\dmlc-core\\src\\io\\indexed_recordio_split.cc -> build\\lib.win32-3.8\\xgboost\\dmlc-core\\src\\io\n",
      "    copying xgboost\\dmlc-core\\src\\io\\indexed_recordio_split.h -> build\\lib.win32-3.8\\xgboost\\dmlc-core\\src\\io\n",
      "    copying xgboost\\dmlc-core\\src\\io\\input_split_base.cc -> build\\lib.win32-3.8\\xgboost\\dmlc-core\\src\\io\n",
      "    copying xgboost\\dmlc-core\\src\\io\\input_split_base.h -> build\\lib.win32-3.8\\xgboost\\dmlc-core\\src\\io\n",
      "    copying xgboost\\dmlc-core\\src\\io\\line_split.cc -> build\\lib.win32-3.8\\xgboost\\dmlc-core\\src\\io\n",
      "    copying xgboost\\dmlc-core\\src\\io\\line_split.h -> build\\lib.win32-3.8\\xgboost\\dmlc-core\\src\\io\n",
      "    copying xgboost\\dmlc-core\\src\\io\\local_filesys.cc -> build\\lib.win32-3.8\\xgboost\\dmlc-core\\src\\io\n",
      "    copying xgboost\\dmlc-core\\src\\io\\local_filesys.h -> build\\lib.win32-3.8\\xgboost\\dmlc-core\\src\\io\n",
      "    copying xgboost\\dmlc-core\\src\\io\\recordio_split.cc -> build\\lib.win32-3.8\\xgboost\\dmlc-core\\src\\io\n",
      "    copying xgboost\\dmlc-core\\src\\io\\recordio_split.h -> build\\lib.win32-3.8\\xgboost\\dmlc-core\\src\\io\n",
      "    copying xgboost\\dmlc-core\\src\\io\\s3_filesys.cc -> build\\lib.win32-3.8\\xgboost\\dmlc-core\\src\\io\n",
      "    copying xgboost\\dmlc-core\\src\\io\\s3_filesys.h -> build\\lib.win32-3.8\\xgboost\\dmlc-core\\src\\io\n",
      "    copying xgboost\\dmlc-core\\src\\io\\single_file_split.h -> build\\lib.win32-3.8\\xgboost\\dmlc-core\\src\\io\n",
      "    copying xgboost\\dmlc-core\\src\\io\\single_threaded_input_split.h -> build\\lib.win32-3.8\\xgboost\\dmlc-core\\src\\io\n",
      "    copying xgboost\\dmlc-core\\src\\io\\threaded_input_split.h -> build\\lib.win32-3.8\\xgboost\\dmlc-core\\src\\io\n",
      "    copying xgboost\\dmlc-core\\src\\io\\uri_spec.h -> build\\lib.win32-3.8\\xgboost\\dmlc-core\\src\\io\n",
      "    creating build\\lib.win32-3.8\\xgboost\\dmlc-core\\tracker\n",
      "    copying xgboost\\dmlc-core\\tracker\\dmlc-submit -> build\\lib.win32-3.8\\xgboost\\dmlc-core\\tracker\n",
      "    creating build\\lib.win32-3.8\\xgboost\\dmlc-core\\tracker\\dmlc_tracker\n",
      "    copying xgboost\\dmlc-core\\tracker\\dmlc_tracker\\__init__.py -> build\\lib.win32-3.8\\xgboost\\dmlc-core\\tracker\\dmlc_tracker\n",
      "    copying xgboost\\dmlc-core\\tracker\\dmlc_tracker\\kubernetes.py -> build\\lib.win32-3.8\\xgboost\\dmlc-core\\tracker\\dmlc_tracker\n",
      "    copying xgboost\\dmlc-core\\tracker\\dmlc_tracker\\launcher.py -> build\\lib.win32-3.8\\xgboost\\dmlc-core\\tracker\\dmlc_tracker\n",
      "    copying xgboost\\dmlc-core\\tracker\\dmlc_tracker\\local.py -> build\\lib.win32-3.8\\xgboost\\dmlc-core\\tracker\\dmlc_tracker\n",
      "    copying xgboost\\dmlc-core\\tracker\\dmlc_tracker\\mesos.py -> build\\lib.win32-3.8\\xgboost\\dmlc-core\\tracker\\dmlc_tracker\n",
      "    copying xgboost\\dmlc-core\\tracker\\dmlc_tracker\\mpi.py -> build\\lib.win32-3.8\\xgboost\\dmlc-core\\tracker\\dmlc_tracker\n",
      "    copying xgboost\\dmlc-core\\tracker\\dmlc_tracker\\opts.py -> build\\lib.win32-3.8\\xgboost\\dmlc-core\\tracker\\dmlc_tracker\n",
      "    copying xgboost\\dmlc-core\\tracker\\dmlc_tracker\\sge.py -> build\\lib.win32-3.8\\xgboost\\dmlc-core\\tracker\\dmlc_tracker\n",
      "    copying xgboost\\dmlc-core\\tracker\\dmlc_tracker\\slurm.py -> build\\lib.win32-3.8\\xgboost\\dmlc-core\\tracker\\dmlc_tracker\n",
      "    copying xgboost\\dmlc-core\\tracker\\dmlc_tracker\\ssh.py -> build\\lib.win32-3.8\\xgboost\\dmlc-core\\tracker\\dmlc_tracker\n",
      "    copying xgboost\\dmlc-core\\tracker\\dmlc_tracker\\submit.py -> build\\lib.win32-3.8\\xgboost\\dmlc-core\\tracker\\dmlc_tracker\n",
      "    copying xgboost\\dmlc-core\\tracker\\dmlc_tracker\\tracker.py -> build\\lib.win32-3.8\\xgboost\\dmlc-core\\tracker\\dmlc_tracker\n",
      "    copying xgboost\\dmlc-core\\tracker\\dmlc_tracker\\util.py -> build\\lib.win32-3.8\\xgboost\\dmlc-core\\tracker\\dmlc_tracker\n",
      "    copying xgboost\\dmlc-core\\tracker\\dmlc_tracker\\yarn.py -> build\\lib.win32-3.8\\xgboost\\dmlc-core\\tracker\\dmlc_tracker\n",
      "    creating build\\lib.win32-3.8\\xgboost\\dmlc-core\\tracker\\yarn\n",
      "    copying xgboost\\dmlc-core\\tracker\\yarn\\build.bat -> build\\lib.win32-3.8\\xgboost\\dmlc-core\\tracker\\yarn\n",
      "    copying xgboost\\dmlc-core\\tracker\\yarn\\build.sh -> build\\lib.win32-3.8\\xgboost\\dmlc-core\\tracker\\yarn\n",
      "    copying xgboost\\dmlc-core\\tracker\\yarn\\pom.xml -> build\\lib.win32-3.8\\xgboost\\dmlc-core\\tracker\\yarn\n",
      "    creating build\\lib.win32-3.8\\xgboost\\dmlc-core\\tracker\\yarn\\src\n",
      "    creating build\\lib.win32-3.8\\xgboost\\dmlc-core\\tracker\\yarn\\src\\main\n",
      "    creating build\\lib.win32-3.8\\xgboost\\dmlc-core\\tracker\\yarn\\src\\main\\java\n",
      "    creating build\\lib.win32-3.8\\xgboost\\dmlc-core\\tracker\\yarn\\src\\main\\java\\org\n",
      "    creating build\\lib.win32-3.8\\xgboost\\dmlc-core\\tracker\\yarn\\src\\main\\java\\org\\apache\n",
      "    creating build\\lib.win32-3.8\\xgboost\\dmlc-core\\tracker\\yarn\\src\\main\\java\\org\\apache\\hadoop\n",
      "    creating build\\lib.win32-3.8\\xgboost\\dmlc-core\\tracker\\yarn\\src\\main\\java\\org\\apache\\hadoop\\yarn\n",
      "    creating build\\lib.win32-3.8\\xgboost\\dmlc-core\\tracker\\yarn\\src\\main\\java\\org\\apache\\hadoop\\yarn\\dmlc\n",
      "    copying xgboost\\dmlc-core\\tracker\\yarn\\src\\main\\java\\org\\apache\\hadoop\\yarn\\dmlc\\ApplicationMaster.java -> build\\lib.win32-3.8\\xgboost\\dmlc-core\\tracker\\yarn\\src\\main\\java\\org\\apache\\hadoop\\yarn\\dmlc\n",
      "    copying xgboost\\dmlc-core\\tracker\\yarn\\src\\main\\java\\org\\apache\\hadoop\\yarn\\dmlc\\Client.java -> build\\lib.win32-3.8\\xgboost\\dmlc-core\\tracker\\yarn\\src\\main\\java\\org\\apache\\hadoop\\yarn\\dmlc\n",
      "    copying xgboost\\dmlc-core\\tracker\\yarn\\src\\main\\java\\org\\apache\\hadoop\\yarn\\dmlc\\TaskRecord.java -> build\\lib.win32-3.8\\xgboost\\dmlc-core\\tracker\\yarn\\src\\main\\java\\org\\apache\\hadoop\\yarn\\dmlc\n",
      "    creating build\\lib.win32-3.8\\xgboost\\dmlc-core\\windows\n",
      "    copying xgboost\\dmlc-core\\windows\\dmlc.sln -> build\\lib.win32-3.8\\xgboost\\dmlc-core\\windows\n",
      "    creating build\\lib.win32-3.8\\xgboost\\dmlc-core\\windows\\dmlc\n",
      "    copying xgboost\\dmlc-core\\windows\\dmlc\\dmlc.vcxproj -> build\\lib.win32-3.8\\xgboost\\dmlc-core\\windows\\dmlc\n",
      "    creating build\\lib.win32-3.8\\xgboost\\include\n",
      "    creating build\\lib.win32-3.8\\xgboost\\include\\xgboost\n",
      "    copying xgboost\\include\\xgboost\\base.h -> build\\lib.win32-3.8\\xgboost\\include\\xgboost\n",
      "    copying xgboost\\include\\xgboost\\c_api.h -> build\\lib.win32-3.8\\xgboost\\include\\xgboost\n",
      "    copying xgboost\\include\\xgboost\\data.h -> build\\lib.win32-3.8\\xgboost\\include\\xgboost\n",
      "    copying xgboost\\include\\xgboost\\feature_map.h -> build\\lib.win32-3.8\\xgboost\\include\\xgboost\n",
      "    copying xgboost\\include\\xgboost\\gbm.h -> build\\lib.win32-3.8\\xgboost\\include\\xgboost\n",
      "    copying xgboost\\include\\xgboost\\generic_parameters.h -> build\\lib.win32-3.8\\xgboost\\include\\xgboost\n",
      "    copying xgboost\\include\\xgboost\\global_config.h -> build\\lib.win32-3.8\\xgboost\\include\\xgboost\n",
      "    copying xgboost\\include\\xgboost\\host_device_vector.h -> build\\lib.win32-3.8\\xgboost\\include\\xgboost\n",
      "    copying xgboost\\include\\xgboost\\intrusive_ptr.h -> build\\lib.win32-3.8\\xgboost\\include\\xgboost\n",
      "    copying xgboost\\include\\xgboost\\json.h -> build\\lib.win32-3.8\\xgboost\\include\\xgboost\n",
      "    copying xgboost\\include\\xgboost\\json_io.h -> build\\lib.win32-3.8\\xgboost\\include\\xgboost\n",
      "    copying xgboost\\include\\xgboost\\learner.h -> build\\lib.win32-3.8\\xgboost\\include\\xgboost\n",
      "    copying xgboost\\include\\xgboost\\linear_updater.h -> build\\lib.win32-3.8\\xgboost\\include\\xgboost\n",
      "    copying xgboost\\include\\xgboost\\logging.h -> build\\lib.win32-3.8\\xgboost\\include\\xgboost\n",
      "    copying xgboost\\include\\xgboost\\metric.h -> build\\lib.win32-3.8\\xgboost\\include\\xgboost\n",
      "    copying xgboost\\include\\xgboost\\model.h -> build\\lib.win32-3.8\\xgboost\\include\\xgboost\n",
      "    copying xgboost\\include\\xgboost\\objective.h -> build\\lib.win32-3.8\\xgboost\\include\\xgboost\n",
      "    copying xgboost\\include\\xgboost\\parameter.h -> build\\lib.win32-3.8\\xgboost\\include\\xgboost\n",
      "    copying xgboost\\include\\xgboost\\predictor.h -> build\\lib.win32-3.8\\xgboost\\include\\xgboost\n",
      "    copying xgboost\\include\\xgboost\\span.h -> build\\lib.win32-3.8\\xgboost\\include\\xgboost\n",
      "    copying xgboost\\include\\xgboost\\tree_model.h -> build\\lib.win32-3.8\\xgboost\\include\\xgboost\n",
      "    copying xgboost\\include\\xgboost\\tree_updater.h -> build\\lib.win32-3.8\\xgboost\\include\\xgboost\n",
      "    copying xgboost\\include\\xgboost\\version_config.h -> build\\lib.win32-3.8\\xgboost\\include\\xgboost\n",
      "    creating build\\lib.win32-3.8\\xgboost\\plugin\n",
      "    copying xgboost\\plugin\\CMakeLists.txt -> build\\lib.win32-3.8\\xgboost\\plugin\n",
      "    copying xgboost\\plugin\\README.md -> build\\lib.win32-3.8\\xgboost\\plugin\n",
      "    creating build\\lib.win32-3.8\\xgboost\\plugin\\dense_parser\n",
      "    copying xgboost\\plugin\\dense_parser\\dense_libsvm.cc -> build\\lib.win32-3.8\\xgboost\\plugin\\dense_parser\n",
      "    creating build\\lib.win32-3.8\\xgboost\\plugin\\example\n",
      "    copying xgboost\\plugin\\example\\README.md -> build\\lib.win32-3.8\\xgboost\\plugin\\example\n",
      "    copying xgboost\\plugin\\example\\custom_obj.cc -> build\\lib.win32-3.8\\xgboost\\plugin\\example\n",
      "    creating build\\lib.win32-3.8\\xgboost\\plugin\\lz4\n",
      "    copying xgboost\\plugin\\lz4\\sparse_page_lz4_format.cc -> build\\lib.win32-3.8\\xgboost\\plugin\\lz4\n",
      "    creating build\\lib.win32-3.8\\xgboost\\plugin\\updater_gpu\n",
      "    copying xgboost\\plugin\\updater_gpu\\README.md -> build\\lib.win32-3.8\\xgboost\\plugin\\updater_gpu\n",
      "    creating build\\lib.win32-3.8\\xgboost\\plugin\\updater_oneapi\n",
      "    copying xgboost\\plugin\\updater_oneapi\\README.md -> build\\lib.win32-3.8\\xgboost\\plugin\\updater_oneapi\n",
      "    copying xgboost\\plugin\\updater_oneapi\\predictor_oneapi.cc -> build\\lib.win32-3.8\\xgboost\\plugin\\updater_oneapi\n",
      "    copying xgboost\\plugin\\updater_oneapi\\regression_loss_oneapi.h -> build\\lib.win32-3.8\\xgboost\\plugin\\updater_oneapi\n",
      "    copying xgboost\\plugin\\updater_oneapi\\regression_obj_oneapi.cc -> build\\lib.win32-3.8\\xgboost\\plugin\\updater_oneapi\n",
      "    creating build\\lib.win32-3.8\\xgboost\\rabit\n",
      "    copying xgboost\\rabit\\CMakeLists.txt -> build\\lib.win32-3.8\\xgboost\\rabit\n",
      "    creating build\\lib.win32-3.8\\xgboost\\rabit\\include\n",
      "    creating build\\lib.win32-3.8\\xgboost\\rabit\\include\\rabit\n",
      "    copying xgboost\\rabit\\include\\rabit\\base.h -> build\\lib.win32-3.8\\xgboost\\rabit\\include\\rabit\n",
      "    copying xgboost\\rabit\\include\\rabit\\c_api.h -> build\\lib.win32-3.8\\xgboost\\rabit\\include\\rabit\n",
      "    copying xgboost\\rabit\\include\\rabit\\rabit.h -> build\\lib.win32-3.8\\xgboost\\rabit\\include\\rabit\n",
      "    copying xgboost\\rabit\\include\\rabit\\serializable.h -> build\\lib.win32-3.8\\xgboost\\rabit\\include\\rabit\n",
      "    creating build\\lib.win32-3.8\\xgboost\\rabit\\include\\rabit\\internal\n",
      "    copying xgboost\\rabit\\include\\rabit\\internal\\engine.h -> build\\lib.win32-3.8\\xgboost\\rabit\\include\\rabit\\internal\n",
      "    copying xgboost\\rabit\\include\\rabit\\internal\\io.h -> build\\lib.win32-3.8\\xgboost\\rabit\\include\\rabit\\internal\n",
      "    copying xgboost\\rabit\\include\\rabit\\internal\\rabit-inl.h -> build\\lib.win32-3.8\\xgboost\\rabit\\include\\rabit\\internal\n",
      "    copying xgboost\\rabit\\include\\rabit\\internal\\socket.h -> build\\lib.win32-3.8\\xgboost\\rabit\\include\\rabit\\internal\n",
      "    copying xgboost\\rabit\\include\\rabit\\internal\\utils.h -> build\\lib.win32-3.8\\xgboost\\rabit\\include\\rabit\\internal\n",
      "    creating build\\lib.win32-3.8\\xgboost\\rabit\\src\n",
      "    copying xgboost\\rabit\\src\\allreduce_base.cc -> build\\lib.win32-3.8\\xgboost\\rabit\\src\n",
      "    copying xgboost\\rabit\\src\\allreduce_base.h -> build\\lib.win32-3.8\\xgboost\\rabit\\src\n",
      "    copying xgboost\\rabit\\src\\allreduce_mock.h -> build\\lib.win32-3.8\\xgboost\\rabit\\src\n",
      "    copying xgboost\\rabit\\src\\c_api.cc -> build\\lib.win32-3.8\\xgboost\\rabit\\src\n",
      "    copying xgboost\\rabit\\src\\engine.cc -> build\\lib.win32-3.8\\xgboost\\rabit\\src\n",
      "    copying xgboost\\rabit\\src\\engine_mock.cc -> build\\lib.win32-3.8\\xgboost\\rabit\\src\n",
      "    copying xgboost\\rabit\\src\\engine_mpi.cc -> build\\lib.win32-3.8\\xgboost\\rabit\\src\n",
      "    creating build\\lib.win32-3.8\\xgboost\\src\n",
      "    copying xgboost\\src\\CMakeLists.txt -> build\\lib.win32-3.8\\xgboost\\src\n",
      "    copying xgboost\\src\\cli_main.cc -> build\\lib.win32-3.8\\xgboost\\src\n",
      "    copying xgboost\\src\\global_config.cc -> build\\lib.win32-3.8\\xgboost\\src\n",
      "    copying xgboost\\src\\learner.cc -> build\\lib.win32-3.8\\xgboost\\src\n",
      "    copying xgboost\\src\\logging.cc -> build\\lib.win32-3.8\\xgboost\\src\n",
      "    creating build\\lib.win32-3.8\\xgboost\\src\\c_api\n",
      "    copying xgboost\\src\\c_api\\c_api.cc -> build\\lib.win32-3.8\\xgboost\\src\\c_api\n",
      "    copying xgboost\\src\\c_api\\c_api.cu -> build\\lib.win32-3.8\\xgboost\\src\\c_api\n",
      "    copying xgboost\\src\\c_api\\c_api_error.cc -> build\\lib.win32-3.8\\xgboost\\src\\c_api\n",
      "    copying xgboost\\src\\c_api\\c_api_error.h -> build\\lib.win32-3.8\\xgboost\\src\\c_api\n",
      "    copying xgboost\\src\\c_api\\c_api_utils.h -> build\\lib.win32-3.8\\xgboost\\src\\c_api\n",
      "    creating build\\lib.win32-3.8\\xgboost\\src\\common\n",
      "    copying xgboost\\src\\common\\base64.h -> build\\lib.win32-3.8\\xgboost\\src\\common\n",
      "    copying xgboost\\src\\common\\bitfield.h -> build\\lib.win32-3.8\\xgboost\\src\\common\n",
      "    copying xgboost\\src\\common\\categorical.h -> build\\lib.win32-3.8\\xgboost\\src\\common\n",
      "    copying xgboost\\src\\common\\charconv.cc -> build\\lib.win32-3.8\\xgboost\\src\\common\n",
      "    copying xgboost\\src\\common\\charconv.h -> build\\lib.win32-3.8\\xgboost\\src\\common\n",
      "    copying xgboost\\src\\common\\column_matrix.h -> build\\lib.win32-3.8\\xgboost\\src\\common\n",
      "    copying xgboost\\src\\common\\common.cc -> build\\lib.win32-3.8\\xgboost\\src\\common\n",
      "    copying xgboost\\src\\common\\common.cu -> build\\lib.win32-3.8\\xgboost\\src\\common\n",
      "    copying xgboost\\src\\common\\common.h -> build\\lib.win32-3.8\\xgboost\\src\\common\n",
      "    copying xgboost\\src\\common\\compressed_iterator.h -> build\\lib.win32-3.8\\xgboost\\src\\common\n",
      "    copying xgboost\\src\\common\\config.h -> build\\lib.win32-3.8\\xgboost\\src\\common\n",
      "    copying xgboost\\src\\common\\device_helpers.cu -> build\\lib.win32-3.8\\xgboost\\src\\common\n",
      "    copying xgboost\\src\\common\\device_helpers.cuh -> build\\lib.win32-3.8\\xgboost\\src\\common\n",
      "    copying xgboost\\src\\common\\group_data.h -> build\\lib.win32-3.8\\xgboost\\src\\common\n",
      "    copying xgboost\\src\\common\\hist_util.cc -> build\\lib.win32-3.8\\xgboost\\src\\common\n",
      "    copying xgboost\\src\\common\\hist_util.cu -> build\\lib.win32-3.8\\xgboost\\src\\common\n",
      "    copying xgboost\\src\\common\\hist_util.cuh -> build\\lib.win32-3.8\\xgboost\\src\\common\n",
      "    copying xgboost\\src\\common\\hist_util.h -> build\\lib.win32-3.8\\xgboost\\src\\common\n",
      "    copying xgboost\\src\\common\\host_device_vector.cc -> build\\lib.win32-3.8\\xgboost\\src\\common\n",
      "    copying xgboost\\src\\common\\host_device_vector.cu -> build\\lib.win32-3.8\\xgboost\\src\\common\n",
      "    copying xgboost\\src\\common\\io.cc -> build\\lib.win32-3.8\\xgboost\\src\\common\n",
      "    copying xgboost\\src\\common\\io.h -> build\\lib.win32-3.8\\xgboost\\src\\common\n",
      "    copying xgboost\\src\\common\\json.cc -> build\\lib.win32-3.8\\xgboost\\src\\common\n",
      "    copying xgboost\\src\\common\\math.h -> build\\lib.win32-3.8\\xgboost\\src\\common\n",
      "    copying xgboost\\src\\common\\observer.h -> build\\lib.win32-3.8\\xgboost\\src\\common\n",
      "    copying xgboost\\src\\common\\probability_distribution.h -> build\\lib.win32-3.8\\xgboost\\src\\common\n",
      "    copying xgboost\\src\\common\\quantile.cc -> build\\lib.win32-3.8\\xgboost\\src\\common\n",
      "    copying xgboost\\src\\common\\quantile.cu -> build\\lib.win32-3.8\\xgboost\\src\\common\n",
      "    copying xgboost\\src\\common\\quantile.cuh -> build\\lib.win32-3.8\\xgboost\\src\\common\n",
      "    copying xgboost\\src\\common\\quantile.h -> build\\lib.win32-3.8\\xgboost\\src\\common\n",
      "    copying xgboost\\src\\common\\random.cc -> build\\lib.win32-3.8\\xgboost\\src\\common\n",
      "    copying xgboost\\src\\common\\random.h -> build\\lib.win32-3.8\\xgboost\\src\\common\n",
      "    copying xgboost\\src\\common\\ranking_utils.cuh -> build\\lib.win32-3.8\\xgboost\\src\\common\n",
      "    copying xgboost\\src\\common\\row_set.h -> build\\lib.win32-3.8\\xgboost\\src\\common\n",
      "    copying xgboost\\src\\common\\survival_util.cc -> build\\lib.win32-3.8\\xgboost\\src\\common\n",
      "    copying xgboost\\src\\common\\survival_util.h -> build\\lib.win32-3.8\\xgboost\\src\\common\n",
      "    copying xgboost\\src\\common\\threading_utils.h -> build\\lib.win32-3.8\\xgboost\\src\\common\n",
      "    copying xgboost\\src\\common\\timer.cc -> build\\lib.win32-3.8\\xgboost\\src\\common\n",
      "    copying xgboost\\src\\common\\timer.h -> build\\lib.win32-3.8\\xgboost\\src\\common\n",
      "    copying xgboost\\src\\common\\transform.h -> build\\lib.win32-3.8\\xgboost\\src\\common\n",
      "    copying xgboost\\src\\common\\version.cc -> build\\lib.win32-3.8\\xgboost\\src\\common\n",
      "    copying xgboost\\src\\common\\version.h -> build\\lib.win32-3.8\\xgboost\\src\\common\n",
      "    creating build\\lib.win32-3.8\\xgboost\\src\\data\n",
      "    copying xgboost\\src\\data\\adapter.h -> build\\lib.win32-3.8\\xgboost\\src\\data\n",
      "    copying xgboost\\src\\data\\array_interface.cu -> build\\lib.win32-3.8\\xgboost\\src\\data\n",
      "    copying xgboost\\src\\data\\array_interface.h -> build\\lib.win32-3.8\\xgboost\\src\\data\n",
      "    copying xgboost\\src\\data\\data.cc -> build\\lib.win32-3.8\\xgboost\\src\\data\n",
      "    copying xgboost\\src\\data\\data.cu -> build\\lib.win32-3.8\\xgboost\\src\\data\n",
      "    copying xgboost\\src\\data\\device_adapter.cuh -> build\\lib.win32-3.8\\xgboost\\src\\data\n",
      "    copying xgboost\\src\\data\\ellpack_page.cc -> build\\lib.win32-3.8\\xgboost\\src\\data\n",
      "    copying xgboost\\src\\data\\ellpack_page.cu -> build\\lib.win32-3.8\\xgboost\\src\\data\n",
      "    copying xgboost\\src\\data\\ellpack_page.cuh -> build\\lib.win32-3.8\\xgboost\\src\\data\n",
      "    copying xgboost\\src\\data\\ellpack_page_raw_format.cu -> build\\lib.win32-3.8\\xgboost\\src\\data\n",
      "    copying xgboost\\src\\data\\ellpack_page_source.cc -> build\\lib.win32-3.8\\xgboost\\src\\data\n",
      "    copying xgboost\\src\\data\\ellpack_page_source.cu -> build\\lib.win32-3.8\\xgboost\\src\\data\n",
      "    copying xgboost\\src\\data\\ellpack_page_source.h -> build\\lib.win32-3.8\\xgboost\\src\\data\n",
      "    copying xgboost\\src\\data\\iterative_device_dmatrix.cu -> build\\lib.win32-3.8\\xgboost\\src\\data\n",
      "    copying xgboost\\src\\data\\iterative_device_dmatrix.h -> build\\lib.win32-3.8\\xgboost\\src\\data\n",
      "    copying xgboost\\src\\data\\proxy_dmatrix.cu -> build\\lib.win32-3.8\\xgboost\\src\\data\n",
      "    copying xgboost\\src\\data\\proxy_dmatrix.h -> build\\lib.win32-3.8\\xgboost\\src\\data\n",
      "    copying xgboost\\src\\data\\simple_batch_iterator.h -> build\\lib.win32-3.8\\xgboost\\src\\data\n",
      "    copying xgboost\\src\\data\\simple_dmatrix.cc -> build\\lib.win32-3.8\\xgboost\\src\\data\n",
      "    copying xgboost\\src\\data\\simple_dmatrix.cu -> build\\lib.win32-3.8\\xgboost\\src\\data\n",
      "    copying xgboost\\src\\data\\simple_dmatrix.h -> build\\lib.win32-3.8\\xgboost\\src\\data\n",
      "    copying xgboost\\src\\data\\sparse_page_dmatrix.cc -> build\\lib.win32-3.8\\xgboost\\src\\data\n",
      "    copying xgboost\\src\\data\\sparse_page_dmatrix.h -> build\\lib.win32-3.8\\xgboost\\src\\data\n",
      "    copying xgboost\\src\\data\\sparse_page_raw_format.cc -> build\\lib.win32-3.8\\xgboost\\src\\data\n",
      "    copying xgboost\\src\\data\\sparse_page_source.cc -> build\\lib.win32-3.8\\xgboost\\src\\data\n",
      "    copying xgboost\\src\\data\\sparse_page_source.h -> build\\lib.win32-3.8\\xgboost\\src\\data\n",
      "    copying xgboost\\src\\data\\sparse_page_writer.h -> build\\lib.win32-3.8\\xgboost\\src\\data\n",
      "    creating build\\lib.win32-3.8\\xgboost\\src\\gbm\n",
      "    copying xgboost\\src\\gbm\\gblinear.cc -> build\\lib.win32-3.8\\xgboost\\src\\gbm\n",
      "    copying xgboost\\src\\gbm\\gblinear_model.cc -> build\\lib.win32-3.8\\xgboost\\src\\gbm\n",
      "    copying xgboost\\src\\gbm\\gblinear_model.h -> build\\lib.win32-3.8\\xgboost\\src\\gbm\n",
      "    copying xgboost\\src\\gbm\\gbm.cc -> build\\lib.win32-3.8\\xgboost\\src\\gbm\n",
      "    copying xgboost\\src\\gbm\\gbtree.cc -> build\\lib.win32-3.8\\xgboost\\src\\gbm\n",
      "    copying xgboost\\src\\gbm\\gbtree.cu -> build\\lib.win32-3.8\\xgboost\\src\\gbm\n",
      "    copying xgboost\\src\\gbm\\gbtree.h -> build\\lib.win32-3.8\\xgboost\\src\\gbm\n",
      "    copying xgboost\\src\\gbm\\gbtree_model.cc -> build\\lib.win32-3.8\\xgboost\\src\\gbm\n",
      "    copying xgboost\\src\\gbm\\gbtree_model.h -> build\\lib.win32-3.8\\xgboost\\src\\gbm\n",
      "    creating build\\lib.win32-3.8\\xgboost\\src\\linear\n",
      "    copying xgboost\\src\\linear\\coordinate_common.h -> build\\lib.win32-3.8\\xgboost\\src\\linear\n",
      "    copying xgboost\\src\\linear\\linear_updater.cc -> build\\lib.win32-3.8\\xgboost\\src\\linear\n",
      "    copying xgboost\\src\\linear\\param.h -> build\\lib.win32-3.8\\xgboost\\src\\linear\n",
      "    copying xgboost\\src\\linear\\updater_coordinate.cc -> build\\lib.win32-3.8\\xgboost\\src\\linear\n",
      "    copying xgboost\\src\\linear\\updater_gpu_coordinate.cu -> build\\lib.win32-3.8\\xgboost\\src\\linear\n",
      "    copying xgboost\\src\\linear\\updater_shotgun.cc -> build\\lib.win32-3.8\\xgboost\\src\\linear\n",
      "    creating build\\lib.win32-3.8\\xgboost\\src\\metric\n",
      "    copying xgboost\\src\\metric\\auc.cc -> build\\lib.win32-3.8\\xgboost\\src\\metric\n",
      "    copying xgboost\\src\\metric\\auc.cu -> build\\lib.win32-3.8\\xgboost\\src\\metric\n",
      "    copying xgboost\\src\\metric\\auc.h -> build\\lib.win32-3.8\\xgboost\\src\\metric\n",
      "    copying xgboost\\src\\metric\\elementwise_metric.cc -> build\\lib.win32-3.8\\xgboost\\src\\metric\n",
      "    copying xgboost\\src\\metric\\elementwise_metric.cu -> build\\lib.win32-3.8\\xgboost\\src\\metric\n",
      "    copying xgboost\\src\\metric\\metric.cc -> build\\lib.win32-3.8\\xgboost\\src\\metric\n",
      "    copying xgboost\\src\\metric\\metric_common.h -> build\\lib.win32-3.8\\xgboost\\src\\metric\n",
      "    copying xgboost\\src\\metric\\multiclass_metric.cc -> build\\lib.win32-3.8\\xgboost\\src\\metric\n",
      "    copying xgboost\\src\\metric\\multiclass_metric.cu -> build\\lib.win32-3.8\\xgboost\\src\\metric\n",
      "    copying xgboost\\src\\metric\\rank_metric.cc -> build\\lib.win32-3.8\\xgboost\\src\\metric\n",
      "    copying xgboost\\src\\metric\\rank_metric.cu -> build\\lib.win32-3.8\\xgboost\\src\\metric\n",
      "    copying xgboost\\src\\metric\\survival_metric.cc -> build\\lib.win32-3.8\\xgboost\\src\\metric\n",
      "    copying xgboost\\src\\metric\\survival_metric.cu -> build\\lib.win32-3.8\\xgboost\\src\\metric\n",
      "    creating build\\lib.win32-3.8\\xgboost\\src\\objective\n",
      "    copying xgboost\\src\\objective\\aft_obj.cc -> build\\lib.win32-3.8\\xgboost\\src\\objective\n",
      "    copying xgboost\\src\\objective\\aft_obj.cu -> build\\lib.win32-3.8\\xgboost\\src\\objective\n",
      "    copying xgboost\\src\\objective\\hinge.cc -> build\\lib.win32-3.8\\xgboost\\src\\objective\n",
      "    copying xgboost\\src\\objective\\hinge.cu -> build\\lib.win32-3.8\\xgboost\\src\\objective\n",
      "    copying xgboost\\src\\objective\\multiclass_obj.cc -> build\\lib.win32-3.8\\xgboost\\src\\objective\n",
      "    copying xgboost\\src\\objective\\multiclass_obj.cu -> build\\lib.win32-3.8\\xgboost\\src\\objective\n",
      "    copying xgboost\\src\\objective\\objective.cc -> build\\lib.win32-3.8\\xgboost\\src\\objective\n",
      "    copying xgboost\\src\\objective\\rank_obj.cc -> build\\lib.win32-3.8\\xgboost\\src\\objective\n",
      "    copying xgboost\\src\\objective\\rank_obj.cu -> build\\lib.win32-3.8\\xgboost\\src\\objective\n",
      "    copying xgboost\\src\\objective\\regression_loss.h -> build\\lib.win32-3.8\\xgboost\\src\\objective\n",
      "    copying xgboost\\src\\objective\\regression_obj.cc -> build\\lib.win32-3.8\\xgboost\\src\\objective\n",
      "    copying xgboost\\src\\objective\\regression_obj.cu -> build\\lib.win32-3.8\\xgboost\\src\\objective\n",
      "    creating build\\lib.win32-3.8\\xgboost\\src\\predictor\n",
      "    copying xgboost\\src\\predictor\\cpu_predictor.cc -> build\\lib.win32-3.8\\xgboost\\src\\predictor\n",
      "    copying xgboost\\src\\predictor\\gpu_predictor.cu -> build\\lib.win32-3.8\\xgboost\\src\\predictor\n",
      "    copying xgboost\\src\\predictor\\predictor.cc -> build\\lib.win32-3.8\\xgboost\\src\\predictor\n",
      "    creating build\\lib.win32-3.8\\xgboost\\src\\tree\n",
      "    copying xgboost\\src\\tree\\constraints.cc -> build\\lib.win32-3.8\\xgboost\\src\\tree\n",
      "    copying xgboost\\src\\tree\\constraints.cu -> build\\lib.win32-3.8\\xgboost\\src\\tree\n",
      "    copying xgboost\\src\\tree\\constraints.cuh -> build\\lib.win32-3.8\\xgboost\\src\\tree\n",
      "    copying xgboost\\src\\tree\\constraints.h -> build\\lib.win32-3.8\\xgboost\\src\\tree\n",
      "    copying xgboost\\src\\tree\\param.cc -> build\\lib.win32-3.8\\xgboost\\src\\tree\n",
      "    copying xgboost\\src\\tree\\param.h -> build\\lib.win32-3.8\\xgboost\\src\\tree\n",
      "    copying xgboost\\src\\tree\\split_evaluator.h -> build\\lib.win32-3.8\\xgboost\\src\\tree\n",
      "    copying xgboost\\src\\tree\\tree_model.cc -> build\\lib.win32-3.8\\xgboost\\src\\tree\n",
      "    copying xgboost\\src\\tree\\tree_updater.cc -> build\\lib.win32-3.8\\xgboost\\src\\tree\n",
      "    copying xgboost\\src\\tree\\updater_basemaker-inl.h -> build\\lib.win32-3.8\\xgboost\\src\\tree\n",
      "    copying xgboost\\src\\tree\\updater_colmaker.cc -> build\\lib.win32-3.8\\xgboost\\src\\tree\n",
      "    copying xgboost\\src\\tree\\updater_gpu_common.cuh -> build\\lib.win32-3.8\\xgboost\\src\\tree\n",
      "    copying xgboost\\src\\tree\\updater_gpu_hist.cu -> build\\lib.win32-3.8\\xgboost\\src\\tree\n",
      "    copying xgboost\\src\\tree\\updater_histmaker.cc -> build\\lib.win32-3.8\\xgboost\\src\\tree\n",
      "    copying xgboost\\src\\tree\\updater_prune.cc -> build\\lib.win32-3.8\\xgboost\\src\\tree\n",
      "    copying xgboost\\src\\tree\\updater_quantile_hist.cc -> build\\lib.win32-3.8\\xgboost\\src\\tree\n",
      "    copying xgboost\\src\\tree\\updater_quantile_hist.h -> build\\lib.win32-3.8\\xgboost\\src\\tree\n",
      "    copying xgboost\\src\\tree\\updater_refresh.cc -> build\\lib.win32-3.8\\xgboost\\src\\tree\n",
      "    copying xgboost\\src\\tree\\updater_sync.cc -> build\\lib.win32-3.8\\xgboost\\src\\tree\n",
      "    creating build\\lib.win32-3.8\\xgboost\\src\\tree\\gpu_hist\n",
      "    copying xgboost\\src\\tree\\gpu_hist\\driver.cuh -> build\\lib.win32-3.8\\xgboost\\src\\tree\\gpu_hist\n",
      "    copying xgboost\\src\\tree\\gpu_hist\\evaluate_splits.cu -> build\\lib.win32-3.8\\xgboost\\src\\tree\\gpu_hist\n",
      "    copying xgboost\\src\\tree\\gpu_hist\\evaluate_splits.cuh -> build\\lib.win32-3.8\\xgboost\\src\\tree\\gpu_hist\n",
      "    copying xgboost\\src\\tree\\gpu_hist\\feature_groups.cu -> build\\lib.win32-3.8\\xgboost\\src\\tree\\gpu_hist\n",
      "    copying xgboost\\src\\tree\\gpu_hist\\feature_groups.cuh -> build\\lib.win32-3.8\\xgboost\\src\\tree\\gpu_hist\n",
      "    copying xgboost\\src\\tree\\gpu_hist\\gradient_based_sampler.cu -> build\\lib.win32-3.8\\xgboost\\src\\tree\\gpu_hist\n",
      "    copying xgboost\\src\\tree\\gpu_hist\\gradient_based_sampler.cuh -> build\\lib.win32-3.8\\xgboost\\src\\tree\\gpu_hist\n"
     ]
    },
    {
     "name": "stderr",
     "output_type": "stream",
     "text": [
      "    copying xgboost\\src\\tree\\gpu_hist\\histogram.cu -> build\\lib.win32-3.8\\xgboost\\src\\tree\\gpu_hist\n",
      "    copying xgboost\\src\\tree\\gpu_hist\\histogram.cuh -> build\\lib.win32-3.8\\xgboost\\src\\tree\\gpu_hist\n",
      "    copying xgboost\\src\\tree\\gpu_hist\\row_partitioner.cu -> build\\lib.win32-3.8\\xgboost\\src\\tree\\gpu_hist\n",
      "    copying xgboost\\src\\tree\\gpu_hist\\row_partitioner.cuh -> build\\lib.win32-3.8\\xgboost\\src\\tree\\gpu_hist\n",
      "    running build_ext\n",
      "    creating build\\temp.win32-3.8\n",
      "    creating build\\temp.win32-3.8\\Release\n",
      "    creating build\\temp.win32-3.8\\Release\\xgboost\n",
      "    creating build\\temp.win32-3.8\\Release\\xgboost\\src\n",
      "    copying xgboost\\src\\cli_main.cc -> build\\temp.win32-3.8\\Release\\xgboost\\src\n",
      "    copying xgboost\\src\\CMakeLists.txt -> build\\temp.win32-3.8\\Release\\xgboost\\src\n",
      "    creating build\\temp.win32-3.8\\Release\\xgboost\\src\\common\n",
      "    copying xgboost\\src\\common\\base64.h -> build\\temp.win32-3.8\\Release\\xgboost\\src\\common\n",
      "    copying xgboost\\src\\common\\bitfield.h -> build\\temp.win32-3.8\\Release\\xgboost\\src\\common\n",
      "    copying xgboost\\src\\common\\categorical.h -> build\\temp.win32-3.8\\Release\\xgboost\\src\\common\n",
      "    copying xgboost\\src\\common\\charconv.cc -> build\\temp.win32-3.8\\Release\\xgboost\\src\\common\n",
      "    copying xgboost\\src\\common\\charconv.h -> build\\temp.win32-3.8\\Release\\xgboost\\src\\common\n",
      "    copying xgboost\\src\\common\\column_matrix.h -> build\\temp.win32-3.8\\Release\\xgboost\\src\\common\n",
      "    copying xgboost\\src\\common\\common.cc -> build\\temp.win32-3.8\\Release\\xgboost\\src\\common\n",
      "    copying xgboost\\src\\common\\common.cu -> build\\temp.win32-3.8\\Release\\xgboost\\src\\common\n",
      "    copying xgboost\\src\\common\\common.h -> build\\temp.win32-3.8\\Release\\xgboost\\src\\common\n",
      "    copying xgboost\\src\\common\\compressed_iterator.h -> build\\temp.win32-3.8\\Release\\xgboost\\src\\common\n",
      "    copying xgboost\\src\\common\\config.h -> build\\temp.win32-3.8\\Release\\xgboost\\src\\common\n",
      "    copying xgboost\\src\\common\\device_helpers.cu -> build\\temp.win32-3.8\\Release\\xgboost\\src\\common\n",
      "    copying xgboost\\src\\common\\device_helpers.cuh -> build\\temp.win32-3.8\\Release\\xgboost\\src\\common\n",
      "    copying xgboost\\src\\common\\group_data.h -> build\\temp.win32-3.8\\Release\\xgboost\\src\\common\n",
      "    copying xgboost\\src\\common\\hist_util.cc -> build\\temp.win32-3.8\\Release\\xgboost\\src\\common\n",
      "    copying xgboost\\src\\common\\hist_util.cu -> build\\temp.win32-3.8\\Release\\xgboost\\src\\common\n",
      "    copying xgboost\\src\\common\\hist_util.cuh -> build\\temp.win32-3.8\\Release\\xgboost\\src\\common\n",
      "    copying xgboost\\src\\common\\hist_util.h -> build\\temp.win32-3.8\\Release\\xgboost\\src\\common\n",
      "    copying xgboost\\src\\common\\host_device_vector.cc -> build\\temp.win32-3.8\\Release\\xgboost\\src\\common\n",
      "    copying xgboost\\src\\common\\host_device_vector.cu -> build\\temp.win32-3.8\\Release\\xgboost\\src\\common\n",
      "    copying xgboost\\src\\common\\io.cc -> build\\temp.win32-3.8\\Release\\xgboost\\src\\common\n",
      "    copying xgboost\\src\\common\\io.h -> build\\temp.win32-3.8\\Release\\xgboost\\src\\common\n",
      "    copying xgboost\\src\\common\\json.cc -> build\\temp.win32-3.8\\Release\\xgboost\\src\\common\n",
      "    copying xgboost\\src\\common\\math.h -> build\\temp.win32-3.8\\Release\\xgboost\\src\\common\n",
      "    copying xgboost\\src\\common\\observer.h -> build\\temp.win32-3.8\\Release\\xgboost\\src\\common\n",
      "    copying xgboost\\src\\common\\probability_distribution.h -> build\\temp.win32-3.8\\Release\\xgboost\\src\\common\n",
      "    copying xgboost\\src\\common\\quantile.cc -> build\\temp.win32-3.8\\Release\\xgboost\\src\\common\n",
      "    copying xgboost\\src\\common\\quantile.cu -> build\\temp.win32-3.8\\Release\\xgboost\\src\\common\n",
      "    copying xgboost\\src\\common\\quantile.cuh -> build\\temp.win32-3.8\\Release\\xgboost\\src\\common\n",
      "    copying xgboost\\src\\common\\quantile.h -> build\\temp.win32-3.8\\Release\\xgboost\\src\\common\n",
      "    copying xgboost\\src\\common\\random.cc -> build\\temp.win32-3.8\\Release\\xgboost\\src\\common\n",
      "    copying xgboost\\src\\common\\random.h -> build\\temp.win32-3.8\\Release\\xgboost\\src\\common\n",
      "    copying xgboost\\src\\common\\ranking_utils.cuh -> build\\temp.win32-3.8\\Release\\xgboost\\src\\common\n",
      "    copying xgboost\\src\\common\\row_set.h -> build\\temp.win32-3.8\\Release\\xgboost\\src\\common\n",
      "    copying xgboost\\src\\common\\survival_util.cc -> build\\temp.win32-3.8\\Release\\xgboost\\src\\common\n",
      "    copying xgboost\\src\\common\\survival_util.h -> build\\temp.win32-3.8\\Release\\xgboost\\src\\common\n",
      "    copying xgboost\\src\\common\\threading_utils.h -> build\\temp.win32-3.8\\Release\\xgboost\\src\\common\n",
      "    copying xgboost\\src\\common\\timer.cc -> build\\temp.win32-3.8\\Release\\xgboost\\src\\common\n",
      "    copying xgboost\\src\\common\\timer.h -> build\\temp.win32-3.8\\Release\\xgboost\\src\\common\n",
      "    copying xgboost\\src\\common\\transform.h -> build\\temp.win32-3.8\\Release\\xgboost\\src\\common\n",
      "    copying xgboost\\src\\common\\version.cc -> build\\temp.win32-3.8\\Release\\xgboost\\src\\common\n",
      "    copying xgboost\\src\\common\\version.h -> build\\temp.win32-3.8\\Release\\xgboost\\src\\common\n",
      "    creating build\\temp.win32-3.8\\Release\\xgboost\\src\\c_api\n",
      "    copying xgboost\\src\\c_api\\c_api.cc -> build\\temp.win32-3.8\\Release\\xgboost\\src\\c_api\n",
      "    copying xgboost\\src\\c_api\\c_api.cu -> build\\temp.win32-3.8\\Release\\xgboost\\src\\c_api\n",
      "    copying xgboost\\src\\c_api\\c_api_error.cc -> build\\temp.win32-3.8\\Release\\xgboost\\src\\c_api\n",
      "    copying xgboost\\src\\c_api\\c_api_error.h -> build\\temp.win32-3.8\\Release\\xgboost\\src\\c_api\n",
      "    copying xgboost\\src\\c_api\\c_api_utils.h -> build\\temp.win32-3.8\\Release\\xgboost\\src\\c_api\n",
      "    creating build\\temp.win32-3.8\\Release\\xgboost\\src\\data\n",
      "    copying xgboost\\src\\data\\adapter.h -> build\\temp.win32-3.8\\Release\\xgboost\\src\\data\n",
      "    copying xgboost\\src\\data\\array_interface.cu -> build\\temp.win32-3.8\\Release\\xgboost\\src\\data\n",
      "    copying xgboost\\src\\data\\array_interface.h -> build\\temp.win32-3.8\\Release\\xgboost\\src\\data\n",
      "    copying xgboost\\src\\data\\data.cc -> build\\temp.win32-3.8\\Release\\xgboost\\src\\data\n",
      "    copying xgboost\\src\\data\\data.cu -> build\\temp.win32-3.8\\Release\\xgboost\\src\\data\n",
      "    copying xgboost\\src\\data\\device_adapter.cuh -> build\\temp.win32-3.8\\Release\\xgboost\\src\\data\n",
      "    copying xgboost\\src\\data\\ellpack_page.cc -> build\\temp.win32-3.8\\Release\\xgboost\\src\\data\n",
      "    copying xgboost\\src\\data\\ellpack_page.cu -> build\\temp.win32-3.8\\Release\\xgboost\\src\\data\n",
      "    copying xgboost\\src\\data\\ellpack_page.cuh -> build\\temp.win32-3.8\\Release\\xgboost\\src\\data\n",
      "    copying xgboost\\src\\data\\ellpack_page_raw_format.cu -> build\\temp.win32-3.8\\Release\\xgboost\\src\\data\n",
      "    copying xgboost\\src\\data\\ellpack_page_source.cc -> build\\temp.win32-3.8\\Release\\xgboost\\src\\data\n",
      "    copying xgboost\\src\\data\\ellpack_page_source.cu -> build\\temp.win32-3.8\\Release\\xgboost\\src\\data\n",
      "    copying xgboost\\src\\data\\ellpack_page_source.h -> build\\temp.win32-3.8\\Release\\xgboost\\src\\data\n",
      "    copying xgboost\\src\\data\\iterative_device_dmatrix.cu -> build\\temp.win32-3.8\\Release\\xgboost\\src\\data\n",
      "    copying xgboost\\src\\data\\iterative_device_dmatrix.h -> build\\temp.win32-3.8\\Release\\xgboost\\src\\data\n",
      "    copying xgboost\\src\\data\\proxy_dmatrix.cu -> build\\temp.win32-3.8\\Release\\xgboost\\src\\data\n",
      "    copying xgboost\\src\\data\\proxy_dmatrix.h -> build\\temp.win32-3.8\\Release\\xgboost\\src\\data\n",
      "    copying xgboost\\src\\data\\simple_batch_iterator.h -> build\\temp.win32-3.8\\Release\\xgboost\\src\\data\n",
      "    copying xgboost\\src\\data\\simple_dmatrix.cc -> build\\temp.win32-3.8\\Release\\xgboost\\src\\data\n",
      "    copying xgboost\\src\\data\\simple_dmatrix.cu -> build\\temp.win32-3.8\\Release\\xgboost\\src\\data\n",
      "    copying xgboost\\src\\data\\simple_dmatrix.h -> build\\temp.win32-3.8\\Release\\xgboost\\src\\data\n",
      "    copying xgboost\\src\\data\\sparse_page_dmatrix.cc -> build\\temp.win32-3.8\\Release\\xgboost\\src\\data\n",
      "    copying xgboost\\src\\data\\sparse_page_dmatrix.h -> build\\temp.win32-3.8\\Release\\xgboost\\src\\data\n",
      "    copying xgboost\\src\\data\\sparse_page_raw_format.cc -> build\\temp.win32-3.8\\Release\\xgboost\\src\\data\n",
      "    copying xgboost\\src\\data\\sparse_page_source.cc -> build\\temp.win32-3.8\\Release\\xgboost\\src\\data\n",
      "    copying xgboost\\src\\data\\sparse_page_source.h -> build\\temp.win32-3.8\\Release\\xgboost\\src\\data\n",
      "    copying xgboost\\src\\data\\sparse_page_writer.h -> build\\temp.win32-3.8\\Release\\xgboost\\src\\data\n",
      "    creating build\\temp.win32-3.8\\Release\\xgboost\\src\\gbm\n",
      "    copying xgboost\\src\\gbm\\gblinear.cc -> build\\temp.win32-3.8\\Release\\xgboost\\src\\gbm\n",
      "    copying xgboost\\src\\gbm\\gblinear_model.cc -> build\\temp.win32-3.8\\Release\\xgboost\\src\\gbm\n",
      "    copying xgboost\\src\\gbm\\gblinear_model.h -> build\\temp.win32-3.8\\Release\\xgboost\\src\\gbm\n",
      "    copying xgboost\\src\\gbm\\gbm.cc -> build\\temp.win32-3.8\\Release\\xgboost\\src\\gbm\n",
      "    copying xgboost\\src\\gbm\\gbtree.cc -> build\\temp.win32-3.8\\Release\\xgboost\\src\\gbm\n",
      "    copying xgboost\\src\\gbm\\gbtree.cu -> build\\temp.win32-3.8\\Release\\xgboost\\src\\gbm\n",
      "    copying xgboost\\src\\gbm\\gbtree.h -> build\\temp.win32-3.8\\Release\\xgboost\\src\\gbm\n",
      "    copying xgboost\\src\\gbm\\gbtree_model.cc -> build\\temp.win32-3.8\\Release\\xgboost\\src\\gbm\n",
      "    copying xgboost\\src\\gbm\\gbtree_model.h -> build\\temp.win32-3.8\\Release\\xgboost\\src\\gbm\n",
      "    copying xgboost\\src\\global_config.cc -> build\\temp.win32-3.8\\Release\\xgboost\\src\n",
      "    copying xgboost\\src\\learner.cc -> build\\temp.win32-3.8\\Release\\xgboost\\src\n",
      "    creating build\\temp.win32-3.8\\Release\\xgboost\\src\\linear\n",
      "    copying xgboost\\src\\linear\\coordinate_common.h -> build\\temp.win32-3.8\\Release\\xgboost\\src\\linear\n",
      "    copying xgboost\\src\\linear\\linear_updater.cc -> build\\temp.win32-3.8\\Release\\xgboost\\src\\linear\n",
      "    copying xgboost\\src\\linear\\param.h -> build\\temp.win32-3.8\\Release\\xgboost\\src\\linear\n",
      "    copying xgboost\\src\\linear\\updater_coordinate.cc -> build\\temp.win32-3.8\\Release\\xgboost\\src\\linear\n",
      "    copying xgboost\\src\\linear\\updater_gpu_coordinate.cu -> build\\temp.win32-3.8\\Release\\xgboost\\src\\linear\n",
      "    copying xgboost\\src\\linear\\updater_shotgun.cc -> build\\temp.win32-3.8\\Release\\xgboost\\src\\linear\n",
      "    copying xgboost\\src\\logging.cc -> build\\temp.win32-3.8\\Release\\xgboost\\src\n",
      "    creating build\\temp.win32-3.8\\Release\\xgboost\\src\\metric\n",
      "    copying xgboost\\src\\metric\\auc.cc -> build\\temp.win32-3.8\\Release\\xgboost\\src\\metric\n",
      "    copying xgboost\\src\\metric\\auc.cu -> build\\temp.win32-3.8\\Release\\xgboost\\src\\metric\n",
      "    copying xgboost\\src\\metric\\auc.h -> build\\temp.win32-3.8\\Release\\xgboost\\src\\metric\n",
      "    copying xgboost\\src\\metric\\elementwise_metric.cc -> build\\temp.win32-3.8\\Release\\xgboost\\src\\metric\n",
      "    copying xgboost\\src\\metric\\elementwise_metric.cu -> build\\temp.win32-3.8\\Release\\xgboost\\src\\metric\n",
      "    copying xgboost\\src\\metric\\metric.cc -> build\\temp.win32-3.8\\Release\\xgboost\\src\\metric\n",
      "    copying xgboost\\src\\metric\\metric_common.h -> build\\temp.win32-3.8\\Release\\xgboost\\src\\metric\n",
      "    copying xgboost\\src\\metric\\multiclass_metric.cc -> build\\temp.win32-3.8\\Release\\xgboost\\src\\metric\n",
      "    copying xgboost\\src\\metric\\multiclass_metric.cu -> build\\temp.win32-3.8\\Release\\xgboost\\src\\metric\n",
      "    copying xgboost\\src\\metric\\rank_metric.cc -> build\\temp.win32-3.8\\Release\\xgboost\\src\\metric\n",
      "    copying xgboost\\src\\metric\\rank_metric.cu -> build\\temp.win32-3.8\\Release\\xgboost\\src\\metric\n",
      "    copying xgboost\\src\\metric\\survival_metric.cc -> build\\temp.win32-3.8\\Release\\xgboost\\src\\metric\n",
      "    copying xgboost\\src\\metric\\survival_metric.cu -> build\\temp.win32-3.8\\Release\\xgboost\\src\\metric\n",
      "    creating build\\temp.win32-3.8\\Release\\xgboost\\src\\objective\n",
      "    copying xgboost\\src\\objective\\aft_obj.cc -> build\\temp.win32-3.8\\Release\\xgboost\\src\\objective\n",
      "    copying xgboost\\src\\objective\\aft_obj.cu -> build\\temp.win32-3.8\\Release\\xgboost\\src\\objective\n",
      "    copying xgboost\\src\\objective\\hinge.cc -> build\\temp.win32-3.8\\Release\\xgboost\\src\\objective\n",
      "    copying xgboost\\src\\objective\\hinge.cu -> build\\temp.win32-3.8\\Release\\xgboost\\src\\objective\n",
      "    copying xgboost\\src\\objective\\multiclass_obj.cc -> build\\temp.win32-3.8\\Release\\xgboost\\src\\objective\n",
      "    copying xgboost\\src\\objective\\multiclass_obj.cu -> build\\temp.win32-3.8\\Release\\xgboost\\src\\objective\n",
      "    copying xgboost\\src\\objective\\objective.cc -> build\\temp.win32-3.8\\Release\\xgboost\\src\\objective\n",
      "    copying xgboost\\src\\objective\\rank_obj.cc -> build\\temp.win32-3.8\\Release\\xgboost\\src\\objective\n",
      "    copying xgboost\\src\\objective\\rank_obj.cu -> build\\temp.win32-3.8\\Release\\xgboost\\src\\objective\n",
      "    copying xgboost\\src\\objective\\regression_loss.h -> build\\temp.win32-3.8\\Release\\xgboost\\src\\objective\n",
      "    copying xgboost\\src\\objective\\regression_obj.cc -> build\\temp.win32-3.8\\Release\\xgboost\\src\\objective\n",
      "    copying xgboost\\src\\objective\\regression_obj.cu -> build\\temp.win32-3.8\\Release\\xgboost\\src\\objective\n",
      "    creating build\\temp.win32-3.8\\Release\\xgboost\\src\\predictor\n",
      "    copying xgboost\\src\\predictor\\cpu_predictor.cc -> build\\temp.win32-3.8\\Release\\xgboost\\src\\predictor\n",
      "    copying xgboost\\src\\predictor\\gpu_predictor.cu -> build\\temp.win32-3.8\\Release\\xgboost\\src\\predictor\n",
      "    copying xgboost\\src\\predictor\\predictor.cc -> build\\temp.win32-3.8\\Release\\xgboost\\src\\predictor\n",
      "    creating build\\temp.win32-3.8\\Release\\xgboost\\src\\tree\n",
      "    copying xgboost\\src\\tree\\constraints.cc -> build\\temp.win32-3.8\\Release\\xgboost\\src\\tree\n",
      "    copying xgboost\\src\\tree\\constraints.cu -> build\\temp.win32-3.8\\Release\\xgboost\\src\\tree\n",
      "    copying xgboost\\src\\tree\\constraints.cuh -> build\\temp.win32-3.8\\Release\\xgboost\\src\\tree\n",
      "    copying xgboost\\src\\tree\\constraints.h -> build\\temp.win32-3.8\\Release\\xgboost\\src\\tree\n",
      "    creating build\\temp.win32-3.8\\Release\\xgboost\\src\\tree\\gpu_hist\n",
      "    copying xgboost\\src\\tree\\gpu_hist\\driver.cuh -> build\\temp.win32-3.8\\Release\\xgboost\\src\\tree\\gpu_hist\n",
      "    copying xgboost\\src\\tree\\gpu_hist\\evaluate_splits.cu -> build\\temp.win32-3.8\\Release\\xgboost\\src\\tree\\gpu_hist\n",
      "    copying xgboost\\src\\tree\\gpu_hist\\evaluate_splits.cuh -> build\\temp.win32-3.8\\Release\\xgboost\\src\\tree\\gpu_hist\n",
      "    copying xgboost\\src\\tree\\gpu_hist\\feature_groups.cu -> build\\temp.win32-3.8\\Release\\xgboost\\src\\tree\\gpu_hist\n",
      "    copying xgboost\\src\\tree\\gpu_hist\\feature_groups.cuh -> build\\temp.win32-3.8\\Release\\xgboost\\src\\tree\\gpu_hist\n",
      "    copying xgboost\\src\\tree\\gpu_hist\\gradient_based_sampler.cu -> build\\temp.win32-3.8\\Release\\xgboost\\src\\tree\\gpu_hist\n",
      "    copying xgboost\\src\\tree\\gpu_hist\\gradient_based_sampler.cuh -> build\\temp.win32-3.8\\Release\\xgboost\\src\\tree\\gpu_hist\n",
      "    copying xgboost\\src\\tree\\gpu_hist\\histogram.cu -> build\\temp.win32-3.8\\Release\\xgboost\\src\\tree\\gpu_hist\n",
      "    copying xgboost\\src\\tree\\gpu_hist\\histogram.cuh -> build\\temp.win32-3.8\\Release\\xgboost\\src\\tree\\gpu_hist\n",
      "    copying xgboost\\src\\tree\\gpu_hist\\row_partitioner.cu -> build\\temp.win32-3.8\\Release\\xgboost\\src\\tree\\gpu_hist\n",
      "    copying xgboost\\src\\tree\\gpu_hist\\row_partitioner.cuh -> build\\temp.win32-3.8\\Release\\xgboost\\src\\tree\\gpu_hist\n",
      "    copying xgboost\\src\\tree\\param.cc -> build\\temp.win32-3.8\\Release\\xgboost\\src\\tree\n",
      "    copying xgboost\\src\\tree\\param.h -> build\\temp.win32-3.8\\Release\\xgboost\\src\\tree\n",
      "    copying xgboost\\src\\tree\\split_evaluator.h -> build\\temp.win32-3.8\\Release\\xgboost\\src\\tree\n",
      "    copying xgboost\\src\\tree\\tree_model.cc -> build\\temp.win32-3.8\\Release\\xgboost\\src\\tree\n",
      "    copying xgboost\\src\\tree\\tree_updater.cc -> build\\temp.win32-3.8\\Release\\xgboost\\src\\tree\n",
      "    copying xgboost\\src\\tree\\updater_basemaker-inl.h -> build\\temp.win32-3.8\\Release\\xgboost\\src\\tree\n",
      "    copying xgboost\\src\\tree\\updater_colmaker.cc -> build\\temp.win32-3.8\\Release\\xgboost\\src\\tree\n",
      "    copying xgboost\\src\\tree\\updater_gpu_common.cuh -> build\\temp.win32-3.8\\Release\\xgboost\\src\\tree\n",
      "    copying xgboost\\src\\tree\\updater_gpu_hist.cu -> build\\temp.win32-3.8\\Release\\xgboost\\src\\tree\n",
      "    copying xgboost\\src\\tree\\updater_histmaker.cc -> build\\temp.win32-3.8\\Release\\xgboost\\src\\tree\n",
      "    copying xgboost\\src\\tree\\updater_prune.cc -> build\\temp.win32-3.8\\Release\\xgboost\\src\\tree\n",
      "    copying xgboost\\src\\tree\\updater_quantile_hist.cc -> build\\temp.win32-3.8\\Release\\xgboost\\src\\tree\n",
      "    copying xgboost\\src\\tree\\updater_quantile_hist.h -> build\\temp.win32-3.8\\Release\\xgboost\\src\\tree\n",
      "    copying xgboost\\src\\tree\\updater_refresh.cc -> build\\temp.win32-3.8\\Release\\xgboost\\src\\tree\n",
      "    copying xgboost\\src\\tree\\updater_sync.cc -> build\\temp.win32-3.8\\Release\\xgboost\\src\\tree\n",
      "    creating build\\temp.win32-3.8\\Release\\xgboost\\include\n",
      "    creating build\\temp.win32-3.8\\Release\\xgboost\\include\\xgboost\n",
      "    copying xgboost\\include\\xgboost\\base.h -> build\\temp.win32-3.8\\Release\\xgboost\\include\\xgboost\n",
      "    copying xgboost\\include\\xgboost\\c_api.h -> build\\temp.win32-3.8\\Release\\xgboost\\include\\xgboost\n",
      "    copying xgboost\\include\\xgboost\\data.h -> build\\temp.win32-3.8\\Release\\xgboost\\include\\xgboost\n",
      "    copying xgboost\\include\\xgboost\\feature_map.h -> build\\temp.win32-3.8\\Release\\xgboost\\include\\xgboost\n",
      "    copying xgboost\\include\\xgboost\\gbm.h -> build\\temp.win32-3.8\\Release\\xgboost\\include\\xgboost\n",
      "    copying xgboost\\include\\xgboost\\generic_parameters.h -> build\\temp.win32-3.8\\Release\\xgboost\\include\\xgboost\n",
      "    copying xgboost\\include\\xgboost\\global_config.h -> build\\temp.win32-3.8\\Release\\xgboost\\include\\xgboost\n",
      "    copying xgboost\\include\\xgboost\\host_device_vector.h -> build\\temp.win32-3.8\\Release\\xgboost\\include\\xgboost\n",
      "    copying xgboost\\include\\xgboost\\intrusive_ptr.h -> build\\temp.win32-3.8\\Release\\xgboost\\include\\xgboost\n",
      "    copying xgboost\\include\\xgboost\\json.h -> build\\temp.win32-3.8\\Release\\xgboost\\include\\xgboost\n",
      "    copying xgboost\\include\\xgboost\\json_io.h -> build\\temp.win32-3.8\\Release\\xgboost\\include\\xgboost\n",
      "    copying xgboost\\include\\xgboost\\learner.h -> build\\temp.win32-3.8\\Release\\xgboost\\include\\xgboost\n",
      "    copying xgboost\\include\\xgboost\\linear_updater.h -> build\\temp.win32-3.8\\Release\\xgboost\\include\\xgboost\n",
      "    copying xgboost\\include\\xgboost\\logging.h -> build\\temp.win32-3.8\\Release\\xgboost\\include\\xgboost\n",
      "    copying xgboost\\include\\xgboost\\metric.h -> build\\temp.win32-3.8\\Release\\xgboost\\include\\xgboost\n",
      "    copying xgboost\\include\\xgboost\\model.h -> build\\temp.win32-3.8\\Release\\xgboost\\include\\xgboost\n",
      "    copying xgboost\\include\\xgboost\\objective.h -> build\\temp.win32-3.8\\Release\\xgboost\\include\\xgboost\n",
      "    copying xgboost\\include\\xgboost\\parameter.h -> build\\temp.win32-3.8\\Release\\xgboost\\include\\xgboost\n",
      "    copying xgboost\\include\\xgboost\\predictor.h -> build\\temp.win32-3.8\\Release\\xgboost\\include\\xgboost\n",
      "    copying xgboost\\include\\xgboost\\span.h -> build\\temp.win32-3.8\\Release\\xgboost\\include\\xgboost\n",
      "    copying xgboost\\include\\xgboost\\tree_model.h -> build\\temp.win32-3.8\\Release\\xgboost\\include\\xgboost\n",
      "    copying xgboost\\include\\xgboost\\tree_updater.h -> build\\temp.win32-3.8\\Release\\xgboost\\include\\xgboost\n",
      "    copying xgboost\\include\\xgboost\\version_config.h -> build\\temp.win32-3.8\\Release\\xgboost\\include\\xgboost\n",
      "    creating build\\temp.win32-3.8\\Release\\xgboost\\dmlc-core\n",
      "    creating build\\temp.win32-3.8\\Release\\xgboost\\dmlc-core\\cmake\n",
      "    copying xgboost\\dmlc-core\\cmake\\build_config.h.in -> build\\temp.win32-3.8\\Release\\xgboost\\dmlc-core\\cmake\n",
      "    copying xgboost\\dmlc-core\\cmake\\dmlc-config.cmake.in -> build\\temp.win32-3.8\\Release\\xgboost\\dmlc-core\\cmake\n",
      "    creating build\\temp.win32-3.8\\Release\\xgboost\\dmlc-core\\cmake\\Modules\n",
      "    copying xgboost\\dmlc-core\\cmake\\Modules\\FindHDFS.cmake -> build\\temp.win32-3.8\\Release\\xgboost\\dmlc-core\\cmake\\Modules\n",
      "    copying xgboost\\dmlc-core\\cmake\\Utils.cmake -> build\\temp.win32-3.8\\Release\\xgboost\\dmlc-core\\cmake\n",
      "    copying xgboost\\dmlc-core\\CMakeLists.txt -> build\\temp.win32-3.8\\Release\\xgboost\\dmlc-core\n",
      "    creating build\\temp.win32-3.8\\Release\\xgboost\\dmlc-core\\include\n",
      "    creating build\\temp.win32-3.8\\Release\\xgboost\\dmlc-core\\include\\dmlc\n",
      "    copying xgboost\\dmlc-core\\include\\dmlc\\any.h -> build\\temp.win32-3.8\\Release\\xgboost\\dmlc-core\\include\\dmlc\n",
      "    copying xgboost\\dmlc-core\\include\\dmlc\\array_view.h -> build\\temp.win32-3.8\\Release\\xgboost\\dmlc-core\\include\\dmlc\n",
      "    copying xgboost\\dmlc-core\\include\\dmlc\\base.h -> build\\temp.win32-3.8\\Release\\xgboost\\dmlc-core\\include\\dmlc\n",
      "    copying xgboost\\dmlc-core\\include\\dmlc\\blockingconcurrentqueue.h -> build\\temp.win32-3.8\\Release\\xgboost\\dmlc-core\\include\\dmlc\n",
      "    copying xgboost\\dmlc-core\\include\\dmlc\\build_config_default.h -> build\\temp.win32-3.8\\Release\\xgboost\\dmlc-core\\include\\dmlc\n",
      "    copying xgboost\\dmlc-core\\include\\dmlc\\common.h -> build\\temp.win32-3.8\\Release\\xgboost\\dmlc-core\\include\\dmlc\n",
      "    copying xgboost\\dmlc-core\\include\\dmlc\\concurrency.h -> build\\temp.win32-3.8\\Release\\xgboost\\dmlc-core\\include\\dmlc\n",
      "    copying xgboost\\dmlc-core\\include\\dmlc\\concurrentqueue.h -> build\\temp.win32-3.8\\Release\\xgboost\\dmlc-core\\include\\dmlc\n",
      "    copying xgboost\\dmlc-core\\include\\dmlc\\config.h -> build\\temp.win32-3.8\\Release\\xgboost\\dmlc-core\\include\\dmlc\n",
      "    copying xgboost\\dmlc-core\\include\\dmlc\\data.h -> build\\temp.win32-3.8\\Release\\xgboost\\dmlc-core\\include\\dmlc\n",
      "    copying xgboost\\dmlc-core\\include\\dmlc\\endian.h -> build\\temp.win32-3.8\\Release\\xgboost\\dmlc-core\\include\\dmlc\n",
      "    copying xgboost\\dmlc-core\\include\\dmlc\\filesystem.h -> build\\temp.win32-3.8\\Release\\xgboost\\dmlc-core\\include\\dmlc\n",
      "    copying xgboost\\dmlc-core\\include\\dmlc\\input_split_shuffle.h -> build\\temp.win32-3.8\\Release\\xgboost\\dmlc-core\\include\\dmlc\n",
      "    copying xgboost\\dmlc-core\\include\\dmlc\\io.h -> build\\temp.win32-3.8\\Release\\xgboost\\dmlc-core\\include\\dmlc\n",
      "    copying xgboost\\dmlc-core\\include\\dmlc\\json.h -> build\\temp.win32-3.8\\Release\\xgboost\\dmlc-core\\include\\dmlc\n",
      "    copying xgboost\\dmlc-core\\include\\dmlc\\logging.h -> build\\temp.win32-3.8\\Release\\xgboost\\dmlc-core\\include\\dmlc\n",
      "    copying xgboost\\dmlc-core\\include\\dmlc\\lua.h -> build\\temp.win32-3.8\\Release\\xgboost\\dmlc-core\\include\\dmlc\n",
      "    copying xgboost\\dmlc-core\\include\\dmlc\\memory.h -> build\\temp.win32-3.8\\Release\\xgboost\\dmlc-core\\include\\dmlc\n",
      "    copying xgboost\\dmlc-core\\include\\dmlc\\memory_io.h -> build\\temp.win32-3.8\\Release\\xgboost\\dmlc-core\\include\\dmlc\n",
      "    copying xgboost\\dmlc-core\\include\\dmlc\\omp.h -> build\\temp.win32-3.8\\Release\\xgboost\\dmlc-core\\include\\dmlc\n",
      "    copying xgboost\\dmlc-core\\include\\dmlc\\optional.h -> build\\temp.win32-3.8\\Release\\xgboost\\dmlc-core\\include\\dmlc\n",
      "    copying xgboost\\dmlc-core\\include\\dmlc\\parameter.h -> build\\temp.win32-3.8\\Release\\xgboost\\dmlc-core\\include\\dmlc\n",
      "    copying xgboost\\dmlc-core\\include\\dmlc\\recordio.h -> build\\temp.win32-3.8\\Release\\xgboost\\dmlc-core\\include\\dmlc\n",
      "    copying xgboost\\dmlc-core\\include\\dmlc\\registry.h -> build\\temp.win32-3.8\\Release\\xgboost\\dmlc-core\\include\\dmlc\n",
      "    copying xgboost\\dmlc-core\\include\\dmlc\\serializer.h -> build\\temp.win32-3.8\\Release\\xgboost\\dmlc-core\\include\\dmlc\n",
      "    copying xgboost\\dmlc-core\\include\\dmlc\\strtonum.h -> build\\temp.win32-3.8\\Release\\xgboost\\dmlc-core\\include\\dmlc\n",
      "    copying xgboost\\dmlc-core\\include\\dmlc\\threadediter.h -> build\\temp.win32-3.8\\Release\\xgboost\\dmlc-core\\include\\dmlc\n",
      "    copying xgboost\\dmlc-core\\include\\dmlc\\thread_group.h -> build\\temp.win32-3.8\\Release\\xgboost\\dmlc-core\\include\\dmlc\n",
      "    copying xgboost\\dmlc-core\\include\\dmlc\\thread_local.h -> build\\temp.win32-3.8\\Release\\xgboost\\dmlc-core\\include\\dmlc\n",
      "    copying xgboost\\dmlc-core\\include\\dmlc\\timer.h -> build\\temp.win32-3.8\\Release\\xgboost\\dmlc-core\\include\\dmlc\n",
      "    copying xgboost\\dmlc-core\\include\\dmlc\\type_traits.h -> build\\temp.win32-3.8\\Release\\xgboost\\dmlc-core\\include\\dmlc\n",
      "    creating build\\temp.win32-3.8\\Release\\xgboost\\dmlc-core\\make\n",
      "    copying xgboost\\dmlc-core\\make\\config.mk -> build\\temp.win32-3.8\\Release\\xgboost\\dmlc-core\\make\n",
      "    copying xgboost\\dmlc-core\\make\\dmlc.mk -> build\\temp.win32-3.8\\Release\\xgboost\\dmlc-core\\make\n",
      "    creating build\\temp.win32-3.8\\Release\\xgboost\\dmlc-core\\src\n",
      "    copying xgboost\\dmlc-core\\src\\config.cc -> build\\temp.win32-3.8\\Release\\xgboost\\dmlc-core\\src\n",
      "    creating build\\temp.win32-3.8\\Release\\xgboost\\dmlc-core\\src\\data\n",
      "    copying xgboost\\dmlc-core\\src\\data\\basic_row_iter.h -> build\\temp.win32-3.8\\Release\\xgboost\\dmlc-core\\src\\data\n",
      "    copying xgboost\\dmlc-core\\src\\data\\csv_parser.h -> build\\temp.win32-3.8\\Release\\xgboost\\dmlc-core\\src\\data\n",
      "    copying xgboost\\dmlc-core\\src\\data\\disk_row_iter.h -> build\\temp.win32-3.8\\Release\\xgboost\\dmlc-core\\src\\data\n",
      "    copying xgboost\\dmlc-core\\src\\data\\libfm_parser.h -> build\\temp.win32-3.8\\Release\\xgboost\\dmlc-core\\src\\data\n",
      "    copying xgboost\\dmlc-core\\src\\data\\libsvm_parser.h -> build\\temp.win32-3.8\\Release\\xgboost\\dmlc-core\\src\\data\n",
      "    copying xgboost\\dmlc-core\\src\\data\\parser.h -> build\\temp.win32-3.8\\Release\\xgboost\\dmlc-core\\src\\data\n",
      "    copying xgboost\\dmlc-core\\src\\data\\row_block.h -> build\\temp.win32-3.8\\Release\\xgboost\\dmlc-core\\src\\data\n",
      "    copying xgboost\\dmlc-core\\src\\data\\text_parser.h -> build\\temp.win32-3.8\\Release\\xgboost\\dmlc-core\\src\\data\n",
      "    copying xgboost\\dmlc-core\\src\\data.cc -> build\\temp.win32-3.8\\Release\\xgboost\\dmlc-core\\src\n",
      "    creating build\\temp.win32-3.8\\Release\\xgboost\\dmlc-core\\src\\io\n",
      "    copying xgboost\\dmlc-core\\src\\io\\azure_filesys.cc -> build\\temp.win32-3.8\\Release\\xgboost\\dmlc-core\\src\\io\n",
      "    copying xgboost\\dmlc-core\\src\\io\\azure_filesys.h -> build\\temp.win32-3.8\\Release\\xgboost\\dmlc-core\\src\\io\n",
      "    copying xgboost\\dmlc-core\\src\\io\\cached_input_split.h -> build\\temp.win32-3.8\\Release\\xgboost\\dmlc-core\\src\\io\n",
      "    copying xgboost\\dmlc-core\\src\\io\\filesys.cc -> build\\temp.win32-3.8\\Release\\xgboost\\dmlc-core\\src\\io\n",
      "    copying xgboost\\dmlc-core\\src\\io\\hdfs_filesys.cc -> build\\temp.win32-3.8\\Release\\xgboost\\dmlc-core\\src\\io\n",
      "    copying xgboost\\dmlc-core\\src\\io\\hdfs_filesys.h -> build\\temp.win32-3.8\\Release\\xgboost\\dmlc-core\\src\\io\n",
      "    copying xgboost\\dmlc-core\\src\\io\\indexed_recordio_split.cc -> build\\temp.win32-3.8\\Release\\xgboost\\dmlc-core\\src\\io\n",
      "    copying xgboost\\dmlc-core\\src\\io\\indexed_recordio_split.h -> build\\temp.win32-3.8\\Release\\xgboost\\dmlc-core\\src\\io\n",
      "    copying xgboost\\dmlc-core\\src\\io\\input_split_base.cc -> build\\temp.win32-3.8\\Release\\xgboost\\dmlc-core\\src\\io\n",
      "    copying xgboost\\dmlc-core\\src\\io\\input_split_base.h -> build\\temp.win32-3.8\\Release\\xgboost\\dmlc-core\\src\\io\n",
      "    copying xgboost\\dmlc-core\\src\\io\\line_split.cc -> build\\temp.win32-3.8\\Release\\xgboost\\dmlc-core\\src\\io\n",
      "    copying xgboost\\dmlc-core\\src\\io\\line_split.h -> build\\temp.win32-3.8\\Release\\xgboost\\dmlc-core\\src\\io\n",
      "    copying xgboost\\dmlc-core\\src\\io\\local_filesys.cc -> build\\temp.win32-3.8\\Release\\xgboost\\dmlc-core\\src\\io\n",
      "    copying xgboost\\dmlc-core\\src\\io\\local_filesys.h -> build\\temp.win32-3.8\\Release\\xgboost\\dmlc-core\\src\\io\n",
      "    copying xgboost\\dmlc-core\\src\\io\\recordio_split.cc -> build\\temp.win32-3.8\\Release\\xgboost\\dmlc-core\\src\\io\n",
      "    copying xgboost\\dmlc-core\\src\\io\\recordio_split.h -> build\\temp.win32-3.8\\Release\\xgboost\\dmlc-core\\src\\io\n",
      "    copying xgboost\\dmlc-core\\src\\io\\s3_filesys.cc -> build\\temp.win32-3.8\\Release\\xgboost\\dmlc-core\\src\\io\n",
      "    copying xgboost\\dmlc-core\\src\\io\\s3_filesys.h -> build\\temp.win32-3.8\\Release\\xgboost\\dmlc-core\\src\\io\n",
      "    copying xgboost\\dmlc-core\\src\\io\\single_file_split.h -> build\\temp.win32-3.8\\Release\\xgboost\\dmlc-core\\src\\io\n",
      "    copying xgboost\\dmlc-core\\src\\io\\single_threaded_input_split.h -> build\\temp.win32-3.8\\Release\\xgboost\\dmlc-core\\src\\io\n",
      "    copying xgboost\\dmlc-core\\src\\io\\threaded_input_split.h -> build\\temp.win32-3.8\\Release\\xgboost\\dmlc-core\\src\\io\n",
      "    copying xgboost\\dmlc-core\\src\\io\\uri_spec.h -> build\\temp.win32-3.8\\Release\\xgboost\\dmlc-core\\src\\io\n",
      "    copying xgboost\\dmlc-core\\src\\io.cc -> build\\temp.win32-3.8\\Release\\xgboost\\dmlc-core\\src\n",
      "    copying xgboost\\dmlc-core\\src\\recordio.cc -> build\\temp.win32-3.8\\Release\\xgboost\\dmlc-core\\src\n",
      "    creating build\\temp.win32-3.8\\Release\\xgboost\\dmlc-core\\tracker\n",
      "    copying xgboost\\dmlc-core\\tracker\\dmlc-submit -> build\\temp.win32-3.8\\Release\\xgboost\\dmlc-core\\tracker\n",
      "    creating build\\temp.win32-3.8\\Release\\xgboost\\dmlc-core\\tracker\\dmlc_tracker\n",
      "    copying xgboost\\dmlc-core\\tracker\\dmlc_tracker\\kubernetes.py -> build\\temp.win32-3.8\\Release\\xgboost\\dmlc-core\\tracker\\dmlc_tracker\n",
      "    copying xgboost\\dmlc-core\\tracker\\dmlc_tracker\\launcher.py -> build\\temp.win32-3.8\\Release\\xgboost\\dmlc-core\\tracker\\dmlc_tracker\n",
      "    copying xgboost\\dmlc-core\\tracker\\dmlc_tracker\\local.py -> build\\temp.win32-3.8\\Release\\xgboost\\dmlc-core\\tracker\\dmlc_tracker\n",
      "    copying xgboost\\dmlc-core\\tracker\\dmlc_tracker\\mesos.py -> build\\temp.win32-3.8\\Release\\xgboost\\dmlc-core\\tracker\\dmlc_tracker\n",
      "    copying xgboost\\dmlc-core\\tracker\\dmlc_tracker\\mpi.py -> build\\temp.win32-3.8\\Release\\xgboost\\dmlc-core\\tracker\\dmlc_tracker\n",
      "    copying xgboost\\dmlc-core\\tracker\\dmlc_tracker\\opts.py -> build\\temp.win32-3.8\\Release\\xgboost\\dmlc-core\\tracker\\dmlc_tracker\n",
      "    copying xgboost\\dmlc-core\\tracker\\dmlc_tracker\\sge.py -> build\\temp.win32-3.8\\Release\\xgboost\\dmlc-core\\tracker\\dmlc_tracker\n",
      "    copying xgboost\\dmlc-core\\tracker\\dmlc_tracker\\slurm.py -> build\\temp.win32-3.8\\Release\\xgboost\\dmlc-core\\tracker\\dmlc_tracker\n",
      "    copying xgboost\\dmlc-core\\tracker\\dmlc_tracker\\ssh.py -> build\\temp.win32-3.8\\Release\\xgboost\\dmlc-core\\tracker\\dmlc_tracker\n",
      "    copying xgboost\\dmlc-core\\tracker\\dmlc_tracker\\submit.py -> build\\temp.win32-3.8\\Release\\xgboost\\dmlc-core\\tracker\\dmlc_tracker\n",
      "    copying xgboost\\dmlc-core\\tracker\\dmlc_tracker\\tracker.py -> build\\temp.win32-3.8\\Release\\xgboost\\dmlc-core\\tracker\\dmlc_tracker\n",
      "    copying xgboost\\dmlc-core\\tracker\\dmlc_tracker\\util.py -> build\\temp.win32-3.8\\Release\\xgboost\\dmlc-core\\tracker\\dmlc_tracker\n",
      "    copying xgboost\\dmlc-core\\tracker\\dmlc_tracker\\yarn.py -> build\\temp.win32-3.8\\Release\\xgboost\\dmlc-core\\tracker\\dmlc_tracker\n",
      "    copying xgboost\\dmlc-core\\tracker\\dmlc_tracker\\__init__.py -> build\\temp.win32-3.8\\Release\\xgboost\\dmlc-core\\tracker\\dmlc_tracker\n",
      "    creating build\\temp.win32-3.8\\Release\\xgboost\\dmlc-core\\tracker\\yarn\n",
      "    copying xgboost\\dmlc-core\\tracker\\yarn\\build.bat -> build\\temp.win32-3.8\\Release\\xgboost\\dmlc-core\\tracker\\yarn\n",
      "    copying xgboost\\dmlc-core\\tracker\\yarn\\build.sh -> build\\temp.win32-3.8\\Release\\xgboost\\dmlc-core\\tracker\\yarn\n",
      "    copying xgboost\\dmlc-core\\tracker\\yarn\\pom.xml -> build\\temp.win32-3.8\\Release\\xgboost\\dmlc-core\\tracker\\yarn\n",
      "    creating build\\temp.win32-3.8\\Release\\xgboost\\dmlc-core\\tracker\\yarn\\src\n",
      "    creating build\\temp.win32-3.8\\Release\\xgboost\\dmlc-core\\tracker\\yarn\\src\\main\n",
      "    creating build\\temp.win32-3.8\\Release\\xgboost\\dmlc-core\\tracker\\yarn\\src\\main\\java\n",
      "    creating build\\temp.win32-3.8\\Release\\xgboost\\dmlc-core\\tracker\\yarn\\src\\main\\java\\org\n",
      "    creating build\\temp.win32-3.8\\Release\\xgboost\\dmlc-core\\tracker\\yarn\\src\\main\\java\\org\\apache\n",
      "    creating build\\temp.win32-3.8\\Release\\xgboost\\dmlc-core\\tracker\\yarn\\src\\main\\java\\org\\apache\\hadoop\n",
      "    creating build\\temp.win32-3.8\\Release\\xgboost\\dmlc-core\\tracker\\yarn\\src\\main\\java\\org\\apache\\hadoop\\yarn\n",
      "    creating build\\temp.win32-3.8\\Release\\xgboost\\dmlc-core\\tracker\\yarn\\src\\main\\java\\org\\apache\\hadoop\\yarn\\dmlc\n",
      "    copying xgboost\\dmlc-core\\tracker\\yarn\\src\\main\\java\\org\\apache\\hadoop\\yarn\\dmlc\\ApplicationMaster.java -> build\\temp.win32-3.8\\Release\\xgboost\\dmlc-core\\tracker\\yarn\\src\\main\\java\\org\\apache\\hadoop\\yarn\\dmlc\n",
      "    copying xgboost\\dmlc-core\\tracker\\yarn\\src\\main\\java\\org\\apache\\hadoop\\yarn\\dmlc\\Client.java -> build\\temp.win32-3.8\\Release\\xgboost\\dmlc-core\\tracker\\yarn\\src\\main\\java\\org\\apache\\hadoop\\yarn\\dmlc\n",
      "    copying xgboost\\dmlc-core\\tracker\\yarn\\src\\main\\java\\org\\apache\\hadoop\\yarn\\dmlc\\TaskRecord.java -> build\\temp.win32-3.8\\Release\\xgboost\\dmlc-core\\tracker\\yarn\\src\\main\\java\\org\\apache\\hadoop\\yarn\\dmlc\n",
      "    creating build\\temp.win32-3.8\\Release\\xgboost\\dmlc-core\\windows\n",
      "    creating build\\temp.win32-3.8\\Release\\xgboost\\dmlc-core\\windows\\dmlc\n",
      "    copying xgboost\\dmlc-core\\windows\\dmlc\\dmlc.vcxproj -> build\\temp.win32-3.8\\Release\\xgboost\\dmlc-core\\windows\\dmlc\n",
      "    copying xgboost\\dmlc-core\\windows\\dmlc.sln -> build\\temp.win32-3.8\\Release\\xgboost\\dmlc-core\\windows\n",
      "    creating build\\temp.win32-3.8\\Release\\xgboost\\rabit\n",
      "    copying xgboost\\rabit\\CMakeLists.txt -> build\\temp.win32-3.8\\Release\\xgboost\\rabit\n",
      "    creating build\\temp.win32-3.8\\Release\\xgboost\\rabit\\include\n",
      "    creating build\\temp.win32-3.8\\Release\\xgboost\\rabit\\include\\rabit\n",
      "    copying xgboost\\rabit\\include\\rabit\\base.h -> build\\temp.win32-3.8\\Release\\xgboost\\rabit\\include\\rabit\n",
      "    copying xgboost\\rabit\\include\\rabit\\c_api.h -> build\\temp.win32-3.8\\Release\\xgboost\\rabit\\include\\rabit\n",
      "    creating build\\temp.win32-3.8\\Release\\xgboost\\rabit\\include\\rabit\\internal\n",
      "    copying xgboost\\rabit\\include\\rabit\\internal\\engine.h -> build\\temp.win32-3.8\\Release\\xgboost\\rabit\\include\\rabit\\internal\n",
      "    copying xgboost\\rabit\\include\\rabit\\internal\\io.h -> build\\temp.win32-3.8\\Release\\xgboost\\rabit\\include\\rabit\\internal\n",
      "    copying xgboost\\rabit\\include\\rabit\\internal\\rabit-inl.h -> build\\temp.win32-3.8\\Release\\xgboost\\rabit\\include\\rabit\\internal\n",
      "    copying xgboost\\rabit\\include\\rabit\\internal\\socket.h -> build\\temp.win32-3.8\\Release\\xgboost\\rabit\\include\\rabit\\internal\n",
      "    copying xgboost\\rabit\\include\\rabit\\internal\\utils.h -> build\\temp.win32-3.8\\Release\\xgboost\\rabit\\include\\rabit\\internal\n",
      "    copying xgboost\\rabit\\include\\rabit\\rabit.h -> build\\temp.win32-3.8\\Release\\xgboost\\rabit\\include\\rabit\n",
      "    copying xgboost\\rabit\\include\\rabit\\serializable.h -> build\\temp.win32-3.8\\Release\\xgboost\\rabit\\include\\rabit\n",
      "    creating build\\temp.win32-3.8\\Release\\xgboost\\rabit\\src\n",
      "    copying xgboost\\rabit\\src\\allreduce_base.cc -> build\\temp.win32-3.8\\Release\\xgboost\\rabit\\src\n",
      "    copying xgboost\\rabit\\src\\allreduce_base.h -> build\\temp.win32-3.8\\Release\\xgboost\\rabit\\src\n",
      "    copying xgboost\\rabit\\src\\allreduce_mock.h -> build\\temp.win32-3.8\\Release\\xgboost\\rabit\\src\n",
      "    copying xgboost\\rabit\\src\\c_api.cc -> build\\temp.win32-3.8\\Release\\xgboost\\rabit\\src\n",
      "    copying xgboost\\rabit\\src\\engine.cc -> build\\temp.win32-3.8\\Release\\xgboost\\rabit\\src\n",
      "    copying xgboost\\rabit\\src\\engine_mock.cc -> build\\temp.win32-3.8\\Release\\xgboost\\rabit\\src\n",
      "    copying xgboost\\rabit\\src\\engine_mpi.cc -> build\\temp.win32-3.8\\Release\\xgboost\\rabit\\src\n",
      "    creating build\\temp.win32-3.8\\Release\\xgboost\\cmake\n",
      "    copying xgboost\\cmake\\Doc.cmake -> build\\temp.win32-3.8\\Release\\xgboost\\cmake\n",
      "    copying xgboost\\cmake\\FindPrefetchIntrinsics.cmake -> build\\temp.win32-3.8\\Release\\xgboost\\cmake\n",
      "    creating build\\temp.win32-3.8\\Release\\xgboost\\cmake\\modules\n",
      "    copying xgboost\\cmake\\modules\\FindNccl.cmake -> build\\temp.win32-3.8\\Release\\xgboost\\cmake\\modules\n",
      "    copying xgboost\\cmake\\modules\\FindNVML.cmake -> build\\temp.win32-3.8\\Release\\xgboost\\cmake\\modules\n",
      "    copying xgboost\\cmake\\modules\\FindNVTX.cmake -> build\\temp.win32-3.8\\Release\\xgboost\\cmake\\modules\n",
      "    copying xgboost\\cmake\\Python_version.in -> build\\temp.win32-3.8\\Release\\xgboost\\cmake\n",
      "    copying xgboost\\cmake\\Utils.cmake -> build\\temp.win32-3.8\\Release\\xgboost\\cmake\n",
      "    copying xgboost\\cmake\\Version.cmake -> build\\temp.win32-3.8\\Release\\xgboost\\cmake\n",
      "    copying xgboost\\cmake\\version_config.h.in -> build\\temp.win32-3.8\\Release\\xgboost\\cmake\n",
      "    copying xgboost\\cmake\\xgboost-config.cmake.in -> build\\temp.win32-3.8\\Release\\xgboost\\cmake\n",
      "    copying xgboost\\cmake\\xgboost.pc.in -> build\\temp.win32-3.8\\Release\\xgboost\\cmake\n",
      "    creating build\\temp.win32-3.8\\Release\\xgboost\\plugin\n",
      "    copying xgboost\\plugin\\CMakeLists.txt -> build\\temp.win32-3.8\\Release\\xgboost\\plugin\n",
      "    creating build\\temp.win32-3.8\\Release\\xgboost\\plugin\\dense_parser\n",
      "    copying xgboost\\plugin\\dense_parser\\dense_libsvm.cc -> build\\temp.win32-3.8\\Release\\xgboost\\plugin\\dense_parser\n",
      "    creating build\\temp.win32-3.8\\Release\\xgboost\\plugin\\example\n",
      "    copying xgboost\\plugin\\example\\custom_obj.cc -> build\\temp.win32-3.8\\Release\\xgboost\\plugin\\example\n",
      "    copying xgboost\\plugin\\example\\README.md -> build\\temp.win32-3.8\\Release\\xgboost\\plugin\\example\n",
      "    creating build\\temp.win32-3.8\\Release\\xgboost\\plugin\\lz4\n",
      "    copying xgboost\\plugin\\lz4\\sparse_page_lz4_format.cc -> build\\temp.win32-3.8\\Release\\xgboost\\plugin\\lz4\n",
      "    copying xgboost\\plugin\\README.md -> build\\temp.win32-3.8\\Release\\xgboost\\plugin\n",
      "    creating build\\temp.win32-3.8\\Release\\xgboost\\plugin\\updater_gpu\n",
      "    copying xgboost\\plugin\\updater_gpu\\README.md -> build\\temp.win32-3.8\\Release\\xgboost\\plugin\\updater_gpu\n",
      "    creating build\\temp.win32-3.8\\Release\\xgboost\\plugin\\updater_oneapi\n",
      "    copying xgboost\\plugin\\updater_oneapi\\predictor_oneapi.cc -> build\\temp.win32-3.8\\Release\\xgboost\\plugin\\updater_oneapi\n",
      "    copying xgboost\\plugin\\updater_oneapi\\README.md -> build\\temp.win32-3.8\\Release\\xgboost\\plugin\\updater_oneapi\n",
      "    copying xgboost\\plugin\\updater_oneapi\\regression_loss_oneapi.h -> build\\temp.win32-3.8\\Release\\xgboost\\plugin\\updater_oneapi\n",
      "    copying xgboost\\plugin\\updater_oneapi\\regression_obj_oneapi.cc -> build\\temp.win32-3.8\\Release\\xgboost\\plugin\\updater_oneapi\n",
      "    copying xgboost\\CMakeLists.txt -> build\\temp.win32-3.8\\Release\\xgboost\n",
      "    copying xgboost\\LICENSE -> build\\temp.win32-3.8\\Release\\xgboost\n",
      "    INFO:XGBoost build_ext:Building from source. C:\\Users\\ACER\\AppData\\Local\\Temp\\pip-install-np9iw73b\\lib\\xgboost.dll\n",
      "    INFO:XGBoost build_ext:Run CMake command: ['cmake', 'xgboost', '-GVisual Studio 16 2019', '-DUSE_OPENMP=1', '-DUSE_CUDA=0', '-DUSE_NCCL=0', '-DBUILD_WITH_SHARED_NCCL=0', '-DHIDE_CXX_SYMBOLS=1', '-DUSE_HDFS=0', '-DUSE_AZURE=0', '-DUSE_S3=0', '-DPLUGIN_LZ4=0', '-DPLUGIN_DENSE_PARSER=0']\n",
      "    error: [WinError 2] The system cannot find the file specified\n",
      "    ----------------------------------------\n",
      "ERROR: Command errored out with exit status 1: 'C:\\ProgramData\\Anaconda3\\python.exe' -u -c 'import sys, setuptools, tokenize; sys.argv[0] = '\"'\"'C:\\\\Users\\\\ACER\\\\AppData\\\\Local\\\\Temp\\\\pip-install-np9iw73b\\\\xgboost\\\\setup.py'\"'\"'; __file__='\"'\"'C:\\\\Users\\\\ACER\\\\AppData\\\\Local\\\\Temp\\\\pip-install-np9iw73b\\\\xgboost\\\\setup.py'\"'\"';f=getattr(tokenize, '\"'\"'open'\"'\"', open)(__file__);code=f.read().replace('\"'\"'\\r\\n'\"'\"', '\"'\"'\\n'\"'\"');f.close();exec(compile(code, __file__, '\"'\"'exec'\"'\"'))' install --record 'C:\\Users\\ACER\\AppData\\Local\\Temp\\pip-record-ny9xg1as\\install-record.txt' --single-version-externally-managed --compile --install-headers 'C:\\ProgramData\\Anaconda3\\Include\\xgboost' Check the logs for full command output.\n"
     ]
    }
   ],
   "source": []
  },
  {
   "cell_type": "markdown",
   "metadata": {
    "papermill": {
     "duration": 0.047265,
     "end_time": "2021-07-13T06:13:52.698938",
     "exception": false,
     "start_time": "2021-07-13T06:13:52.651673",
     "status": "completed"
    },
    "tags": []
   },
   "source": [
    "# **Import Libraries**"
   ]
  },
  {
   "cell_type": "code",
   "execution_count": 2,
   "metadata": {
    "_cell_guid": "79c7e3d0-c299-4dcb-8224-4455121ee9b0",
    "_uuid": "d629ff2d2480ee46fbb7e2d37f6b5fab8052498a",
    "execution": {
     "iopub.execute_input": "2021-07-13T06:13:52.812599Z",
     "iopub.status.busy": "2021-07-13T06:13:52.811854Z",
     "iopub.status.idle": "2021-07-13T06:13:57.440674Z",
     "shell.execute_reply": "2021-07-13T06:13:57.440114Z",
     "shell.execute_reply.started": "2021-07-13T06:04:47.522239Z"
    },
    "papermill": {
     "duration": 4.693835,
     "end_time": "2021-07-13T06:13:57.440784",
     "exception": false,
     "start_time": "2021-07-13T06:13:52.746949",
     "status": "completed"
    },
    "tags": []
   },
   "outputs": [
    {
     "data": {
      "text/html": [
       "        <script type=\"text/javascript\">\n",
       "        window.PlotlyConfig = {MathJaxConfig: 'local'};\n",
       "        if (window.MathJax) {MathJax.Hub.Config({SVG: {font: \"STIX-Web\"}});}\n",
       "        if (typeof require !== 'undefined') {\n",
       "        require.undef(\"plotly\");\n",
       "        requirejs.config({\n",
       "            paths: {\n",
       "                'plotly': ['https://cdn.plot.ly/plotly-2.2.0.min']\n",
       "            }\n",
       "        });\n",
       "        require(['plotly'], function(Plotly) {\n",
       "            window._Plotly = Plotly;\n",
       "        });\n",
       "        }\n",
       "        </script>\n",
       "        "
      ]
     },
     "metadata": {},
     "output_type": "display_data"
    },
    {
     "ename": "ModuleNotFoundError",
     "evalue": "No module named 'xgboost'",
     "output_type": "error",
     "traceback": [
      "\u001b[1;31m---------------------------------------------------------------------------\u001b[0m",
      "\u001b[1;31mModuleNotFoundError\u001b[0m                       Traceback (most recent call last)",
      "\u001b[1;32m<ipython-input-2-9732c1fc4f1b>\u001b[0m in \u001b[0;36m<module>\u001b[1;34m\u001b[0m\n\u001b[0;32m     19\u001b[0m \u001b[0mget_ipython\u001b[0m\u001b[1;33m(\u001b[0m\u001b[1;33m)\u001b[0m\u001b[1;33m.\u001b[0m\u001b[0mrun_line_magic\u001b[0m\u001b[1;33m(\u001b[0m\u001b[1;34m'matplotlib'\u001b[0m\u001b[1;33m,\u001b[0m \u001b[1;34m'inline'\u001b[0m\u001b[1;33m)\u001b[0m\u001b[1;33m\u001b[0m\u001b[1;33m\u001b[0m\u001b[0m\n\u001b[0;32m     20\u001b[0m \u001b[1;33m\u001b[0m\u001b[0m\n\u001b[1;32m---> 21\u001b[1;33m \u001b[1;32mimport\u001b[0m \u001b[0mxgboost\u001b[0m\u001b[1;33m\u001b[0m\u001b[1;33m\u001b[0m\u001b[0m\n\u001b[0m\u001b[0;32m     22\u001b[0m \u001b[1;32mimport\u001b[0m \u001b[0mlightgbm\u001b[0m\u001b[1;33m\u001b[0m\u001b[1;33m\u001b[0m\u001b[0m\n\u001b[0;32m     23\u001b[0m \u001b[1;32mfrom\u001b[0m \u001b[0msklearn\u001b[0m\u001b[1;33m.\u001b[0m\u001b[0msvm\u001b[0m \u001b[1;32mimport\u001b[0m \u001b[0mSVC\u001b[0m\u001b[1;33m\u001b[0m\u001b[1;33m\u001b[0m\u001b[0m\n",
      "\u001b[1;31mModuleNotFoundError\u001b[0m: No module named 'xgboost'"
     ]
    }
   ],
   "source": [
    "import matplotlib.pyplot as plt\n",
    "import warnings\n",
    "import seaborn as sns\n",
    "from colorama import Fore, Back, Style \n",
    "from sklearn.model_selection import train_test_split\n",
    "from sklearn.metrics import confusion_matrix, accuracy_score\n",
    "from mlxtend.plotting import plot_confusion_matrix\n",
    "from plotly.offline import plot, iplot, init_notebook_mode\n",
    "import plotly.graph_objs as go\n",
    "from plotly.subplots import make_subplots\n",
    "import plotly.express as px\n",
    "from statsmodels.formula.api import ols\n",
    "import plotly.graph_objs as gobj\n",
    "\n",
    "init_notebook_mode(connected=True)\n",
    "warnings.filterwarnings(\"ignore\")\n",
    "import plotly.figure_factory as ff\n",
    "\n",
    "%matplotlib inline\n",
    "\n",
    "import xgboost\n",
    "import lightgbm\n",
    "from sklearn.svm import SVC\n",
    "from sklearn.ensemble import GradientBoostingClassifier\n",
    "from sklearn.ensemble import RandomForestClassifier\n",
    "from sklearn.tree import DecisionTreeClassifier\n",
    "from sklearn.neighbors import KNeighborsClassifier\n",
    "from sklearn.linear_model import LogisticRegression"
   ]
  },
  {
   "cell_type": "markdown",
   "metadata": {
    "papermill": {
     "duration": 0.049019,
     "end_time": "2021-07-13T06:13:57.538345",
     "exception": false,
     "start_time": "2021-07-13T06:13:57.489326",
     "status": "completed"
    },
    "tags": []
   },
   "source": [
    "# **Lets Explore the data**"
   ]
  },
  {
   "cell_type": "code",
   "execution_count": null,
   "metadata": {
    "execution": {
     "iopub.execute_input": "2021-07-13T06:13:57.640556Z",
     "iopub.status.busy": "2021-07-13T06:13:57.640033Z",
     "iopub.status.idle": "2021-07-13T06:13:57.678117Z",
     "shell.execute_reply": "2021-07-13T06:13:57.677560Z",
     "shell.execute_reply.started": "2021-07-13T06:04:51.432559Z"
    },
    "papermill": {
     "duration": 0.091882,
     "end_time": "2021-07-13T06:13:57.678213",
     "exception": false,
     "start_time": "2021-07-13T06:13:57.586331",
     "status": "completed"
    },
    "tags": []
   },
   "outputs": [],
   "source": [
    "heart_data = pd.read_csv('C:\\\\Users\\\\ACER\\\\Downloads\\\\Whatsapp\\\\heart_failure_clinical_records_dataset.csv')\n",
    "heart_data.head()"
   ]
  },
  {
   "cell_type": "markdown",
   "metadata": {
    "papermill": {
     "duration": 0.04868,
     "end_time": "2021-07-13T06:13:57.775350",
     "exception": false,
     "start_time": "2021-07-13T06:13:57.726670",
     "status": "completed"
    },
    "tags": []
   },
   "source": [
    "* Sex - Gender of patient Male = 1, Female =0\n",
    "* Age - Age of patient\n",
    "* Diabetes - 0 = No, 1 = Yes\n",
    "* Anaemia - 0 = No, 1 = Yes\n",
    "* High_blood_pressure - 0 = No, 1 = Yes\n",
    "* Smoking - 0 = No, 1 = Yes\n",
    "* DEATH_EVENT - 0 = No, 1 = Yes"
   ]
  },
  {
   "cell_type": "markdown",
   "metadata": {
    "papermill": {
     "duration": 0.047979,
     "end_time": "2021-07-13T06:13:57.872534",
     "exception": false,
     "start_time": "2021-07-13T06:13:57.824555",
     "status": "completed"
    },
    "tags": []
   },
   "source": [
    "# Is Age and Sex an indicator for Death Event?"
   ]
  },
  {
   "cell_type": "code",
   "execution_count": null,
   "metadata": {
    "execution": {
     "iopub.execute_input": "2021-07-13T06:13:57.976402Z",
     "iopub.status.busy": "2021-07-13T06:13:57.975845Z",
     "iopub.status.idle": "2021-07-13T06:13:58.167932Z",
     "shell.execute_reply": "2021-07-13T06:13:58.168363Z",
     "shell.execute_reply.started": "2021-07-13T06:04:51.468847Z"
    },
    "papermill": {
     "duration": 0.247248,
     "end_time": "2021-07-13T06:13:58.168486",
     "exception": false,
     "start_time": "2021-07-13T06:13:57.921238",
     "status": "completed"
    },
    "tags": []
   },
   "outputs": [],
   "source": [
    "# age distribution\n",
    "\n",
    "hist_data =[heart_data[\"age\"].values]\n",
    "group_labels = ['age'] \n",
    "\n",
    "fig = ff.create_distplot(hist_data, group_labels)\n",
    "fig.update_layout(title_text='Age Distribution plot')\n",
    "\n",
    "fig.show()"
   ]
  },
  {
   "cell_type": "markdown",
   "metadata": {
    "papermill": {
     "duration": 0.056845,
     "end_time": "2021-07-13T06:13:58.283341",
     "exception": false,
     "start_time": "2021-07-13T06:13:58.226496",
     "status": "completed"
    },
    "tags": []
   },
   "source": [
    "* Age wise 40 to 80 the spread is High\n",
    "* less than 40 age and higher than 80 age people are very low"
   ]
  },
  {
   "cell_type": "code",
   "execution_count": null,
   "metadata": {
    "execution": {
     "iopub.execute_input": "2021-07-13T06:13:58.406759Z",
     "iopub.status.busy": "2021-07-13T06:13:58.406245Z",
     "iopub.status.idle": "2021-07-13T06:13:59.486467Z",
     "shell.execute_reply": "2021-07-13T06:13:59.486876Z",
     "shell.execute_reply.started": "2021-07-13T06:04:51.634110Z"
    },
    "papermill": {
     "duration": 1.145965,
     "end_time": "2021-07-13T06:13:59.486994",
     "exception": false,
     "start_time": "2021-07-13T06:13:58.341029",
     "status": "completed"
    },
    "tags": []
   },
   "outputs": [],
   "source": [
    "fig = px.box(heart_data, x='sex', y='age', points=\"all\")\n",
    "fig.update_layout(\n",
    "    title_text=\"Gender wise Age Spread - Male = 1 Female =0\")\n",
    "fig.show()"
   ]
  },
  {
   "cell_type": "code",
   "execution_count": null,
   "metadata": {
    "execution": {
     "iopub.execute_input": "2021-07-13T06:13:59.633658Z",
     "iopub.status.busy": "2021-07-13T06:13:59.633109Z",
     "iopub.status.idle": "2021-07-13T06:13:59.655376Z",
     "shell.execute_reply": "2021-07-13T06:13:59.654508Z",
     "shell.execute_reply.started": "2021-07-13T06:04:52.362241Z"
    },
    "papermill": {
     "duration": 0.105074,
     "end_time": "2021-07-13T06:13:59.655507",
     "exception": false,
     "start_time": "2021-07-13T06:13:59.550433",
     "status": "completed"
    },
    "tags": []
   },
   "outputs": [],
   "source": [
    "male = heart_data[heart_data[\"sex\"]==1]\n",
    "female = heart_data[heart_data[\"sex\"]==0]\n",
    "\n",
    "male_survi = male[heart_data[\"DEATH_EVENT\"]==0]\n",
    "male_not = male[heart_data[\"DEATH_EVENT\"]==1]\n",
    "female_survi = female[heart_data[\"DEATH_EVENT\"]==0]\n",
    "female_not = female[heart_data[\"DEATH_EVENT\"]==1]\n",
    "\n",
    "labels = ['Male - Survived','Male - Not Survived', \"Female -  Survived\", \"Female - Not Survived\"]\n",
    "values = [len(male[heart_data[\"DEATH_EVENT\"]==0]),len(male[heart_data[\"DEATH_EVENT\"]==1]),\n",
    "         len(female[heart_data[\"DEATH_EVENT\"]==0]),len(female[heart_data[\"DEATH_EVENT\"]==1])]\n",
    "fig = go.Figure(data=[go.Pie(labels=labels, values=values, hole=.4)])\n",
    "fig.update_layout(\n",
    "    title_text=\"Analysis on Survival - Gender\")\n",
    "fig.show()"
   ]
  },
  {
   "cell_type": "markdown",
   "metadata": {
    "papermill": {
     "duration": 0.107824,
     "end_time": "2021-07-13T06:13:59.873242",
     "exception": false,
     "start_time": "2021-07-13T06:13:59.765418",
     "status": "completed"
    },
    "tags": []
   },
   "source": [
    "# Gender factor Analysis"
   ]
  },
  {
   "cell_type": "code",
   "execution_count": null,
   "metadata": {
    "execution": {
     "iopub.execute_input": "2021-07-13T06:14:00.166416Z",
     "iopub.status.busy": "2021-07-13T06:14:00.114537Z",
     "iopub.status.idle": "2021-07-13T06:14:00.188825Z",
     "shell.execute_reply": "2021-07-13T06:14:00.189398Z",
     "shell.execute_reply.started": "2021-07-13T06:04:52.393322Z"
    },
    "papermill": {
     "duration": 0.209645,
     "end_time": "2021-07-13T06:14:00.189541",
     "exception": false,
     "start_time": "2021-07-13T06:13:59.979896",
     "status": "completed"
    },
    "tags": []
   },
   "outputs": [],
   "source": [
    "surv = heart_data[heart_data[\"DEATH_EVENT\"]==0][\"age\"]\n",
    "not_surv = heart_data[heart_data[\"DEATH_EVENT\"]==1][\"age\"]\n",
    "hist_data = [surv,not_surv]\n",
    "group_labels = ['Survived', 'Not Survived']\n",
    "fig = ff.create_distplot(hist_data, group_labels, bin_size=0.5)\n",
    "fig.update_layout(\n",
    "    title_text=\"Analysis in Age on Survival Status\")\n",
    "fig.show()"
   ]
  },
  {
   "cell_type": "markdown",
   "metadata": {
    "papermill": {
     "duration": 0.123962,
     "end_time": "2021-07-13T06:14:00.438224",
     "exception": false,
     "start_time": "2021-07-13T06:14:00.314262",
     "status": "completed"
    },
    "tags": []
   },
   "source": [
    "* Survival is high on 40 to 70\n",
    "* The spread of Not survival is going through all ages."
   ]
  },
  {
   "cell_type": "code",
   "execution_count": null,
   "metadata": {
    "execution": {
     "iopub.execute_input": "2021-07-13T06:14:00.705843Z",
     "iopub.status.busy": "2021-07-13T06:14:00.701976Z",
     "iopub.status.idle": "2021-07-13T06:14:00.831107Z",
     "shell.execute_reply": "2021-07-13T06:14:00.831514Z",
     "shell.execute_reply.started": "2021-07-13T06:04:52.450625Z"
    },
    "papermill": {
     "duration": 0.266518,
     "end_time": "2021-07-13T06:14:00.831636",
     "exception": false,
     "start_time": "2021-07-13T06:14:00.565118",
     "status": "completed"
    },
    "tags": []
   },
   "outputs": [],
   "source": [
    "fig = px.violin(heart_data, y=\"age\", x=\"sex\", color=\"DEATH_EVENT\", box=True, points=\"all\", hover_data=heart_data.columns)\n",
    "fig.update_layout(title_text=\"Analysis in Age and Gender on Survival Status\")\n",
    "fig.show()"
   ]
  },
  {
   "cell_type": "markdown",
   "metadata": {
    "papermill": {
     "duration": 0.098486,
     "end_time": "2021-07-13T06:14:01.070969",
     "exception": false,
     "start_time": "2021-07-13T06:14:00.972483",
     "status": "completed"
    },
    "tags": []
   },
   "source": [
    "Age Report\n",
    "\n",
    "* Survival spread is high in age's flow of 40 to 70\n",
    "* The Survival is high for both male between 50 to 60 and female's age between 60 to 70 respectively"
   ]
  },
  {
   "cell_type": "code",
   "execution_count": null,
   "metadata": {
    "execution": {
     "iopub.execute_input": "2021-07-13T06:14:01.306181Z",
     "iopub.status.busy": "2021-07-13T06:14:01.285514Z",
     "iopub.status.idle": "2021-07-13T06:14:01.354132Z",
     "shell.execute_reply": "2021-07-13T06:14:01.354679Z",
     "shell.execute_reply.started": "2021-07-13T06:04:52.565256Z"
    },
    "papermill": {
     "duration": 0.186664,
     "end_time": "2021-07-13T06:14:01.354816",
     "exception": false,
     "start_time": "2021-07-13T06:14:01.168152",
     "status": "completed"
    },
    "tags": []
   },
   "outputs": [],
   "source": [
    "fig = px.violin(heart_data, y=\"age\", x=\"smoking\", color=\"DEATH_EVENT\", box=True, points=\"all\", hover_data=heart_data.columns)\n",
    "fig.update_layout(title_text=\"Analysis in Age and Smoking on Survival Status\")\n",
    "fig.show()"
   ]
  },
  {
   "cell_type": "markdown",
   "metadata": {
    "papermill": {
     "duration": 0.177974,
     "end_time": "2021-07-13T06:14:01.710190",
     "exception": false,
     "start_time": "2021-07-13T06:14:01.532216",
     "status": "completed"
    },
    "tags": []
   },
   "source": [
    "* The Survival is high for not smoking person 55 to 65, while for smoking person it is between 50 to 60\n",
    "* Death event for smoking person is high than not smoking person"
   ]
  },
  {
   "cell_type": "code",
   "execution_count": null,
   "metadata": {
    "execution": {
     "iopub.execute_input": "2021-07-13T06:14:02.074512Z",
     "iopub.status.busy": "2021-07-13T06:14:02.073775Z",
     "iopub.status.idle": "2021-07-13T06:14:02.154044Z",
     "shell.execute_reply": "2021-07-13T06:14:02.154647Z",
     "shell.execute_reply.started": "2021-07-13T06:04:52.640490Z"
    },
    "papermill": {
     "duration": 0.266775,
     "end_time": "2021-07-13T06:14:02.154791",
     "exception": false,
     "start_time": "2021-07-13T06:14:01.888016",
     "status": "completed"
    },
    "tags": []
   },
   "outputs": [],
   "source": [
    "fig = px.violin(heart_data, y=\"age\", x=\"diabetes\", color=\"DEATH_EVENT\", box=True, points=\"all\", hover_data=heart_data.columns)\n",
    "fig.update_layout(title_text=\"Analysis in Age and Diabetes on Survival Status\")\n",
    "fig.show()"
   ]
  },
  {
   "cell_type": "markdown",
   "metadata": {
    "papermill": {
     "duration": 0.206182,
     "end_time": "2021-07-13T06:14:02.567448",
     "exception": false,
     "start_time": "2021-07-13T06:14:02.361266",
     "status": "completed"
    },
    "tags": []
   },
   "source": [
    "# **Other Factors**"
   ]
  },
  {
   "cell_type": "markdown",
   "metadata": {
    "papermill": {
     "duration": 0.203039,
     "end_time": "2021-07-13T06:14:02.978768",
     "exception": false,
     "start_time": "2021-07-13T06:14:02.775729",
     "status": "completed"
    },
    "tags": []
   },
   "source": [
    "**Hist Plots**"
   ]
  },
  {
   "cell_type": "code",
   "execution_count": null,
   "metadata": {
    "execution": {
     "iopub.execute_input": "2021-07-13T06:14:03.414869Z",
     "iopub.status.busy": "2021-07-13T06:14:03.408397Z",
     "iopub.status.idle": "2021-07-13T06:14:03.532750Z",
     "shell.execute_reply": "2021-07-13T06:14:03.533293Z",
     "shell.execute_reply.started": "2021-07-13T06:04:52.716867Z"
    },
    "papermill": {
     "duration": 0.345073,
     "end_time": "2021-07-13T06:14:03.533425",
     "exception": false,
     "start_time": "2021-07-13T06:14:03.188352",
     "status": "completed"
    },
    "tags": []
   },
   "outputs": [],
   "source": [
    "fig = px.histogram(heart_data, x=\"creatinine_phosphokinase\", color=\"DEATH_EVENT\", marginal=\"violin\", hover_data=heart_data.columns)\n",
    "fig.show()"
   ]
  },
  {
   "cell_type": "code",
   "execution_count": null,
   "metadata": {
    "execution": {
     "iopub.execute_input": "2021-07-13T06:14:04.012898Z",
     "iopub.status.busy": "2021-07-13T06:14:04.012386Z",
     "iopub.status.idle": "2021-07-13T06:14:04.093559Z",
     "shell.execute_reply": "2021-07-13T06:14:04.093984Z",
     "shell.execute_reply.started": "2021-07-13T06:04:52.826979Z"
    },
    "papermill": {
     "duration": 0.327274,
     "end_time": "2021-07-13T06:14:04.094125",
     "exception": false,
     "start_time": "2021-07-13T06:14:03.766851",
     "status": "completed"
    },
    "tags": []
   },
   "outputs": [],
   "source": [
    "fig = px.histogram(heart_data, x=\"ejection_fraction\", color=\"DEATH_EVENT\", marginal=\"violin\", hover_data=heart_data.columns)\n",
    "fig.show()"
   ]
  },
  {
   "cell_type": "code",
   "execution_count": null,
   "metadata": {
    "execution": {
     "iopub.execute_input": "2021-07-13T06:14:04.430202Z",
     "iopub.status.busy": "2021-07-13T06:14:04.428022Z",
     "iopub.status.idle": "2021-07-13T06:14:04.504655Z",
     "shell.execute_reply": "2021-07-13T06:14:04.505052Z",
     "shell.execute_reply.started": "2021-07-13T06:04:52.913237Z"
    },
    "papermill": {
     "duration": 0.249961,
     "end_time": "2021-07-13T06:14:04.505188",
     "exception": false,
     "start_time": "2021-07-13T06:14:04.255227",
     "status": "completed"
    },
    "tags": []
   },
   "outputs": [],
   "source": [
    "fig = px.histogram(heart_data, x=\"platelets\", color=\"DEATH_EVENT\", marginal=\"violin\", hover_data=heart_data.columns)\n",
    "fig.show()"
   ]
  },
  {
   "cell_type": "code",
   "execution_count": null,
   "metadata": {
    "execution": {
     "iopub.execute_input": "2021-07-13T06:14:04.869317Z",
     "iopub.status.busy": "2021-07-13T06:14:04.868653Z",
     "iopub.status.idle": "2021-07-13T06:14:04.955096Z",
     "shell.execute_reply": "2021-07-13T06:14:04.955527Z",
     "shell.execute_reply.started": "2021-07-13T06:04:53.002649Z"
    },
    "papermill": {
     "duration": 0.274041,
     "end_time": "2021-07-13T06:14:04.955652",
     "exception": false,
     "start_time": "2021-07-13T06:14:04.681611",
     "status": "completed"
    },
    "tags": []
   },
   "outputs": [],
   "source": [
    "fig = px.histogram(heart_data, x=\"serum_creatinine\", color=\"DEATH_EVENT\", marginal=\"violin\", hover_data=heart_data.columns)\n",
    "fig.show()"
   ]
  },
  {
   "cell_type": "code",
   "execution_count": null,
   "metadata": {
    "execution": {
     "iopub.execute_input": "2021-07-13T06:14:05.355253Z",
     "iopub.status.busy": "2021-07-13T06:14:05.350795Z",
     "iopub.status.idle": "2021-07-13T06:14:05.440407Z",
     "shell.execute_reply": "2021-07-13T06:14:05.439693Z",
     "shell.execute_reply.started": "2021-07-13T06:04:53.098398Z"
    },
    "papermill": {
     "duration": 0.290654,
     "end_time": "2021-07-13T06:14:05.440518",
     "exception": false,
     "start_time": "2021-07-13T06:14:05.149864",
     "status": "completed"
    },
    "tags": []
   },
   "outputs": [],
   "source": [
    "fig = px.histogram(heart_data, x=\"serum_sodium\", color=\"DEATH_EVENT\", marginal=\"violin\",hover_data=heart_data.columns)\n",
    "fig.show()"
   ]
  },
  {
   "cell_type": "markdown",
   "metadata": {
    "papermill": {
     "duration": 0.206957,
     "end_time": "2021-07-13T06:14:05.904677",
     "exception": false,
     "start_time": "2021-07-13T06:14:05.697720",
     "status": "completed"
    },
    "tags": []
   },
   "source": [
    "**Distribution plots Survived and Not-Survived**"
   ]
  },
  {
   "cell_type": "code",
   "execution_count": null,
   "metadata": {
    "execution": {
     "iopub.execute_input": "2021-07-13T06:14:06.370506Z",
     "iopub.status.busy": "2021-07-13T06:14:06.369962Z",
     "iopub.status.idle": "2021-07-13T06:14:06.414082Z",
     "shell.execute_reply": "2021-07-13T06:14:06.414503Z",
     "shell.execute_reply.started": "2021-07-13T06:04:53.188058Z"
    },
    "papermill": {
     "duration": 0.292263,
     "end_time": "2021-07-13T06:14:06.414625",
     "exception": false,
     "start_time": "2021-07-13T06:14:06.122362",
     "status": "completed"
    },
    "tags": []
   },
   "outputs": [],
   "source": [
    "surv = heart_data[heart_data['DEATH_EVENT']==0]['serum_sodium']\n",
    "not_surv = heart_data[heart_data['DEATH_EVENT']==1]['serum_sodium']\n",
    "hist_data = [surv,not_surv]\n",
    "group_labels = ['Survived', 'Not Survived']\n",
    "fig = ff.create_distplot(hist_data, group_labels, bin_size=0.5)\n",
    "fig.update_layout(\n",
    "    title_text=\"Analysis in Serum Sodium on Survival Status\")\n",
    "fig.show()"
   ]
  },
  {
   "cell_type": "code",
   "execution_count": null,
   "metadata": {
    "execution": {
     "iopub.execute_input": "2021-07-13T06:14:06.898545Z",
     "iopub.status.busy": "2021-07-13T06:14:06.860027Z",
     "iopub.status.idle": "2021-07-13T06:14:06.920096Z",
     "shell.execute_reply": "2021-07-13T06:14:06.920507Z",
     "shell.execute_reply.started": "2021-07-13T06:04:53.241894Z"
    },
    "papermill": {
     "duration": 0.290925,
     "end_time": "2021-07-13T06:14:06.920625",
     "exception": false,
     "start_time": "2021-07-13T06:14:06.629700",
     "status": "completed"
    },
    "tags": []
   },
   "outputs": [],
   "source": [
    "surv = heart_data[heart_data['DEATH_EVENT']==0]['serum_creatinine']\n",
    "not_surv = heart_data[heart_data['DEATH_EVENT']==1]['serum_creatinine']\n",
    "hist_data = [surv,not_surv]\n",
    "group_labels = ['Survived', 'Not Survived']\n",
    "fig = ff.create_distplot(hist_data, group_labels, bin_size=0.5)\n",
    "fig.update_layout(\n",
    "    title_text=\"Analysis in Serum Creatinine on Survival Status\")\n",
    "fig.show()"
   ]
  },
  {
   "cell_type": "code",
   "execution_count": null,
   "metadata": {
    "execution": {
     "iopub.execute_input": "2021-07-13T06:14:07.387271Z",
     "iopub.status.busy": "2021-07-13T06:14:07.386762Z",
     "iopub.status.idle": "2021-07-13T06:14:07.440918Z",
     "shell.execute_reply": "2021-07-13T06:14:07.441334Z",
     "shell.execute_reply.started": "2021-07-13T06:04:53.298200Z"
    },
    "papermill": {
     "duration": 0.286095,
     "end_time": "2021-07-13T06:14:07.441458",
     "exception": false,
     "start_time": "2021-07-13T06:14:07.155363",
     "status": "completed"
    },
    "tags": []
   },
   "outputs": [],
   "source": [
    "surv = heart_data[heart_data['DEATH_EVENT']==0]['ejection_fraction']\n",
    "not_surv = heart_data[heart_data['DEATH_EVENT']==1]['ejection_fraction']\n",
    "hist_data = [surv,not_surv]\n",
    "group_labels = ['Survived', 'Not Survived']\n",
    "fig = ff.create_distplot(hist_data, group_labels, bin_size=0.5)\n",
    "fig.update_layout(\n",
    "    title_text=\"Analysis in Ejaction Fraction on Survival Status\")\n",
    "fig.show()"
   ]
  },
  {
   "cell_type": "markdown",
   "metadata": {
    "papermill": {
     "duration": 0.471758,
     "end_time": "2021-07-13T06:14:08.157029",
     "exception": false,
     "start_time": "2021-07-13T06:14:07.685271",
     "status": "completed"
    },
    "tags": []
   },
   "source": [
    "***Pie Charts***"
   ]
  },
  {
   "cell_type": "code",
   "execution_count": null,
   "metadata": {
    "execution": {
     "iopub.execute_input": "2021-07-13T06:14:08.982818Z",
     "iopub.status.busy": "2021-07-13T06:14:08.981848Z",
     "iopub.status.idle": "2021-07-13T06:14:09.001350Z",
     "shell.execute_reply": "2021-07-13T06:14:09.002587Z",
     "shell.execute_reply.started": "2021-07-13T06:04:53.354708Z"
    },
    "papermill": {
     "duration": 0.436389,
     "end_time": "2021-07-13T06:14:09.003131",
     "exception": false,
     "start_time": "2021-07-13T06:14:08.566742",
     "status": "completed"
    },
    "tags": []
   },
   "outputs": [],
   "source": [
    "labels = ['No Diabetes','Diabetes']\n",
    "diabetes_yes = heart_data[heart_data['diabetes']==1]\n",
    "diabetes_no = heart_data[heart_data['diabetes']==0]\n",
    "values = [len(diabetes_no), len(diabetes_yes)]\n",
    "fig = go.Figure(data=[go.Pie(labels=labels, values=values, hole=.4)])\n",
    "fig.update_layout(\n",
    "    title_text=\"Analysis on Diabetes\")\n",
    "fig.show()"
   ]
  },
  {
   "cell_type": "markdown",
   "metadata": {
    "papermill": {
     "duration": 0.248294,
     "end_time": "2021-07-13T06:14:09.593699",
     "exception": false,
     "start_time": "2021-07-13T06:14:09.345405",
     "status": "completed"
    },
    "tags": []
   },
   "source": [
    "From the above pie chart we can conclude that in our dataset 58.2% (174) pepole are No Diabetes Person and 41.8% (125) are Diabetes Person."
   ]
  },
  {
   "cell_type": "code",
   "execution_count": null,
   "metadata": {
    "execution": {
     "iopub.execute_input": "2021-07-13T06:14:10.103461Z",
     "iopub.status.busy": "2021-07-13T06:14:10.102907Z",
     "iopub.status.idle": "2021-07-13T06:14:10.157652Z",
     "shell.execute_reply": "2021-07-13T06:14:10.158121Z",
     "shell.execute_reply.started": "2021-07-13T06:04:53.373616Z"
    },
    "papermill": {
     "duration": 0.314262,
     "end_time": "2021-07-13T06:14:10.158257",
     "exception": false,
     "start_time": "2021-07-13T06:14:09.843995",
     "status": "completed"
    },
    "tags": []
   },
   "outputs": [],
   "source": [
    "fig = px.pie(heart_data, values='diabetes',names='DEATH_EVENT', title='Diabetes Death Event Ratio')\n",
    "fig.show()"
   ]
  },
  {
   "cell_type": "code",
   "execution_count": null,
   "metadata": {
    "execution": {
     "iopub.execute_input": "2021-07-13T06:14:10.725995Z",
     "iopub.status.busy": "2021-07-13T06:14:10.725321Z",
     "iopub.status.idle": "2021-07-13T06:14:10.746194Z",
     "shell.execute_reply": "2021-07-13T06:14:10.746672Z",
     "shell.execute_reply.started": "2021-07-13T06:04:53.426729Z"
    },
    "papermill": {
     "duration": 0.324986,
     "end_time": "2021-07-13T06:14:10.746793",
     "exception": false,
     "start_time": "2021-07-13T06:14:10.421807",
     "status": "completed"
    },
    "tags": []
   },
   "outputs": [],
   "source": [
    "diabetes_yes_survi = diabetes_yes[heart_data[\"DEATH_EVENT\"]==0]\n",
    "diabetes_yes_not_survi = diabetes_yes[heart_data[\"DEATH_EVENT\"]==1]\n",
    "diabetes_no_survi = diabetes_no[heart_data[\"DEATH_EVENT\"]==0]\n",
    "diabetes__no_not_survi = diabetes_no[heart_data[\"DEATH_EVENT\"]==1]\n",
    "\n",
    "labels = ['Diabetes Yes - Survived','Diabetes Yes - Not Survived', 'Diabetes NO - Survived', 'Diabetes NO - Not Survived']\n",
    "values = [len(diabetes_yes[heart_data[\"DEATH_EVENT\"]==0]),len(diabetes_yes[heart_data[\"DEATH_EVENT\"]==1]),\n",
    "         len(diabetes_no[heart_data[\"DEATH_EVENT\"]==0]),len(diabetes_no[heart_data[\"DEATH_EVENT\"]==1])]\n",
    "fig = go.Figure(data=[go.Pie(labels=labels, values=values, hole=.4)])\n",
    "fig.update_layout(\n",
    "    title_text=\"Analysis on Survival - Diabetes\")\n",
    "fig.show()"
   ]
  },
  {
   "cell_type": "markdown",
   "metadata": {
    "papermill": {
     "duration": 0.267309,
     "end_time": "2021-07-13T06:14:11.273596",
     "exception": false,
     "start_time": "2021-07-13T06:14:11.006287",
     "status": "completed"
    },
    "tags": []
   },
   "source": [
    "* From above pie charts we can conclude that in our dataset diabetes from 174 of Non Diabetes person 118 are survived and 56 are not survived and\n",
    "* From 125 Diabetes person 85 are survived, while 40 are not survived."
   ]
  },
  {
   "cell_type": "code",
   "execution_count": null,
   "metadata": {
    "execution": {
     "iopub.execute_input": "2021-07-13T06:14:11.802918Z",
     "iopub.status.busy": "2021-07-13T06:14:11.802217Z",
     "iopub.status.idle": "2021-07-13T06:14:11.819524Z",
     "shell.execute_reply": "2021-07-13T06:14:11.819920Z",
     "shell.execute_reply.started": "2021-07-13T06:04:53.454104Z"
    },
    "papermill": {
     "duration": 0.283779,
     "end_time": "2021-07-13T06:14:11.820047",
     "exception": false,
     "start_time": "2021-07-13T06:14:11.536268",
     "status": "completed"
    },
    "tags": []
   },
   "outputs": [],
   "source": [
    "anaemia_yes = heart_data[heart_data['anaemia']==1]\n",
    "anaemia_no = heart_data[heart_data['anaemia']==0]\n",
    "\n",
    "labels = ['No Anaemia', 'Anaemia']\n",
    "values = [len(anaemia_no), len(anaemia_yes)]\n",
    "fig = go.Figure(data=[go.Pie(labels=labels, values=values, hole=.4)])\n",
    "fig.update_layout(\n",
    "    title_text=\"Analysis on - Anaemia\")\n",
    "fig.show()"
   ]
  },
  {
   "cell_type": "markdown",
   "metadata": {
    "papermill": {
     "duration": 0.265897,
     "end_time": "2021-07-13T06:14:12.354422",
     "exception": false,
     "start_time": "2021-07-13T06:14:12.088525",
     "status": "completed"
    },
    "tags": []
   },
   "source": [
    "From the above pie chart we can conclude that in our dataset 56.9%(170) pepoles are Non anaemic pepoles, while 43.1%(129) are anaemic pepoles."
   ]
  },
  {
   "cell_type": "code",
   "execution_count": null,
   "metadata": {
    "execution": {
     "iopub.execute_input": "2021-07-13T06:14:12.977285Z",
     "iopub.status.busy": "2021-07-13T06:14:12.966770Z",
     "iopub.status.idle": "2021-07-13T06:14:12.996641Z",
     "shell.execute_reply": "2021-07-13T06:14:12.996029Z",
     "shell.execute_reply.started": "2021-07-13T06:04:53.476058Z"
    },
    "papermill": {
     "duration": 0.330108,
     "end_time": "2021-07-13T06:14:12.996735",
     "exception": false,
     "start_time": "2021-07-13T06:14:12.666627",
     "status": "completed"
    },
    "tags": []
   },
   "outputs": [],
   "source": [
    "fig = px.pie(heart_data, values='anaemia',names='DEATH_EVENT', title='Anaemia Death Event Ration')\n",
    "fig.show()"
   ]
  },
  {
   "cell_type": "code",
   "execution_count": null,
   "metadata": {
    "execution": {
     "iopub.execute_input": "2021-07-13T06:14:13.571409Z",
     "iopub.status.busy": "2021-07-13T06:14:13.554481Z",
     "iopub.status.idle": "2021-07-13T06:14:13.578725Z",
     "shell.execute_reply": "2021-07-13T06:14:13.578278Z",
     "shell.execute_reply.started": "2021-07-13T06:04:53.520135Z"
    },
    "papermill": {
     "duration": 0.301719,
     "end_time": "2021-07-13T06:14:13.578827",
     "exception": false,
     "start_time": "2021-07-13T06:14:13.277108",
     "status": "completed"
    },
    "tags": []
   },
   "outputs": [],
   "source": [
    "anaemia_yes_survi = anaemia_yes[heart_data[\"DEATH_EVENT\"]==0]\n",
    "anaemia_yes_not_survi = anaemia_yes[heart_data[\"DEATH_EVENT\"]==1]\n",
    "anaemia_no_survi = anaemia_no[heart_data[\"DEATH_EVENT\"]==0]\n",
    "anaemia_no_not_survi = anaemia_no[heart_data[\"DEATH_EVENT\"]==1]\n",
    "\n",
    "labels = ['Anaemia Yes - Survived','Anaemia Yes - Not Survived', 'Anaemia No - Survived', 'Anaemia NO - Not Survived']\n",
    "values = [len(anaemia_yes[heart_data[\"DEATH_EVENT\"]==0]),len(anaemia_yes[heart_data[\"DEATH_EVENT\"]==1]),\n",
    "         len(anaemia_no[heart_data[\"DEATH_EVENT\"]==0]),len(anaemia_no[heart_data[\"DEATH_EVENT\"]==1])]\n",
    "fig = go.Figure(data=[go.Pie(labels=labels, values=values, hole=.4)])\n",
    "fig.update_layout(\n",
    "    title_text=\"Analysis on Survival - Anaemia\")\n",
    "fig.show()"
   ]
  },
  {
   "cell_type": "markdown",
   "metadata": {
    "papermill": {
     "duration": 0.27847,
     "end_time": "2021-07-13T06:14:14.134331",
     "exception": false,
     "start_time": "2021-07-13T06:14:13.855861",
     "status": "completed"
    },
    "tags": []
   },
   "source": [
    "* From above pie charts we can conclude that in our dataset diabetes from 170 of Non Anaemic person 120 are survived and 50 are not survived and\n",
    "* From 129 Anaemic person 83 are survived, while 46 are not survived."
   ]
  },
  {
   "cell_type": "code",
   "execution_count": null,
   "metadata": {
    "execution": {
     "iopub.execute_input": "2021-07-13T06:14:14.748414Z",
     "iopub.status.busy": "2021-07-13T06:14:14.747855Z",
     "iopub.status.idle": "2021-07-13T06:14:14.758354Z",
     "shell.execute_reply": "2021-07-13T06:14:14.757703Z",
     "shell.execute_reply.started": "2021-07-13T06:04:53.546086Z"
    },
    "papermill": {
     "duration": 0.347431,
     "end_time": "2021-07-13T06:14:14.758456",
     "exception": false,
     "start_time": "2021-07-13T06:14:14.411025",
     "status": "completed"
    },
    "tags": []
   },
   "outputs": [],
   "source": [
    "hbp_yes = heart_data[heart_data['high_blood_pressure']==1]\n",
    "hbp_no = heart_data[heart_data['high_blood_pressure']==0]\n",
    "\n",
    "labels = [\"No High BP\",\"High BP\"]\n",
    "values = [len(hbp_no), len(hbp_yes)]\n",
    "\n",
    "fig = go.Figure(data=[go.Pie(labels=labels, values=values, hole=.4)])\n",
    "fig.update_layout(\n",
    "    title_text=\"Analysis on - High Blood Pressure\")\n",
    "fig.show()"
   ]
  },
  {
   "cell_type": "markdown",
   "metadata": {
    "papermill": {
     "duration": 0.290894,
     "end_time": "2021-07-13T06:14:15.335473",
     "exception": false,
     "start_time": "2021-07-13T06:14:15.044579",
     "status": "completed"
    },
    "tags": []
   },
   "source": [
    "From the above pie chart we can conclude that in our dataset 64.9%(194) pepoles are Non High BP pepoles, while 35.1%(105) are High BP pepoles."
   ]
  },
  {
   "cell_type": "code",
   "execution_count": null,
   "metadata": {
    "execution": {
     "iopub.execute_input": "2021-07-13T06:14:15.941515Z",
     "iopub.status.busy": "2021-07-13T06:14:15.930898Z",
     "iopub.status.idle": "2021-07-13T06:14:15.980467Z",
     "shell.execute_reply": "2021-07-13T06:14:15.979788Z",
     "shell.execute_reply.started": "2021-07-13T06:04:53.568229Z"
    },
    "papermill": {
     "duration": 0.360922,
     "end_time": "2021-07-13T06:14:15.980595",
     "exception": false,
     "start_time": "2021-07-13T06:14:15.619673",
     "status": "completed"
    },
    "tags": []
   },
   "outputs": [],
   "source": [
    "fig = px.pie(heart_data, values='high_blood_pressure',names='DEATH_EVENT', title='High Blood Pressure Death Event Ratio')\n",
    "fig.show()"
   ]
  },
  {
   "cell_type": "code",
   "execution_count": null,
   "metadata": {
    "execution": {
     "iopub.execute_input": "2021-07-13T06:14:16.958804Z",
     "iopub.status.busy": "2021-07-13T06:14:16.952130Z",
     "iopub.status.idle": "2021-07-13T06:14:16.968402Z",
     "shell.execute_reply": "2021-07-13T06:14:16.967858Z",
     "shell.execute_reply.started": "2021-07-13T06:04:53.611870Z"
    },
    "papermill": {
     "duration": 0.499287,
     "end_time": "2021-07-13T06:14:16.968508",
     "exception": false,
     "start_time": "2021-07-13T06:14:16.469221",
     "status": "completed"
    },
    "tags": []
   },
   "outputs": [],
   "source": [
    "hbp_yes_survi = hbp_yes[heart_data[\"DEATH_EVENT\"]==0]\n",
    "hbp_yes_not_survi = hbp_yes[heart_data[\"DEATH_EVENT\"]==1]\n",
    "hbp_no_survi = hbp_no[heart_data[\"DEATH_EVENT\"]==0]\n",
    "hbp_no_not_survi = hbp_no[heart_data[\"DEATH_EVENT\"]==1]\n",
    "\n",
    "labels = ['HBP Yes - Survived','HBP Yes - Not Survived', 'HBP No - Survived', 'HBP NO - Not Survived']\n",
    "values = [len(hbp_yes[heart_data[\"DEATH_EVENT\"]==0]),len(hbp_yes[heart_data[\"DEATH_EVENT\"]==1]),\n",
    "         len(hbp_no[heart_data[\"DEATH_EVENT\"]==0]),len(hbp_no[heart_data[\"DEATH_EVENT\"]==1])]\n",
    "fig = go.Figure(data=[go.Pie(labels=labels, values=values, hole=.4)])\n",
    "fig.update_layout(\n",
    "    title_text=\"Analysis on Survival - HBP(high blood pressure)\")\n",
    "fig.show()"
   ]
  },
  {
   "cell_type": "markdown",
   "metadata": {
    "papermill": {
     "duration": 0.295437,
     "end_time": "2021-07-13T06:14:17.617336",
     "exception": false,
     "start_time": "2021-07-13T06:14:17.321899",
     "status": "completed"
    },
    "tags": []
   },
   "source": [
    "* From above pie charts we can conclude that in our dataset diabetes from 194 of Non High BP person 137 are survived and 57 are not survived and\n",
    "* From 105 High BP person 66 are survived, while 39 are not survived."
   ]
  },
  {
   "cell_type": "code",
   "execution_count": null,
   "metadata": {
    "execution": {
     "iopub.execute_input": "2021-07-13T06:14:18.202484Z",
     "iopub.status.busy": "2021-07-13T06:14:18.201938Z",
     "iopub.status.idle": "2021-07-13T06:14:18.216681Z",
     "shell.execute_reply": "2021-07-13T06:14:18.217096Z",
     "shell.execute_reply.started": "2021-07-13T06:04:53.638737Z"
    },
    "papermill": {
     "duration": 0.307951,
     "end_time": "2021-07-13T06:14:18.217211",
     "exception": false,
     "start_time": "2021-07-13T06:14:17.909260",
     "status": "completed"
    },
    "tags": []
   },
   "outputs": [],
   "source": [
    "smoking_yes = heart_data[heart_data['smoking']==1]\n",
    "smoking_no = heart_data[heart_data['smoking']==0]\n",
    "\n",
    "labels = ['No Smoking','Smoking']\n",
    "values = [len(smoking_no), len(smoking_yes)]\n",
    "\n",
    "fig = go.Figure(data=[go.Pie(labels=labels, values=values, hole=.4)])\n",
    "fig.update_layout(\n",
    "    title_text=\"Analysis on - Smoking\")\n",
    "fig.show()"
   ]
  },
  {
   "cell_type": "markdown",
   "metadata": {
    "papermill": {
     "duration": 0.48842,
     "end_time": "2021-07-13T06:14:19.158142",
     "exception": false,
     "start_time": "2021-07-13T06:14:18.669722",
     "status": "completed"
    },
    "tags": []
   },
   "source": [
    "From the above pie chart we can conclude that in our dataset 67.9%(203) pepoles are Non Smoking pepoles, while 32.1%(96) are Smoking pepoles."
   ]
  },
  {
   "cell_type": "code",
   "execution_count": null,
   "metadata": {
    "execution": {
     "iopub.execute_input": "2021-07-13T06:14:20.228382Z",
     "iopub.status.busy": "2021-07-13T06:14:20.227452Z",
     "iopub.status.idle": "2021-07-13T06:14:20.268684Z",
     "shell.execute_reply": "2021-07-13T06:14:20.269269Z",
     "shell.execute_reply.started": "2021-07-13T06:04:53.657548Z"
    },
    "papermill": {
     "duration": 0.539537,
     "end_time": "2021-07-13T06:14:20.269436",
     "exception": false,
     "start_time": "2021-07-13T06:14:19.729899",
     "status": "completed"
    },
    "tags": []
   },
   "outputs": [],
   "source": [
    "fig = px.pie(heart_data, values='smoking',names='DEATH_EVENT', title='Smoking Death Event Ratio')\n",
    "fig.show()"
   ]
  },
  {
   "cell_type": "code",
   "execution_count": null,
   "metadata": {
    "execution": {
     "iopub.execute_input": "2021-07-13T06:14:21.312086Z",
     "iopub.status.busy": "2021-07-13T06:14:21.311378Z",
     "iopub.status.idle": "2021-07-13T06:14:21.319470Z",
     "shell.execute_reply": "2021-07-13T06:14:21.320040Z",
     "shell.execute_reply.started": "2021-07-13T06:04:53.700947Z"
    },
    "papermill": {
     "duration": 0.542162,
     "end_time": "2021-07-13T06:14:21.320216",
     "exception": false,
     "start_time": "2021-07-13T06:14:20.778054",
     "status": "completed"
    },
    "tags": []
   },
   "outputs": [],
   "source": [
    "smoking_yes_survi = smoking_yes[heart_data[\"DEATH_EVENT\"]==0]\n",
    "smoking_yes_not_survi = smoking_yes[heart_data[\"DEATH_EVENT\"]==1]\n",
    "smoking_no_survi = smoking_no[heart_data[\"DEATH_EVENT\"]==0]\n",
    "smoking_no_not_survi = smoking_no[heart_data[\"DEATH_EVENT\"]==1]\n",
    "\n",
    "labels = ['Smoking Yes - Survived','Smoking Yes - Not Survived', 'Smoking No - Survived', 'Smoking NO- Not Survived']\n",
    "values = [len(smoking_yes[heart_data[\"DEATH_EVENT\"]==0]),len(smoking_yes[heart_data[\"DEATH_EVENT\"]==1]),\n",
    "         len(smoking_no[heart_data[\"DEATH_EVENT\"]==0]),len(smoking_no[heart_data[\"DEATH_EVENT\"]==1])]\n",
    "fig = go.Figure(data=[go.Pie(labels=labels, values=values, hole=.4)])\n",
    "fig.update_layout(\n",
    "    title_text=\"Analysis on Survival - Smoking\")\n",
    "fig.show()"
   ]
  },
  {
   "cell_type": "markdown",
   "metadata": {
    "papermill": {
     "duration": 0.387607,
     "end_time": "2021-07-13T06:14:22.172913",
     "exception": false,
     "start_time": "2021-07-13T06:14:21.785306",
     "status": "completed"
    },
    "tags": []
   },
   "source": [
    "* From above pie charts we can conclude that in our dataset diabetes from 203 of Non Smoking person 137 are survived and 66 are not survived and\n",
    "* From 96 Smoking person 66 are survived, while 30 are not survived."
   ]
  },
  {
   "cell_type": "markdown",
   "metadata": {
    "papermill": {
     "duration": 0.31361,
     "end_time": "2021-07-13T06:14:22.806577",
     "exception": false,
     "start_time": "2021-07-13T06:14:22.492967",
     "status": "completed"
    },
    "tags": []
   },
   "source": [
    "**Heatmap**"
   ]
  },
  {
   "cell_type": "code",
   "execution_count": null,
   "metadata": {
    "execution": {
     "iopub.execute_input": "2021-07-13T06:14:23.437999Z",
     "iopub.status.busy": "2021-07-13T06:14:23.437441Z",
     "iopub.status.idle": "2021-07-13T06:14:24.123847Z",
     "shell.execute_reply": "2021-07-13T06:14:24.124324Z",
     "shell.execute_reply.started": "2021-07-13T06:04:53.725320Z"
    },
    "papermill": {
     "duration": 1.004287,
     "end_time": "2021-07-13T06:14:24.124444",
     "exception": false,
     "start_time": "2021-07-13T06:14:23.120157",
     "status": "completed"
    },
    "tags": []
   },
   "outputs": [],
   "source": [
    "plt.figure(figsize=(10,10))\n",
    "sns.heatmap(heart_data.corr(), vmin=-1, cmap='coolwarm', annot=True);"
   ]
  },
  {
   "cell_type": "markdown",
   "metadata": {
    "papermill": {
     "duration": 0.3474,
     "end_time": "2021-07-13T06:14:24.777776",
     "exception": false,
     "start_time": "2021-07-13T06:14:24.430376",
     "status": "completed"
    },
    "tags": []
   },
   "source": [
    "# **Data Modeling**"
   ]
  },
  {
   "cell_type": "markdown",
   "metadata": {
    "papermill": {
     "duration": 0.316273,
     "end_time": "2021-07-13T06:14:25.411676",
     "exception": false,
     "start_time": "2021-07-13T06:14:25.095403",
     "status": "completed"
    },
    "tags": []
   },
   "source": [
    "**Train Test Split**"
   ]
  },
  {
   "cell_type": "code",
   "execution_count": null,
   "metadata": {
    "execution": {
     "iopub.execute_input": "2021-07-13T06:14:26.041169Z",
     "iopub.status.busy": "2021-07-13T06:14:26.040640Z",
     "iopub.status.idle": "2021-07-13T06:14:26.051576Z",
     "shell.execute_reply": "2021-07-13T06:14:26.051037Z",
     "shell.execute_reply.started": "2021-07-13T06:04:54.525132Z"
    },
    "papermill": {
     "duration": 0.32422,
     "end_time": "2021-07-13T06:14:26.051672",
     "exception": false,
     "start_time": "2021-07-13T06:14:25.727452",
     "status": "completed"
    },
    "tags": []
   },
   "outputs": [],
   "source": [
    "Features = ['time','ejection_fraction','serum_creatinine']\n",
    "x = heart_data[Features]\n",
    "y = heart_data[\"DEATH_EVENT\"]\n",
    "x_train,x_test,y_train,y_test = train_test_split(x,y, test_size=0.2, random_state=2)"
   ]
  },
  {
   "cell_type": "code",
   "execution_count": null,
   "metadata": {
    "execution": {
     "iopub.execute_input": "2021-07-13T06:14:26.731877Z",
     "iopub.status.busy": "2021-07-13T06:14:26.731330Z",
     "iopub.status.idle": "2021-07-13T06:14:26.734715Z",
     "shell.execute_reply": "2021-07-13T06:14:26.734154Z",
     "shell.execute_reply.started": "2021-07-13T06:04:54.534188Z"
    },
    "papermill": {
     "duration": 0.367202,
     "end_time": "2021-07-13T06:14:26.734829",
     "exception": false,
     "start_time": "2021-07-13T06:14:26.367627",
     "status": "completed"
    },
    "tags": []
   },
   "outputs": [],
   "source": [
    "accuracy_list = []"
   ]
  },
  {
   "cell_type": "markdown",
   "metadata": {
    "papermill": {
     "duration": 0.305686,
     "end_time": "2021-07-13T06:14:27.347045",
     "exception": false,
     "start_time": "2021-07-13T06:14:27.041359",
     "status": "completed"
    },
    "tags": []
   },
   "source": [
    "**Logistic Regression**"
   ]
  },
  {
   "cell_type": "code",
   "execution_count": null,
   "metadata": {
    "execution": {
     "iopub.execute_input": "2021-07-13T06:14:27.959870Z",
     "iopub.status.busy": "2021-07-13T06:14:27.959376Z",
     "iopub.status.idle": "2021-07-13T06:14:27.980568Z",
     "shell.execute_reply": "2021-07-13T06:14:27.980134Z",
     "shell.execute_reply.started": "2021-07-13T06:04:54.545866Z"
    },
    "papermill": {
     "duration": 0.329088,
     "end_time": "2021-07-13T06:14:27.980658",
     "exception": false,
     "start_time": "2021-07-13T06:14:27.651570",
     "status": "completed"
    },
    "tags": []
   },
   "outputs": [],
   "source": [
    "# logistic regression\n",
    "\n",
    "log_reg = LogisticRegression()\n",
    "log_reg.fit(x_train, y_train)\n",
    "log_reg_pred = log_reg.predict(x_test)\n",
    "log_reg_acc = accuracy_score(y_test, log_reg_pred)\n",
    "accuracy_list.append(100*log_reg_acc)"
   ]
  },
  {
   "cell_type": "code",
   "execution_count": null,
   "metadata": {
    "execution": {
     "iopub.execute_input": "2021-07-13T06:14:28.659541Z",
     "iopub.status.busy": "2021-07-13T06:14:28.659001Z",
     "iopub.status.idle": "2021-07-13T06:14:28.661926Z",
     "shell.execute_reply": "2021-07-13T06:14:28.662439Z",
     "shell.execute_reply.started": "2021-07-13T06:04:54.571879Z"
    },
    "papermill": {
     "duration": 0.313817,
     "end_time": "2021-07-13T06:14:28.662559",
     "exception": false,
     "start_time": "2021-07-13T06:14:28.348742",
     "status": "completed"
    },
    "tags": []
   },
   "outputs": [],
   "source": [
    "print(Fore.GREEN + \"Accuracy of Logistic Regression is : \", \"{:.2f}%\".format(100* log_reg_acc))"
   ]
  },
  {
   "cell_type": "code",
   "execution_count": null,
   "metadata": {
    "execution": {
     "iopub.execute_input": "2021-07-13T06:14:29.289200Z",
     "iopub.status.busy": "2021-07-13T06:14:29.288595Z",
     "iopub.status.idle": "2021-07-13T06:14:29.400579Z",
     "shell.execute_reply": "2021-07-13T06:14:29.400101Z",
     "shell.execute_reply.started": "2021-07-13T06:04:54.577772Z"
    },
    "papermill": {
     "duration": 0.429411,
     "end_time": "2021-07-13T06:14:29.400668",
     "exception": false,
     "start_time": "2021-07-13T06:14:28.971257",
     "status": "completed"
    },
    "tags": []
   },
   "outputs": [],
   "source": [
    "cm = confusion_matrix(y_test, log_reg_pred)\n",
    "plt.figure()\n",
    "plot_confusion_matrix(cm, figsize=(12,8), hide_ticks=True, cmap=plt.cm.Blues)\n",
    "plt.title(\"Logistic Regression Model - Confusion Matrix\")\n",
    "plt.xticks(range(2), [\"Heart Not Failed\",\"Heart Fail\"], fontsize=16)\n",
    "plt.yticks(range(2), [\"Heart Not Failed\",\"Heart Fail\"], fontsize=16)\n",
    "plt.show()"
   ]
  },
  {
   "cell_type": "markdown",
   "metadata": {
    "papermill": {
     "duration": 0.308137,
     "end_time": "2021-07-13T06:14:30.014662",
     "exception": false,
     "start_time": "2021-07-13T06:14:29.706525",
     "status": "completed"
    },
    "tags": []
   },
   "source": [
    "**Support Vector**"
   ]
  },
  {
   "cell_type": "code",
   "execution_count": null,
   "metadata": {
    "execution": {
     "iopub.execute_input": "2021-07-13T06:14:30.689148Z",
     "iopub.status.busy": "2021-07-13T06:14:30.688597Z",
     "iopub.status.idle": "2021-07-13T06:14:30.700508Z",
     "shell.execute_reply": "2021-07-13T06:14:30.700005Z",
     "shell.execute_reply.started": "2021-07-13T06:04:54.701505Z"
    },
    "papermill": {
     "duration": 0.334953,
     "end_time": "2021-07-13T06:14:30.700602",
     "exception": false,
     "start_time": "2021-07-13T06:14:30.365649",
     "status": "completed"
    },
    "tags": []
   },
   "outputs": [],
   "source": [
    "# svc\n",
    "\n",
    "sv_clf = SVC()\n",
    "sv_clf.fit(x_train, y_train)\n",
    "sv_clf_pred = sv_clf.predict(x_test)\n",
    "sv_clf_acc = accuracy_score(y_test, sv_clf_pred)\n",
    "accuracy_list.append(100* sv_clf_acc)"
   ]
  },
  {
   "cell_type": "code",
   "execution_count": null,
   "metadata": {
    "execution": {
     "iopub.execute_input": "2021-07-13T06:14:31.343822Z",
     "iopub.status.busy": "2021-07-13T06:14:31.343271Z",
     "iopub.status.idle": "2021-07-13T06:14:31.351267Z",
     "shell.execute_reply": "2021-07-13T06:14:31.351709Z",
     "shell.execute_reply.started": "2021-07-13T06:04:54.715687Z"
    },
    "papermill": {
     "duration": 0.337983,
     "end_time": "2021-07-13T06:14:31.351853",
     "exception": false,
     "start_time": "2021-07-13T06:14:31.013870",
     "status": "completed"
    },
    "tags": []
   },
   "outputs": [],
   "source": [
    "print(Fore.GREEN + \"Accuracy of SVC is : \", \"{:.2f}%\".format(100* sv_clf_acc))"
   ]
  },
  {
   "cell_type": "code",
   "execution_count": null,
   "metadata": {
    "execution": {
     "iopub.execute_input": "2021-07-13T06:14:32.030487Z",
     "iopub.status.busy": "2021-07-13T06:14:32.029921Z",
     "iopub.status.idle": "2021-07-13T06:14:32.153498Z",
     "shell.execute_reply": "2021-07-13T06:14:32.152927Z",
     "shell.execute_reply.started": "2021-07-13T06:04:54.722193Z"
    },
    "papermill": {
     "duration": 0.486298,
     "end_time": "2021-07-13T06:14:32.153596",
     "exception": false,
     "start_time": "2021-07-13T06:14:31.667298",
     "status": "completed"
    },
    "tags": []
   },
   "outputs": [],
   "source": [
    "cm = confusion_matrix(y_test, sv_clf_pred)\n",
    "plt.figure()\n",
    "plot_confusion_matrix(cm, figsize=(12,8), hide_ticks=True, cmap=plt.cm.Blues)\n",
    "plt.title(\"SVC Model - Confusion Matrix\")\n",
    "plt.xticks(range(2), [\"Heart Not Failed\",\"Heart Fail\"], fontsize=16)\n",
    "plt.yticks(range(2), [\"Heart Not Failed\",\"Heart Fail\"], fontsize=16)\n",
    "plt.show()"
   ]
  },
  {
   "cell_type": "markdown",
   "metadata": {
    "papermill": {
     "duration": 0.30524,
     "end_time": "2021-07-13T06:14:32.768351",
     "exception": false,
     "start_time": "2021-07-13T06:14:32.463111",
     "status": "completed"
    },
    "tags": []
   },
   "source": [
    "**K Neighbors Classifier**"
   ]
  },
  {
   "cell_type": "code",
   "execution_count": null,
   "metadata": {
    "execution": {
     "iopub.execute_input": "2021-07-13T06:14:33.407591Z",
     "iopub.status.busy": "2021-07-13T06:14:33.406818Z",
     "iopub.status.idle": "2021-07-13T06:14:33.415281Z",
     "shell.execute_reply": "2021-07-13T06:14:33.414732Z",
     "shell.execute_reply.started": "2021-07-13T06:04:54.840343Z"
    },
    "papermill": {
     "duration": 0.335841,
     "end_time": "2021-07-13T06:14:33.415388",
     "exception": false,
     "start_time": "2021-07-13T06:14:33.079547",
     "status": "completed"
    },
    "tags": []
   },
   "outputs": [],
   "source": [
    "# K Neighbors Classifier\n",
    "\n",
    "kn_clf = KNeighborsClassifier(n_neighbors=6)\n",
    "kn_clf.fit(x_train, y_train)\n",
    "kn_pred = kn_clf.predict(x_test)\n",
    "kn_acc = accuracy_score(y_test, kn_pred)\n",
    "accuracy_list.append(100*kn_acc)"
   ]
  },
  {
   "cell_type": "code",
   "execution_count": null,
   "metadata": {
    "execution": {
     "iopub.execute_input": "2021-07-13T06:14:34.096688Z",
     "iopub.status.busy": "2021-07-13T06:14:34.096200Z",
     "iopub.status.idle": "2021-07-13T06:14:34.099728Z",
     "shell.execute_reply": "2021-07-13T06:14:34.100148Z",
     "shell.execute_reply.started": "2021-07-13T06:04:54.857526Z"
    },
    "papermill": {
     "duration": 0.365224,
     "end_time": "2021-07-13T06:14:34.100277",
     "exception": false,
     "start_time": "2021-07-13T06:14:33.735053",
     "status": "completed"
    },
    "tags": []
   },
   "outputs": [],
   "source": [
    "print(Fore.GREEN + \"Accuracy of K Neighbors Classifier is : \", \"{:.2f}%\".format(100* kn_acc))"
   ]
  },
  {
   "cell_type": "code",
   "execution_count": null,
   "metadata": {
    "execution": {
     "iopub.execute_input": "2021-07-13T06:14:34.731532Z",
     "iopub.status.busy": "2021-07-13T06:14:34.729484Z",
     "iopub.status.idle": "2021-07-13T06:14:34.833879Z",
     "shell.execute_reply": "2021-07-13T06:14:34.833367Z",
     "shell.execute_reply.started": "2021-07-13T06:04:54.864973Z"
    },
    "papermill": {
     "duration": 0.424217,
     "end_time": "2021-07-13T06:14:34.833972",
     "exception": false,
     "start_time": "2021-07-13T06:14:34.409755",
     "status": "completed"
    },
    "tags": []
   },
   "outputs": [],
   "source": [
    "cm = confusion_matrix(y_test, kn_pred)\n",
    "plt.figure()\n",
    "plot_confusion_matrix(cm, figsize=(12,8), hide_ticks=True, cmap=plt.cm.Blues)\n",
    "plt.title(\"K Neighbors Model - Confusion Matrix\")\n",
    "plt.xticks(range(2), [\"Heart Not Failed\",\"Heart Fail\"], fontsize=16)\n",
    "plt.yticks(range(2), [\"Heart Not Failed\",\"Heart Fail\"], fontsize=16)\n",
    "plt.show()"
   ]
  },
  {
   "cell_type": "markdown",
   "metadata": {
    "papermill": {
     "duration": 0.310349,
     "end_time": "2021-07-13T06:14:35.462718",
     "exception": false,
     "start_time": "2021-07-13T06:14:35.152369",
     "status": "completed"
    },
    "tags": []
   },
   "source": [
    "**Decision Tree Classifier**"
   ]
  },
  {
   "cell_type": "code",
   "execution_count": null,
   "metadata": {
    "execution": {
     "iopub.execute_input": "2021-07-13T06:14:36.154284Z",
     "iopub.status.busy": "2021-07-13T06:14:36.151134Z",
     "iopub.status.idle": "2021-07-13T06:14:36.157856Z",
     "shell.execute_reply": "2021-07-13T06:14:36.157310Z",
     "shell.execute_reply.started": "2021-07-13T06:04:54.988764Z"
    },
    "papermill": {
     "duration": 0.339285,
     "end_time": "2021-07-13T06:14:36.157963",
     "exception": false,
     "start_time": "2021-07-13T06:14:35.818678",
     "status": "completed"
    },
    "tags": []
   },
   "outputs": [],
   "source": [
    "# Decision Tree Classifier\n",
    "\n",
    "dt_clf = DecisionTreeClassifier(max_leaf_nodes=3, random_state=0, criterion='entropy')\n",
    "dt_clf.fit(x_train, y_train)\n",
    "dt_pred = dt_clf.predict(x_test)\n",
    "dt_acc = accuracy_score(y_test, dt_pred)\n",
    "accuracy_list.append(100*dt_acc)"
   ]
  },
  {
   "cell_type": "code",
   "execution_count": null,
   "metadata": {
    "execution": {
     "iopub.execute_input": "2021-07-13T06:14:36.806236Z",
     "iopub.status.busy": "2021-07-13T06:14:36.805362Z",
     "iopub.status.idle": "2021-07-13T06:14:36.809676Z",
     "shell.execute_reply": "2021-07-13T06:14:36.810328Z",
     "shell.execute_reply.started": "2021-07-13T06:04:55.003363Z"
    },
    "papermill": {
     "duration": 0.329964,
     "end_time": "2021-07-13T06:14:36.810528",
     "exception": false,
     "start_time": "2021-07-13T06:14:36.480564",
     "status": "completed"
    },
    "tags": []
   },
   "outputs": [],
   "source": [
    "print(Fore.GREEN + \"Accuracy of Decision Tree Classifier is : \", \"{:.2f}%\".format(100* dt_acc))"
   ]
  },
  {
   "cell_type": "code",
   "execution_count": null,
   "metadata": {
    "execution": {
     "iopub.execute_input": "2021-07-13T06:14:37.845242Z",
     "iopub.status.busy": "2021-07-13T06:14:37.844434Z",
     "iopub.status.idle": "2021-07-13T06:14:37.953186Z",
     "shell.execute_reply": "2021-07-13T06:14:37.952608Z",
     "shell.execute_reply.started": "2021-07-13T06:04:55.009454Z"
    },
    "papermill": {
     "duration": 0.621756,
     "end_time": "2021-07-13T06:14:37.953299",
     "exception": false,
     "start_time": "2021-07-13T06:14:37.331543",
     "status": "completed"
    },
    "tags": []
   },
   "outputs": [],
   "source": [
    "cm = confusion_matrix(y_test, dt_pred)\n",
    "plt.figure()\n",
    "plot_confusion_matrix(cm, figsize=(12,8), hide_ticks=True, cmap=plt.cm.Blues)\n",
    "plt.title(\"Decision Tree Model - Confusion Matrix\")\n",
    "plt.xticks(range(2), [\"Heart Not Failed\",\"Heart Fail\"], fontsize=16)\n",
    "plt.yticks(range(2), [\"Heart Not Failed\",\"Heart Fail\"], fontsize=16)\n",
    "plt.show()"
   ]
  },
  {
   "cell_type": "markdown",
   "metadata": {
    "papermill": {
     "duration": 0.314465,
     "end_time": "2021-07-13T06:14:38.641677",
     "exception": false,
     "start_time": "2021-07-13T06:14:38.327212",
     "status": "completed"
    },
    "tags": []
   },
   "source": [
    "**Random Forest Classifier**"
   ]
  },
  {
   "cell_type": "code",
   "execution_count": null,
   "metadata": {
    "execution": {
     "iopub.execute_input": "2021-07-13T06:14:39.334721Z",
     "iopub.status.busy": "2021-07-13T06:14:39.308310Z",
     "iopub.status.idle": "2021-07-13T06:14:39.460392Z",
     "shell.execute_reply": "2021-07-13T06:14:39.459655Z",
     "shell.execute_reply.started": "2021-07-13T06:04:55.131220Z"
    },
    "papermill": {
     "duration": 0.500365,
     "end_time": "2021-07-13T06:14:39.460508",
     "exception": false,
     "start_time": "2021-07-13T06:14:38.960143",
     "status": "completed"
    },
    "tags": []
   },
   "outputs": [],
   "source": [
    "# RandomForestClassifier\n",
    "\n",
    "r_clf = RandomForestClassifier(max_features=0.5, max_depth=15, random_state=1)\n",
    "r_clf.fit(x_train, y_train)\n",
    "r_pred = r_clf.predict(x_test)\n",
    "r_acc = accuracy_score(y_test, r_pred)\n",
    "accuracy_list.append(100*r_acc)"
   ]
  },
  {
   "cell_type": "code",
   "execution_count": null,
   "metadata": {
    "execution": {
     "iopub.execute_input": "2021-07-13T06:14:40.593461Z",
     "iopub.status.busy": "2021-07-13T06:14:40.592555Z",
     "iopub.status.idle": "2021-07-13T06:14:40.598884Z",
     "shell.execute_reply": "2021-07-13T06:14:40.597692Z",
     "shell.execute_reply.started": "2021-07-13T06:04:55.290289Z"
    },
    "papermill": {
     "duration": 0.621596,
     "end_time": "2021-07-13T06:14:40.599126",
     "exception": false,
     "start_time": "2021-07-13T06:14:39.977530",
     "status": "completed"
    },
    "tags": []
   },
   "outputs": [],
   "source": [
    "print(Fore.GREEN + \"Accuracy of Random Forest Classifier is : \", \"{:.2f}%\".format(100* r_acc))"
   ]
  },
  {
   "cell_type": "code",
   "execution_count": null,
   "metadata": {
    "execution": {
     "iopub.execute_input": "2021-07-13T06:14:41.639382Z",
     "iopub.status.busy": "2021-07-13T06:14:41.633992Z",
     "iopub.status.idle": "2021-07-13T06:14:41.741762Z",
     "shell.execute_reply": "2021-07-13T06:14:41.741230Z",
     "shell.execute_reply.started": "2021-07-13T06:04:55.296141Z"
    },
    "papermill": {
     "duration": 0.625526,
     "end_time": "2021-07-13T06:14:41.741861",
     "exception": false,
     "start_time": "2021-07-13T06:14:41.116335",
     "status": "completed"
    },
    "tags": []
   },
   "outputs": [],
   "source": [
    "cm = confusion_matrix(y_test, r_pred)\n",
    "plt.figure()\n",
    "plot_confusion_matrix(cm, figsize=(12,8), hide_ticks=True, cmap=plt.cm.Blues)\n",
    "plt.title(\"Random Forest Model - Confusion Matrix\")\n",
    "plt.xticks(range(2), [\"Heart Not Failed\",\"Heart Fail\"], fontsize=16)\n",
    "plt.yticks(range(2), [\"Heart Not Failed\",\"Heart Fail\"], fontsize=16)\n",
    "plt.show()"
   ]
  },
  {
   "cell_type": "markdown",
   "metadata": {
    "papermill": {
     "duration": 0.31609,
     "end_time": "2021-07-13T06:14:42.377175",
     "exception": false,
     "start_time": "2021-07-13T06:14:42.061085",
     "status": "completed"
    },
    "tags": []
   },
   "source": [
    "**Gradient Boosting Classifier**"
   ]
  },
  {
   "cell_type": "code",
   "execution_count": null,
   "metadata": {
    "execution": {
     "iopub.execute_input": "2021-07-13T06:14:43.064345Z",
     "iopub.status.busy": "2021-07-13T06:14:43.063799Z",
     "iopub.status.idle": "2021-07-13T06:14:43.117394Z",
     "shell.execute_reply": "2021-07-13T06:14:43.116939Z",
     "shell.execute_reply.started": "2021-07-13T06:04:55.416144Z"
    },
    "papermill": {
     "duration": 0.424744,
     "end_time": "2021-07-13T06:14:43.117534",
     "exception": false,
     "start_time": "2021-07-13T06:14:42.692790",
     "status": "completed"
    },
    "tags": []
   },
   "outputs": [],
   "source": [
    "# GradientBoostingClassifier\n",
    "\n",
    "gradientboost_clf = GradientBoostingClassifier(max_depth=2, random_state=1)\n",
    "gradientboost_clf.fit(x_train,y_train)\n",
    "gradientboost_pred = gradientboost_clf.predict(x_test)\n",
    "gradientboost_acc = accuracy_score(y_test, gradientboost_pred)\n",
    "accuracy_list.append(100*gradientboost_acc)"
   ]
  },
  {
   "cell_type": "code",
   "execution_count": null,
   "metadata": {
    "execution": {
     "iopub.execute_input": "2021-07-13T06:14:43.759811Z",
     "iopub.status.busy": "2021-07-13T06:14:43.759137Z",
     "iopub.status.idle": "2021-07-13T06:14:43.765397Z",
     "shell.execute_reply": "2021-07-13T06:14:43.764855Z",
     "shell.execute_reply.started": "2021-07-13T06:04:55.479187Z"
    },
    "papermill": {
     "duration": 0.328061,
     "end_time": "2021-07-13T06:14:43.765495",
     "exception": false,
     "start_time": "2021-07-13T06:14:43.437434",
     "status": "completed"
    },
    "tags": []
   },
   "outputs": [],
   "source": [
    "print(Fore.GREEN + \"Accuracy of Gradient Boosting is : \", \"{:.2f}%\".format(100* gradientboost_acc))"
   ]
  },
  {
   "cell_type": "code",
   "execution_count": null,
   "metadata": {
    "execution": {
     "iopub.execute_input": "2021-07-13T06:14:44.623155Z",
     "iopub.status.busy": "2021-07-13T06:14:44.622591Z",
     "iopub.status.idle": "2021-07-13T06:14:44.726201Z",
     "shell.execute_reply": "2021-07-13T06:14:44.725614Z",
     "shell.execute_reply.started": "2021-07-13T06:04:55.486130Z"
    },
    "papermill": {
     "duration": 0.640251,
     "end_time": "2021-07-13T06:14:44.726303",
     "exception": false,
     "start_time": "2021-07-13T06:14:44.086052",
     "status": "completed"
    },
    "tags": []
   },
   "outputs": [],
   "source": [
    "cm = confusion_matrix(y_test, gradientboost_pred)\n",
    "plt.figure()\n",
    "plot_confusion_matrix(cm, figsize=(12,8), hide_ticks=True, cmap=plt.cm.Blues)\n",
    "plt.title(\"Gredient Boosting Model - Confusion Matrix\")\n",
    "plt.xticks(range(2), [\"Heart Not Failed\",\"Heart Fail\"], fontsize=16)\n",
    "plt.yticks(range(2), [\"Heart Not Failed\",\"Heart Fail\"], fontsize=16)\n",
    "plt.show()"
   ]
  },
  {
   "cell_type": "markdown",
   "metadata": {
    "papermill": {
     "duration": 0.31612,
     "end_time": "2021-07-13T06:14:45.403751",
     "exception": false,
     "start_time": "2021-07-13T06:14:45.087631",
     "status": "completed"
    },
    "tags": []
   },
   "source": [
    "**xgbrf classifier**"
   ]
  },
  {
   "cell_type": "code",
   "execution_count": null,
   "metadata": {
    "execution": {
     "iopub.execute_input": "2021-07-13T06:14:46.045764Z",
     "iopub.status.busy": "2021-07-13T06:14:46.043645Z",
     "iopub.status.idle": "2021-07-13T06:14:46.085521Z",
     "shell.execute_reply": "2021-07-13T06:14:46.085960Z",
     "shell.execute_reply.started": "2021-07-13T06:04:55.719896Z"
    },
    "papermill": {
     "duration": 0.362328,
     "end_time": "2021-07-13T06:14:46.086129",
     "exception": false,
     "start_time": "2021-07-13T06:14:45.723801",
     "status": "completed"
    },
    "tags": []
   },
   "outputs": [],
   "source": [
    "# xgbrf classifier\n",
    "\n",
    "xgb_clf = xgboost.XGBRFClassifier(max_depth=3, random_state=1)\n",
    "xgb_clf.fit(x_train,y_train)\n",
    "xgb_pred = xgb_clf.predict(x_test)\n",
    "xgb_acc = accuracy_score(y_test, xgb_pred)\n",
    "accuracy_list.append(100*xgb_acc)"
   ]
  },
  {
   "cell_type": "code",
   "execution_count": null,
   "metadata": {
    "execution": {
     "iopub.execute_input": "2021-07-13T06:14:46.760411Z",
     "iopub.status.busy": "2021-07-13T06:14:46.759704Z",
     "iopub.status.idle": "2021-07-13T06:14:46.762307Z",
     "shell.execute_reply": "2021-07-13T06:14:46.762821Z",
     "shell.execute_reply.started": "2021-07-13T06:04:55.771755Z"
    },
    "papermill": {
     "duration": 0.320023,
     "end_time": "2021-07-13T06:14:46.762971",
     "exception": false,
     "start_time": "2021-07-13T06:14:46.442948",
     "status": "completed"
    },
    "tags": []
   },
   "outputs": [],
   "source": [
    "print(Fore.GREEN + \"Accuracy of XGBRFClassifier is : \", \"{:.2f}%\".format(100* xgb_acc))"
   ]
  },
  {
   "cell_type": "code",
   "execution_count": null,
   "metadata": {
    "execution": {
     "iopub.execute_input": "2021-07-13T06:14:47.442300Z",
     "iopub.status.busy": "2021-07-13T06:14:47.441617Z",
     "iopub.status.idle": "2021-07-13T06:14:47.679052Z",
     "shell.execute_reply": "2021-07-13T06:14:47.678591Z",
     "shell.execute_reply.started": "2021-07-13T06:04:55.780151Z"
    },
    "papermill": {
     "duration": 0.554727,
     "end_time": "2021-07-13T06:14:47.679176",
     "exception": false,
     "start_time": "2021-07-13T06:14:47.124449",
     "status": "completed"
    },
    "tags": []
   },
   "outputs": [],
   "source": [
    "cm = confusion_matrix(y_test, xgb_pred)\n",
    "plt.figure()\n",
    "plot_confusion_matrix(cm, figsize=(12,8), hide_ticks=True, cmap=plt.cm.Blues)\n",
    "plt.title(\"XGBRFClassifier Model - Confusion Matrix\")\n",
    "plt.xticks(range(2), [\"Heart Not Failed\",\"Heart Fail\"], fontsize=16)\n",
    "plt.yticks(range(2), [\"Heart Not Failed\",\"Heart Fail\"], fontsize=16)\n",
    "plt.show()"
   ]
  },
  {
   "cell_type": "markdown",
   "metadata": {
    "papermill": {
     "duration": 0.322113,
     "end_time": "2021-07-13T06:14:48.314669",
     "exception": false,
     "start_time": "2021-07-13T06:14:47.992556",
     "status": "completed"
    },
    "tags": []
   },
   "source": [
    "**LGBMClassifier**"
   ]
  },
  {
   "cell_type": "code",
   "execution_count": null,
   "metadata": {
    "execution": {
     "iopub.execute_input": "2021-07-13T06:14:49.002231Z",
     "iopub.status.busy": "2021-07-13T06:14:49.001022Z",
     "iopub.status.idle": "2021-07-13T06:14:49.092289Z",
     "shell.execute_reply": "2021-07-13T06:14:49.091671Z",
     "shell.execute_reply.started": "2021-07-13T06:04:55.931802Z"
    },
    "papermill": {
     "duration": 0.45504,
     "end_time": "2021-07-13T06:14:49.092401",
     "exception": false,
     "start_time": "2021-07-13T06:14:48.637361",
     "status": "completed"
    },
    "tags": []
   },
   "outputs": [],
   "source": [
    "#  lightgbm \n",
    "\n",
    "lgb_clf = lightgbm.LGBMClassifier(max_depth=2, random_state=4)\n",
    "lgb_clf.fit(x_train,y_train)\n",
    "lgb_pred = lgb_clf.predict(x_test)\n",
    "lgb_acc = accuracy_score(y_test, lgb_pred)\n",
    "accuracy_list.append(100*lgb_acc)"
   ]
  },
  {
   "cell_type": "code",
   "execution_count": null,
   "metadata": {
    "execution": {
     "iopub.execute_input": "2021-07-13T06:14:49.946337Z",
     "iopub.status.busy": "2021-07-13T06:14:49.945659Z",
     "iopub.status.idle": "2021-07-13T06:14:49.948209Z",
     "shell.execute_reply": "2021-07-13T06:14:49.948859Z",
     "shell.execute_reply.started": "2021-07-13T06:04:55.979511Z"
    },
    "papermill": {
     "duration": 0.502092,
     "end_time": "2021-07-13T06:14:49.949028",
     "exception": false,
     "start_time": "2021-07-13T06:14:49.446936",
     "status": "completed"
    },
    "tags": []
   },
   "outputs": [],
   "source": [
    "print(Fore.GREEN + \"Accuracy of LGBMClassifier is : \",\"{:.2f}%\".format(100* lgb_acc))"
   ]
  },
  {
   "cell_type": "code",
   "execution_count": null,
   "metadata": {
    "execution": {
     "iopub.execute_input": "2021-07-13T06:14:51.013819Z",
     "iopub.status.busy": "2021-07-13T06:14:51.013083Z",
     "iopub.status.idle": "2021-07-13T06:14:51.116759Z",
     "shell.execute_reply": "2021-07-13T06:14:51.117164Z",
     "shell.execute_reply.started": "2021-07-13T06:04:55.988200Z"
    },
    "papermill": {
     "duration": 0.63044,
     "end_time": "2021-07-13T06:14:51.117285",
     "exception": false,
     "start_time": "2021-07-13T06:14:50.486845",
     "status": "completed"
    },
    "tags": []
   },
   "outputs": [],
   "source": [
    "cm = confusion_matrix(y_test, lgb_pred)\n",
    "plt.figure()\n",
    "plot_confusion_matrix(cm, figsize=(12,8), hide_ticks=True, cmap=plt.cm.Blues)\n",
    "plt.title(\"LGBMClassifier Model - Confusion Matrix\")\n",
    "plt.xticks(range(2), [\"Heart Not Failed\",\"Heart Fail\"], fontsize=16)\n",
    "plt.yticks(range(2), [\"Heart Not Failed\",\"Heart Fail\"], fontsize=16)\n",
    "plt.show()"
   ]
  },
  {
   "cell_type": "code",
   "execution_count": null,
   "metadata": {
    "execution": {
     "iopub.execute_input": "2021-07-13T06:14:51.814920Z",
     "iopub.status.busy": "2021-07-13T06:14:51.814270Z",
     "iopub.status.idle": "2021-07-13T06:14:51.817242Z",
     "shell.execute_reply": "2021-07-13T06:14:51.816804Z",
     "shell.execute_reply.started": "2021-07-13T06:06:45.310462Z"
    },
    "papermill": {
     "duration": 0.372968,
     "end_time": "2021-07-13T06:14:51.817333",
     "exception": false,
     "start_time": "2021-07-13T06:14:51.444365",
     "status": "completed"
    },
    "tags": []
   },
   "outputs": [],
   "source": [
    "model_list = ['Logistic Regression', 'SVC','KNearestNeighbours', 'DecisionTree', 'RandomForest',\n",
    "              'GradientBooster', 'XGBRF','LGBM']"
   ]
  },
  {
   "cell_type": "code",
   "execution_count": null,
   "metadata": {
    "execution": {
     "iopub.execute_input": "2021-07-13T06:14:52.468905Z",
     "iopub.status.busy": "2021-07-13T06:14:52.468387Z",
     "iopub.status.idle": "2021-07-13T06:14:52.672921Z",
     "shell.execute_reply": "2021-07-13T06:14:52.673330Z",
     "shell.execute_reply.started": "2021-07-13T06:06:53.183535Z"
    },
    "papermill": {
     "duration": 0.529665,
     "end_time": "2021-07-13T06:14:52.673466",
     "exception": false,
     "start_time": "2021-07-13T06:14:52.143801",
     "status": "completed"
    },
    "tags": []
   },
   "outputs": [],
   "source": [
    "plt.rcParams['figure.figsize']=20,8\n",
    "sns.set_style('darkgrid')\n",
    "ax = sns.barplot(x=model_list, y=accuracy_list, palette = \"husl\", saturation =2.0)\n",
    "plt.xlabel('Classifier Models', fontsize = 20 )\n",
    "plt.ylabel('% of Accuracy', fontsize = 20)\n",
    "plt.title('Accuracy of different Classifier Models', fontsize = 20)\n",
    "plt.xticks(fontsize = 12, horizontalalignment = 'center', rotation = 8)\n",
    "plt.yticks(fontsize = 12)\n",
    "for i in ax.patches:\n",
    "    width, height = i.get_width(), i.get_height()\n",
    "    x, y = i.get_xy() \n",
    "    ax.annotate(f'{round(height,2)}%', (x + width/2, y + height*1.02), ha='center', fontsize = 'x-large')\n",
    "plt.show()"
   ]
  },
  {
   "cell_type": "markdown",
   "metadata": {
    "papermill": {
     "duration": 0.336559,
     "end_time": "2021-07-13T06:14:53.328838",
     "exception": false,
     "start_time": "2021-07-13T06:14:52.992279",
     "status": "completed"
    },
    "tags": []
   },
   "source": [
    "# Accuracy of different classifier models"
   ]
  },
  {
   "cell_type": "markdown",
   "metadata": {
    "papermill": {
     "duration": 0.336829,
     "end_time": "2021-07-13T06:14:54.066706",
     "exception": false,
     "start_time": "2021-07-13T06:14:53.729877",
     "status": "completed"
    },
    "tags": []
   },
   "source": [
    "* Gradient Booster Classifier: 93.33%\n",
    "* XGBRFClassifier: 93.33%\n",
    "* KNeighborsClassifier: 91.67%\n",
    "* LGBMClassifier: 91.67%\n",
    "* Random Forest Classifier: 90.00%\n",
    "* DecisionTreeClassifier: 90.00%\n",
    "* SVC: 90.00%\n",
    "* Logistic Regression: 90.00%"
   ]
  }
 ],
 "metadata": {
  "kernelspec": {
   "display_name": "Python 3",
   "language": "python",
   "name": "python3"
  },
  "language_info": {
   "codemirror_mode": {
    "name": "ipython",
    "version": 3
   },
   "file_extension": ".py",
   "mimetype": "text/x-python",
   "name": "python",
   "nbconvert_exporter": "python",
   "pygments_lexer": "ipython3",
   "version": "3.8.5"
  },
  "papermill": {
   "duration": 67.507843,
   "end_time": "2021-07-13T06:14:54.508125",
   "environment_variables": {},
   "exception": null,
   "input_path": "__notebook__.ipynb",
   "output_path": "__notebook__.ipynb",
   "parameters": {},
   "start_time": "2021-07-13T06:13:47.000282",
   "version": "2.1.0"
  }
 },
 "nbformat": 4,
 "nbformat_minor": 4
}
